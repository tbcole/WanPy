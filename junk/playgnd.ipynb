{
 "cells": [
  {
   "cell_type": "code",
   "execution_count": 1,
   "metadata": {},
   "outputs": [],
   "source": [
    "import numpy as np\n",
    "from pythtb import *\n",
    "from itertools import product"
   ]
  },
  {
   "cell_type": "markdown",
   "metadata": {},
   "source": [
    "Notice difference in indicing. The first gets the first element of all the rows, and the second gets the elements of the first row"
   ]
  },
  {
   "cell_type": "code",
   "execution_count": 2,
   "metadata": {},
   "outputs": [
    {
     "data": {
      "text/plain": [
       "array([[1, 2],\n",
       "       [3, 4]])"
      ]
     },
     "execution_count": 2,
     "metadata": {},
     "output_type": "execute_result"
    }
   ],
   "source": [
    "A = np.array([[1, 2], [3, 4]])\n",
    "A"
   ]
  },
  {
   "cell_type": "code",
   "execution_count": 3,
   "metadata": {},
   "outputs": [
    {
     "data": {
      "text/plain": [
       "array([1, 3])"
      ]
     },
     "execution_count": 3,
     "metadata": {},
     "output_type": "execute_result"
    }
   ],
   "source": [
    "A[:, 0]\n"
   ]
  },
  {
   "cell_type": "code",
   "execution_count": 4,
   "metadata": {},
   "outputs": [
    {
     "data": {
      "text/plain": [
       "array([1, 2])"
      ]
     },
     "execution_count": 4,
     "metadata": {},
     "output_type": "execute_result"
    }
   ],
   "source": [
    "A[:][0]\n"
   ]
  },
  {
   "cell_type": "code",
   "execution_count": 17,
   "metadata": {},
   "outputs": [],
   "source": [
    "nks = 20, 20"
   ]
  },
  {
   "cell_type": "code",
   "execution_count": 20,
   "metadata": {},
   "outputs": [],
   "source": [
    "k_vals = [range(nk) for nk in nks]\n",
    "k_idx_arr = np.array(list(product(*k_vals)))"
   ]
  },
  {
   "cell_type": "code",
   "execution_count": 21,
   "metadata": {},
   "outputs": [
    {
     "name": "stdout",
     "output_type": "stream",
     "text": [
      "[0 0]\n",
      "[0 1]\n",
      "[0 2]\n",
      "[0 3]\n",
      "[0 4]\n",
      "[0 5]\n",
      "[0 6]\n",
      "[0 7]\n",
      "[0 8]\n",
      "[0 9]\n",
      "[ 0 10]\n",
      "[ 0 11]\n",
      "[ 0 12]\n",
      "[ 0 13]\n",
      "[ 0 14]\n",
      "[ 0 15]\n",
      "[ 0 16]\n",
      "[ 0 17]\n",
      "[ 0 18]\n",
      "[ 0 19]\n",
      "[1 0]\n",
      "[1 1]\n",
      "[1 2]\n",
      "[1 3]\n",
      "[1 4]\n",
      "[1 5]\n",
      "[1 6]\n",
      "[1 7]\n",
      "[1 8]\n",
      "[1 9]\n",
      "[ 1 10]\n",
      "[ 1 11]\n",
      "[ 1 12]\n",
      "[ 1 13]\n",
      "[ 1 14]\n",
      "[ 1 15]\n",
      "[ 1 16]\n",
      "[ 1 17]\n",
      "[ 1 18]\n",
      "[ 1 19]\n",
      "[2 0]\n",
      "[2 1]\n",
      "[2 2]\n",
      "[2 3]\n",
      "[2 4]\n",
      "[2 5]\n",
      "[2 6]\n",
      "[2 7]\n",
      "[2 8]\n",
      "[2 9]\n",
      "[ 2 10]\n",
      "[ 2 11]\n",
      "[ 2 12]\n",
      "[ 2 13]\n",
      "[ 2 14]\n",
      "[ 2 15]\n",
      "[ 2 16]\n",
      "[ 2 17]\n",
      "[ 2 18]\n",
      "[ 2 19]\n",
      "[3 0]\n",
      "[3 1]\n",
      "[3 2]\n",
      "[3 3]\n",
      "[3 4]\n",
      "[3 5]\n",
      "[3 6]\n",
      "[3 7]\n",
      "[3 8]\n",
      "[3 9]\n",
      "[ 3 10]\n",
      "[ 3 11]\n",
      "[ 3 12]\n",
      "[ 3 13]\n",
      "[ 3 14]\n",
      "[ 3 15]\n",
      "[ 3 16]\n",
      "[ 3 17]\n",
      "[ 3 18]\n",
      "[ 3 19]\n",
      "[4 0]\n",
      "[4 1]\n",
      "[4 2]\n",
      "[4 3]\n",
      "[4 4]\n",
      "[4 5]\n",
      "[4 6]\n",
      "[4 7]\n",
      "[4 8]\n",
      "[4 9]\n",
      "[ 4 10]\n",
      "[ 4 11]\n",
      "[ 4 12]\n",
      "[ 4 13]\n",
      "[ 4 14]\n",
      "[ 4 15]\n",
      "[ 4 16]\n",
      "[ 4 17]\n",
      "[ 4 18]\n",
      "[ 4 19]\n",
      "[5 0]\n",
      "[5 1]\n",
      "[5 2]\n",
      "[5 3]\n",
      "[5 4]\n",
      "[5 5]\n",
      "[5 6]\n",
      "[5 7]\n",
      "[5 8]\n",
      "[5 9]\n",
      "[ 5 10]\n",
      "[ 5 11]\n",
      "[ 5 12]\n",
      "[ 5 13]\n",
      "[ 5 14]\n",
      "[ 5 15]\n",
      "[ 5 16]\n",
      "[ 5 17]\n",
      "[ 5 18]\n",
      "[ 5 19]\n",
      "[6 0]\n",
      "[6 1]\n",
      "[6 2]\n",
      "[6 3]\n",
      "[6 4]\n",
      "[6 5]\n",
      "[6 6]\n",
      "[6 7]\n",
      "[6 8]\n",
      "[6 9]\n",
      "[ 6 10]\n",
      "[ 6 11]\n",
      "[ 6 12]\n",
      "[ 6 13]\n",
      "[ 6 14]\n",
      "[ 6 15]\n",
      "[ 6 16]\n",
      "[ 6 17]\n",
      "[ 6 18]\n",
      "[ 6 19]\n",
      "[7 0]\n",
      "[7 1]\n",
      "[7 2]\n",
      "[7 3]\n",
      "[7 4]\n",
      "[7 5]\n",
      "[7 6]\n",
      "[7 7]\n",
      "[7 8]\n",
      "[7 9]\n",
      "[ 7 10]\n",
      "[ 7 11]\n",
      "[ 7 12]\n",
      "[ 7 13]\n",
      "[ 7 14]\n",
      "[ 7 15]\n",
      "[ 7 16]\n",
      "[ 7 17]\n",
      "[ 7 18]\n",
      "[ 7 19]\n",
      "[8 0]\n",
      "[8 1]\n",
      "[8 2]\n",
      "[8 3]\n",
      "[8 4]\n",
      "[8 5]\n",
      "[8 6]\n",
      "[8 7]\n",
      "[8 8]\n",
      "[8 9]\n",
      "[ 8 10]\n",
      "[ 8 11]\n",
      "[ 8 12]\n",
      "[ 8 13]\n",
      "[ 8 14]\n",
      "[ 8 15]\n",
      "[ 8 16]\n",
      "[ 8 17]\n",
      "[ 8 18]\n",
      "[ 8 19]\n",
      "[9 0]\n",
      "[9 1]\n",
      "[9 2]\n",
      "[9 3]\n",
      "[9 4]\n",
      "[9 5]\n",
      "[9 6]\n",
      "[9 7]\n",
      "[9 8]\n",
      "[9 9]\n",
      "[ 9 10]\n",
      "[ 9 11]\n",
      "[ 9 12]\n",
      "[ 9 13]\n",
      "[ 9 14]\n",
      "[ 9 15]\n",
      "[ 9 16]\n",
      "[ 9 17]\n",
      "[ 9 18]\n",
      "[ 9 19]\n",
      "[10  0]\n",
      "[10  1]\n",
      "[10  2]\n",
      "[10  3]\n",
      "[10  4]\n",
      "[10  5]\n",
      "[10  6]\n",
      "[10  7]\n",
      "[10  8]\n",
      "[10  9]\n",
      "[10 10]\n",
      "[10 11]\n",
      "[10 12]\n",
      "[10 13]\n",
      "[10 14]\n",
      "[10 15]\n",
      "[10 16]\n",
      "[10 17]\n",
      "[10 18]\n",
      "[10 19]\n",
      "[11  0]\n",
      "[11  1]\n",
      "[11  2]\n",
      "[11  3]\n",
      "[11  4]\n",
      "[11  5]\n",
      "[11  6]\n",
      "[11  7]\n",
      "[11  8]\n",
      "[11  9]\n",
      "[11 10]\n",
      "[11 11]\n",
      "[11 12]\n",
      "[11 13]\n",
      "[11 14]\n",
      "[11 15]\n",
      "[11 16]\n",
      "[11 17]\n",
      "[11 18]\n",
      "[11 19]\n",
      "[12  0]\n",
      "[12  1]\n",
      "[12  2]\n",
      "[12  3]\n",
      "[12  4]\n",
      "[12  5]\n",
      "[12  6]\n",
      "[12  7]\n",
      "[12  8]\n",
      "[12  9]\n",
      "[12 10]\n",
      "[12 11]\n",
      "[12 12]\n",
      "[12 13]\n",
      "[12 14]\n",
      "[12 15]\n",
      "[12 16]\n",
      "[12 17]\n",
      "[12 18]\n",
      "[12 19]\n",
      "[13  0]\n",
      "[13  1]\n",
      "[13  2]\n",
      "[13  3]\n",
      "[13  4]\n",
      "[13  5]\n",
      "[13  6]\n",
      "[13  7]\n",
      "[13  8]\n",
      "[13  9]\n",
      "[13 10]\n",
      "[13 11]\n",
      "[13 12]\n",
      "[13 13]\n",
      "[13 14]\n",
      "[13 15]\n",
      "[13 16]\n",
      "[13 17]\n",
      "[13 18]\n",
      "[13 19]\n",
      "[14  0]\n",
      "[14  1]\n",
      "[14  2]\n",
      "[14  3]\n",
      "[14  4]\n",
      "[14  5]\n",
      "[14  6]\n",
      "[14  7]\n",
      "[14  8]\n",
      "[14  9]\n",
      "[14 10]\n",
      "[14 11]\n",
      "[14 12]\n",
      "[14 13]\n",
      "[14 14]\n",
      "[14 15]\n",
      "[14 16]\n",
      "[14 17]\n",
      "[14 18]\n",
      "[14 19]\n",
      "[15  0]\n",
      "[15  1]\n",
      "[15  2]\n",
      "[15  3]\n",
      "[15  4]\n",
      "[15  5]\n",
      "[15  6]\n",
      "[15  7]\n",
      "[15  8]\n",
      "[15  9]\n",
      "[15 10]\n",
      "[15 11]\n",
      "[15 12]\n",
      "[15 13]\n",
      "[15 14]\n",
      "[15 15]\n",
      "[15 16]\n",
      "[15 17]\n",
      "[15 18]\n",
      "[15 19]\n",
      "[16  0]\n",
      "[16  1]\n",
      "[16  2]\n",
      "[16  3]\n",
      "[16  4]\n",
      "[16  5]\n",
      "[16  6]\n",
      "[16  7]\n",
      "[16  8]\n",
      "[16  9]\n",
      "[16 10]\n",
      "[16 11]\n",
      "[16 12]\n",
      "[16 13]\n",
      "[16 14]\n",
      "[16 15]\n",
      "[16 16]\n",
      "[16 17]\n",
      "[16 18]\n",
      "[16 19]\n",
      "[17  0]\n",
      "[17  1]\n",
      "[17  2]\n",
      "[17  3]\n",
      "[17  4]\n",
      "[17  5]\n",
      "[17  6]\n",
      "[17  7]\n",
      "[17  8]\n",
      "[17  9]\n",
      "[17 10]\n",
      "[17 11]\n",
      "[17 12]\n",
      "[17 13]\n",
      "[17 14]\n",
      "[17 15]\n",
      "[17 16]\n",
      "[17 17]\n",
      "[17 18]\n",
      "[17 19]\n",
      "[18  0]\n",
      "[18  1]\n",
      "[18  2]\n",
      "[18  3]\n",
      "[18  4]\n",
      "[18  5]\n",
      "[18  6]\n",
      "[18  7]\n",
      "[18  8]\n",
      "[18  9]\n",
      "[18 10]\n",
      "[18 11]\n",
      "[18 12]\n",
      "[18 13]\n",
      "[18 14]\n",
      "[18 15]\n",
      "[18 16]\n",
      "[18 17]\n",
      "[18 18]\n",
      "[18 19]\n",
      "[19  0]\n",
      "[19  1]\n",
      "[19  2]\n",
      "[19  3]\n",
      "[19  4]\n",
      "[19  5]\n",
      "[19  6]\n",
      "[19  7]\n",
      "[19  8]\n",
      "[19  9]\n",
      "[19 10]\n",
      "[19 11]\n",
      "[19 12]\n",
      "[19 13]\n",
      "[19 14]\n",
      "[19 15]\n",
      "[19 16]\n",
      "[19 17]\n",
      "[19 18]\n",
      "[19 19]\n"
     ]
    }
   ],
   "source": [
    "for k in k_idx_arr:\n",
    "    print (k)"
   ]
  },
  {
   "cell_type": "markdown",
   "metadata": {},
   "source": [
    "Matrix Exponential"
   ]
  },
  {
   "cell_type": "code",
   "execution_count": 2,
   "metadata": {},
   "outputs": [],
   "source": [
    "import numpy as np"
   ]
  },
  {
   "cell_type": "code",
   "execution_count": 3,
   "metadata": {},
   "outputs": [
    {
     "data": {
      "text/plain": [
       "array([[0.99885118, 0.51733729, 1.1659964 ],\n",
       "       [0.51733729, 0.27723193, 1.66733424],\n",
       "       [1.1659964 , 1.66733424, 1.66017731]])"
      ]
     },
     "execution_count": 3,
     "metadata": {},
     "output_type": "execute_result"
    }
   ],
   "source": [
    "M = np.random.random((3,3))\n",
    "\n",
    "M = M + M.conj().T\n",
    "M"
   ]
  },
  {
   "cell_type": "code",
   "execution_count": 4,
   "metadata": {},
   "outputs": [],
   "source": [
    "eigvals, eigvecs = np.linalg.eig(M)\n",
    "U = np.transpose(eigvecs, axes=(1,0)) # [orb, num_evecs]"
   ]
  },
  {
   "cell_type": "code",
   "execution_count": 5,
   "metadata": {},
   "outputs": [
    {
     "data": {
      "text/plain": [
       "array([[ 1.00000000e+00,  4.47050757e-16, -4.29346910e-17],\n",
       "       [ 4.47050757e-16,  1.00000000e+00,  4.55399643e-17],\n",
       "       [-4.29346910e-17,  4.55399643e-17,  1.00000000e+00]])"
      ]
     },
     "execution_count": 5,
     "metadata": {},
     "output_type": "execute_result"
    }
   ],
   "source": [
    "U@U.conj().T"
   ]
  },
  {
   "cell_type": "code",
   "execution_count": 6,
   "metadata": {},
   "outputs": [
    {
     "data": {
      "text/plain": [
       "array([[ 3.42731,  0.     , -0.     ],\n",
       "       [ 0.     ,  0.37822,  0.     ],\n",
       "       [-0.     ,  0.     , -0.86927]])"
      ]
     },
     "execution_count": 6,
     "metadata": {},
     "output_type": "execute_result"
    }
   ],
   "source": [
    "diagM = (U @ M @ U.conj().T).round(5)\n",
    "diagM"
   ]
  },
  {
   "cell_type": "code",
   "execution_count": 7,
   "metadata": {},
   "outputs": [
    {
     "data": {
      "text/plain": [
       "array([ 3.42731001,  0.37821756, -0.86926715])"
      ]
     },
     "execution_count": 7,
     "metadata": {},
     "output_type": "execute_result"
    }
   ],
   "source": [
    "eigvals"
   ]
  },
  {
   "cell_type": "code",
   "execution_count": 8,
   "metadata": {},
   "outputs": [
    {
     "data": {
      "text/plain": [
       "array([[0.99885298, 0.51733613, 1.16599601],\n",
       "       [0.51733613, 0.2772305 , 1.66733585],\n",
       "       [1.16599601, 1.66733585, 1.66017652]])"
      ]
     },
     "execution_count": 8,
     "metadata": {},
     "output_type": "execute_result"
    }
   ],
   "source": [
    "U.conj().T @ diagM @ U"
   ]
  },
  {
   "cell_type": "code",
   "execution_count": 9,
   "metadata": {},
   "outputs": [
    {
     "data": {
      "text/plain": [
       "array([ 3.42731,  0.37822, -0.86927])"
      ]
     },
     "execution_count": 9,
     "metadata": {},
     "output_type": "execute_result"
    }
   ],
   "source": [
    "np.diag(diagM)"
   ]
  },
  {
   "cell_type": "code",
   "execution_count": 10,
   "metadata": {},
   "outputs": [
    {
     "data": {
      "text/plain": [
       "array([[30.79369619,  0.        ,  0.        ],\n",
       "       [ 0.        ,  1.45968404,  0.        ],\n",
       "       [ 0.        ,  0.        ,  0.4192575 ]])"
      ]
     },
     "execution_count": 10,
     "metadata": {},
     "output_type": "execute_result"
    }
   ],
   "source": [
    "exp_diagM = np.diag(np.exp(np.diag(diagM)))\n",
    "exp_diagM"
   ]
  },
  {
   "cell_type": "code",
   "execution_count": 11,
   "metadata": {},
   "outputs": [
    {
     "data": {
      "text/plain": [
       "array([[ 7.67594029,  6.27674647, 10.24772604],\n",
       "       [ 6.27674647,  7.371152  , 10.90452925],\n",
       "       [10.24772604, 10.90452925, 17.62554543]])"
      ]
     },
     "execution_count": 11,
     "metadata": {},
     "output_type": "execute_result"
    }
   ],
   "source": [
    "expM = U.conj().T @ exp_diagM @ U\n",
    "expM"
   ]
  },
  {
   "cell_type": "code",
   "execution_count": 12,
   "metadata": {},
   "outputs": [
    {
     "data": {
      "text/plain": [
       "array([[ 7.67593766,  6.27674788, 10.24772696],\n",
       "       [ 6.27674788,  7.37115229, 10.90452839],\n",
       "       [10.24772696, 10.90452839, 17.62554572]])"
      ]
     },
     "execution_count": 12,
     "metadata": {},
     "output_type": "execute_result"
    }
   ],
   "source": [
    "from scipy.linalg import expm\n",
    "\n",
    "expm(M)"
   ]
  }
 ],
 "metadata": {
  "kernelspec": {
   "display_name": "rutgers",
   "language": "python",
   "name": "python3"
  },
  "language_info": {
   "codemirror_mode": {
    "name": "ipython",
    "version": 3
   },
   "file_extension": ".py",
   "mimetype": "text/x-python",
   "name": "python",
   "nbconvert_exporter": "python",
   "pygments_lexer": "ipython3",
   "version": "3.9.7"
  }
 },
 "nbformat": 4,
 "nbformat_minor": 2
}
