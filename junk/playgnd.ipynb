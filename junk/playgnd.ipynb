{
 "cells": [
  {
   "cell_type": "code",
   "execution_count": 2,
   "metadata": {},
   "outputs": [],
   "source": [
    "import numpy as np\n",
    "from pythtb import *\n",
    "from itertools import product"
   ]
  },
  {
   "cell_type": "code",
   "execution_count": 4,
   "metadata": {},
   "outputs": [],
   "source": [
    "x = 15"
   ]
  },
  {
   "cell_type": "code",
   "execution_count": 5,
   "metadata": {},
   "outputs": [],
   "source": [
    "y = 5"
   ]
  },
  {
   "cell_type": "code",
   "execution_count": 13,
   "metadata": {},
   "outputs": [
    {
     "data": {
      "text/plain": [
       "30"
      ]
     },
     "execution_count": 13,
     "metadata": {},
     "output_type": "execute_result"
    }
   ],
   "source": [
    "x+y"
   ]
  },
  {
   "cell_type": "markdown",
   "metadata": {},
   "source": [
    "Notice difference in indicing. The first gets the first element of all the rows, and the second gets the elements of the first row"
   ]
  },
  {
   "cell_type": "code",
   "execution_count": 2,
   "metadata": {},
   "outputs": [
    {
     "data": {
      "text/plain": [
       "array([[1, 2],\n",
       "       [3, 4]])"
      ]
     },
     "execution_count": 2,
     "metadata": {},
     "output_type": "execute_result"
    }
   ],
   "source": [
    "A = np.array([[1, 2], [3, 4]])\n",
    "A"
   ]
  },
  {
   "cell_type": "code",
   "execution_count": 3,
   "metadata": {},
   "outputs": [
    {
     "data": {
      "text/plain": [
       "array([1, 3])"
      ]
     },
     "execution_count": 3,
     "metadata": {},
     "output_type": "execute_result"
    }
   ],
   "source": [
    "A[:, 0]"
   ]
  },
  {
   "cell_type": "code",
   "execution_count": 4,
   "metadata": {},
   "outputs": [
    {
     "data": {
      "text/plain": [
       "array([1, 2])"
      ]
     },
     "execution_count": 4,
     "metadata": {},
     "output_type": "execute_result"
    }
   ],
   "source": [
    "A[:][0]\n"
   ]
  },
  {
   "cell_type": "code",
   "execution_count": 17,
   "metadata": {},
   "outputs": [],
   "source": [
    "nks = 20, 20"
   ]
  },
  {
   "cell_type": "code",
   "execution_count": 20,
   "metadata": {},
   "outputs": [],
   "source": [
    "k_vals = [range(nk) for nk in nks]\n",
    "k_idx_arr = np.array(list(product(*k_vals)))"
   ]
  },
  {
   "cell_type": "code",
   "execution_count": 21,
   "metadata": {},
   "outputs": [
    {
     "name": "stdout",
     "output_type": "stream",
     "text": [
      "[0 0]\n",
      "[0 1]\n",
      "[0 2]\n",
      "[0 3]\n",
      "[0 4]\n",
      "[0 5]\n",
      "[0 6]\n",
      "[0 7]\n",
      "[0 8]\n",
      "[0 9]\n",
      "[ 0 10]\n",
      "[ 0 11]\n",
      "[ 0 12]\n",
      "[ 0 13]\n",
      "[ 0 14]\n",
      "[ 0 15]\n",
      "[ 0 16]\n",
      "[ 0 17]\n",
      "[ 0 18]\n",
      "[ 0 19]\n",
      "[1 0]\n",
      "[1 1]\n",
      "[1 2]\n",
      "[1 3]\n",
      "[1 4]\n",
      "[1 5]\n",
      "[1 6]\n",
      "[1 7]\n",
      "[1 8]\n",
      "[1 9]\n",
      "[ 1 10]\n",
      "[ 1 11]\n",
      "[ 1 12]\n",
      "[ 1 13]\n",
      "[ 1 14]\n",
      "[ 1 15]\n",
      "[ 1 16]\n",
      "[ 1 17]\n",
      "[ 1 18]\n",
      "[ 1 19]\n",
      "[2 0]\n",
      "[2 1]\n",
      "[2 2]\n",
      "[2 3]\n",
      "[2 4]\n",
      "[2 5]\n",
      "[2 6]\n",
      "[2 7]\n",
      "[2 8]\n",
      "[2 9]\n",
      "[ 2 10]\n",
      "[ 2 11]\n",
      "[ 2 12]\n",
      "[ 2 13]\n",
      "[ 2 14]\n",
      "[ 2 15]\n",
      "[ 2 16]\n",
      "[ 2 17]\n",
      "[ 2 18]\n",
      "[ 2 19]\n",
      "[3 0]\n",
      "[3 1]\n",
      "[3 2]\n",
      "[3 3]\n",
      "[3 4]\n",
      "[3 5]\n",
      "[3 6]\n",
      "[3 7]\n",
      "[3 8]\n",
      "[3 9]\n",
      "[ 3 10]\n",
      "[ 3 11]\n",
      "[ 3 12]\n",
      "[ 3 13]\n",
      "[ 3 14]\n",
      "[ 3 15]\n",
      "[ 3 16]\n",
      "[ 3 17]\n",
      "[ 3 18]\n",
      "[ 3 19]\n",
      "[4 0]\n",
      "[4 1]\n",
      "[4 2]\n",
      "[4 3]\n",
      "[4 4]\n",
      "[4 5]\n",
      "[4 6]\n",
      "[4 7]\n",
      "[4 8]\n",
      "[4 9]\n",
      "[ 4 10]\n",
      "[ 4 11]\n",
      "[ 4 12]\n",
      "[ 4 13]\n",
      "[ 4 14]\n",
      "[ 4 15]\n",
      "[ 4 16]\n",
      "[ 4 17]\n",
      "[ 4 18]\n",
      "[ 4 19]\n",
      "[5 0]\n",
      "[5 1]\n",
      "[5 2]\n",
      "[5 3]\n",
      "[5 4]\n",
      "[5 5]\n",
      "[5 6]\n",
      "[5 7]\n",
      "[5 8]\n",
      "[5 9]\n",
      "[ 5 10]\n",
      "[ 5 11]\n",
      "[ 5 12]\n",
      "[ 5 13]\n",
      "[ 5 14]\n",
      "[ 5 15]\n",
      "[ 5 16]\n",
      "[ 5 17]\n",
      "[ 5 18]\n",
      "[ 5 19]\n",
      "[6 0]\n",
      "[6 1]\n",
      "[6 2]\n",
      "[6 3]\n",
      "[6 4]\n",
      "[6 5]\n",
      "[6 6]\n",
      "[6 7]\n",
      "[6 8]\n",
      "[6 9]\n",
      "[ 6 10]\n",
      "[ 6 11]\n",
      "[ 6 12]\n",
      "[ 6 13]\n",
      "[ 6 14]\n",
      "[ 6 15]\n",
      "[ 6 16]\n",
      "[ 6 17]\n",
      "[ 6 18]\n",
      "[ 6 19]\n",
      "[7 0]\n",
      "[7 1]\n",
      "[7 2]\n",
      "[7 3]\n",
      "[7 4]\n",
      "[7 5]\n",
      "[7 6]\n",
      "[7 7]\n",
      "[7 8]\n",
      "[7 9]\n",
      "[ 7 10]\n",
      "[ 7 11]\n",
      "[ 7 12]\n",
      "[ 7 13]\n",
      "[ 7 14]\n",
      "[ 7 15]\n",
      "[ 7 16]\n",
      "[ 7 17]\n",
      "[ 7 18]\n",
      "[ 7 19]\n",
      "[8 0]\n",
      "[8 1]\n",
      "[8 2]\n",
      "[8 3]\n",
      "[8 4]\n",
      "[8 5]\n",
      "[8 6]\n",
      "[8 7]\n",
      "[8 8]\n",
      "[8 9]\n",
      "[ 8 10]\n",
      "[ 8 11]\n",
      "[ 8 12]\n",
      "[ 8 13]\n",
      "[ 8 14]\n",
      "[ 8 15]\n",
      "[ 8 16]\n",
      "[ 8 17]\n",
      "[ 8 18]\n",
      "[ 8 19]\n",
      "[9 0]\n",
      "[9 1]\n",
      "[9 2]\n",
      "[9 3]\n",
      "[9 4]\n",
      "[9 5]\n",
      "[9 6]\n",
      "[9 7]\n",
      "[9 8]\n",
      "[9 9]\n",
      "[ 9 10]\n",
      "[ 9 11]\n",
      "[ 9 12]\n",
      "[ 9 13]\n",
      "[ 9 14]\n",
      "[ 9 15]\n",
      "[ 9 16]\n",
      "[ 9 17]\n",
      "[ 9 18]\n",
      "[ 9 19]\n",
      "[10  0]\n",
      "[10  1]\n",
      "[10  2]\n",
      "[10  3]\n",
      "[10  4]\n",
      "[10  5]\n",
      "[10  6]\n",
      "[10  7]\n",
      "[10  8]\n",
      "[10  9]\n",
      "[10 10]\n",
      "[10 11]\n",
      "[10 12]\n",
      "[10 13]\n",
      "[10 14]\n",
      "[10 15]\n",
      "[10 16]\n",
      "[10 17]\n",
      "[10 18]\n",
      "[10 19]\n",
      "[11  0]\n",
      "[11  1]\n",
      "[11  2]\n",
      "[11  3]\n",
      "[11  4]\n",
      "[11  5]\n",
      "[11  6]\n",
      "[11  7]\n",
      "[11  8]\n",
      "[11  9]\n",
      "[11 10]\n",
      "[11 11]\n",
      "[11 12]\n",
      "[11 13]\n",
      "[11 14]\n",
      "[11 15]\n",
      "[11 16]\n",
      "[11 17]\n",
      "[11 18]\n",
      "[11 19]\n",
      "[12  0]\n",
      "[12  1]\n",
      "[12  2]\n",
      "[12  3]\n",
      "[12  4]\n",
      "[12  5]\n",
      "[12  6]\n",
      "[12  7]\n",
      "[12  8]\n",
      "[12  9]\n",
      "[12 10]\n",
      "[12 11]\n",
      "[12 12]\n",
      "[12 13]\n",
      "[12 14]\n",
      "[12 15]\n",
      "[12 16]\n",
      "[12 17]\n",
      "[12 18]\n",
      "[12 19]\n",
      "[13  0]\n",
      "[13  1]\n",
      "[13  2]\n",
      "[13  3]\n",
      "[13  4]\n",
      "[13  5]\n",
      "[13  6]\n",
      "[13  7]\n",
      "[13  8]\n",
      "[13  9]\n",
      "[13 10]\n",
      "[13 11]\n",
      "[13 12]\n",
      "[13 13]\n",
      "[13 14]\n",
      "[13 15]\n",
      "[13 16]\n",
      "[13 17]\n",
      "[13 18]\n",
      "[13 19]\n",
      "[14  0]\n",
      "[14  1]\n",
      "[14  2]\n",
      "[14  3]\n",
      "[14  4]\n",
      "[14  5]\n",
      "[14  6]\n",
      "[14  7]\n",
      "[14  8]\n",
      "[14  9]\n",
      "[14 10]\n",
      "[14 11]\n",
      "[14 12]\n",
      "[14 13]\n",
      "[14 14]\n",
      "[14 15]\n",
      "[14 16]\n",
      "[14 17]\n",
      "[14 18]\n",
      "[14 19]\n",
      "[15  0]\n",
      "[15  1]\n",
      "[15  2]\n",
      "[15  3]\n",
      "[15  4]\n",
      "[15  5]\n",
      "[15  6]\n",
      "[15  7]\n",
      "[15  8]\n",
      "[15  9]\n",
      "[15 10]\n",
      "[15 11]\n",
      "[15 12]\n",
      "[15 13]\n",
      "[15 14]\n",
      "[15 15]\n",
      "[15 16]\n",
      "[15 17]\n",
      "[15 18]\n",
      "[15 19]\n",
      "[16  0]\n",
      "[16  1]\n",
      "[16  2]\n",
      "[16  3]\n",
      "[16  4]\n",
      "[16  5]\n",
      "[16  6]\n",
      "[16  7]\n",
      "[16  8]\n",
      "[16  9]\n",
      "[16 10]\n",
      "[16 11]\n",
      "[16 12]\n",
      "[16 13]\n",
      "[16 14]\n",
      "[16 15]\n",
      "[16 16]\n",
      "[16 17]\n",
      "[16 18]\n",
      "[16 19]\n",
      "[17  0]\n",
      "[17  1]\n",
      "[17  2]\n",
      "[17  3]\n",
      "[17  4]\n",
      "[17  5]\n",
      "[17  6]\n",
      "[17  7]\n",
      "[17  8]\n",
      "[17  9]\n",
      "[17 10]\n",
      "[17 11]\n",
      "[17 12]\n",
      "[17 13]\n",
      "[17 14]\n",
      "[17 15]\n",
      "[17 16]\n",
      "[17 17]\n",
      "[17 18]\n",
      "[17 19]\n",
      "[18  0]\n",
      "[18  1]\n",
      "[18  2]\n",
      "[18  3]\n",
      "[18  4]\n",
      "[18  5]\n",
      "[18  6]\n",
      "[18  7]\n",
      "[18  8]\n",
      "[18  9]\n",
      "[18 10]\n",
      "[18 11]\n",
      "[18 12]\n",
      "[18 13]\n",
      "[18 14]\n",
      "[18 15]\n",
      "[18 16]\n",
      "[18 17]\n",
      "[18 18]\n",
      "[18 19]\n",
      "[19  0]\n",
      "[19  1]\n",
      "[19  2]\n",
      "[19  3]\n",
      "[19  4]\n",
      "[19  5]\n",
      "[19  6]\n",
      "[19  7]\n",
      "[19  8]\n",
      "[19  9]\n",
      "[19 10]\n",
      "[19 11]\n",
      "[19 12]\n",
      "[19 13]\n",
      "[19 14]\n",
      "[19 15]\n",
      "[19 16]\n",
      "[19 17]\n",
      "[19 18]\n",
      "[19 19]\n"
     ]
    }
   ],
   "source": [
    "for k in k_idx_arr:\n",
    "    print (k)"
   ]
  },
  {
   "cell_type": "markdown",
   "metadata": {},
   "source": [
    "$ x+y=z$\n",
    "$$\\psi_{n,k}$$"
   ]
  },
  {
   "cell_type": "markdown",
   "metadata": {},
   "source": [
    "Matrix Exponential"
   ]
  },
  {
   "cell_type": "code",
   "execution_count": 1,
   "metadata": {},
   "outputs": [],
   "source": [
    "import numpy as np"
   ]
  },
  {
   "cell_type": "code",
   "execution_count": 18,
   "metadata": {},
   "outputs": [
    {
     "data": {
      "text/plain": [
       "5"
      ]
     },
     "execution_count": 18,
     "metadata": {},
     "output_type": "execute_result"
    }
   ],
   "source": [
    "def add(x, y):\n",
    "    return x+y\n",
    "\n",
    "add(2, 3)"
   ]
  },
  {
   "cell_type": "code",
   "execution_count": 20,
   "metadata": {},
   "outputs": [
    {
     "data": {
      "text/plain": [
       "-1"
      ]
     },
     "execution_count": 20,
     "metadata": {},
     "output_type": "execute_result"
    }
   ],
   "source": [
    "def add(x,y):\n",
    "    return x-y\n",
    "\n",
    "add(2,3)"
   ]
  },
  {
   "cell_type": "code",
   "execution_count": 21,
   "metadata": {},
   "outputs": [
    {
     "data": {
      "text/plain": [
       "-1"
      ]
     },
     "execution_count": 21,
     "metadata": {},
     "output_type": "execute_result"
    }
   ],
   "source": [
    "add(5, 6)"
   ]
  },
  {
   "cell_type": "code",
   "execution_count": 17,
   "metadata": {},
   "outputs": [],
   "source": [
    "def exp(M):\n",
    "    shape = M.shape\n",
    "    nk = len(shape[:-2])\n",
    "    trans_ax = [i for i in range(nk)] + [nk+1, nk]\n",
    "\n",
    "    _, eigvecs = np.linalg.eig(M)\n",
    "    U = np.transpose(eigvecs, axes=trans_ax) # [orb, num_evecs]\n",
    "    diagM = np.einsum('...ij,...jk->...ik', U, np.einsum('...ij,...jk->...ik', M, np.transpose(U, axes=trans_ax).conj()) )\n",
    "    # print(diagM[0].round(5))\n",
    "    exp_diagM = np.exp(np.diagonal(diagM, axis1=-1, axis2=-2))\n",
    "    expM = np.einsum('...ij, ...jk -> ...ik', np.transpose(U.conj(), axes=trans_ax), np.multiply(U, exp_diagM[..., :, np.newaxis]))\n",
    "    return(expM)\n",
    "\n",
    "def exp2(M):\n",
    "    shape = M.shape\n",
    "    nk = len(shape[:-2])\n",
    "    trans_ax = [i for i in range(nk)] + [nk + 1, nk]\n",
    "\n",
    "    eigvals, eigvecs = np.linalg.eig(M)\n",
    "    U = eigvecs\n",
    "    U_inv = np.linalg.inv(U)\n",
    "\n",
    "    # Diagonal matrix of the exponentials of the eigenvalues\n",
    "    exp_diagM = np.exp(eigvals)\n",
    "\n",
    "    # Construct the matrix exponential\n",
    "    # expM = np.einsum('...ij,...jk,...kl->...il', U, np.diagonal(exp_diagM, axis1=-1, axis2=-2), U_inv)\n",
    "    expM = np.einsum('...ij,...jk->...ik', U, np.multiply(U_inv, exp_diagM[..., :, np.newaxis]))\n",
    "\n",
    "\n",
    "    return expM"
   ]
  },
  {
   "cell_type": "code",
   "execution_count": 18,
   "metadata": {},
   "outputs": [
    {
     "data": {
      "text/plain": [
       "array([[[[ 0.        -0.16747663j,  0.21047385-0.81393551j,\n",
       "           0.11858771-0.51666164j],\n",
       "         [-0.21047385-0.81393551j,  0.        -0.26722116j,\n",
       "          -0.19095513-0.15502305j],\n",
       "         [-0.11858771-0.51666164j,  0.19095513-0.15502305j,\n",
       "           0.        -0.3202433j ]],\n",
       "\n",
       "        [[ 0.        -0.06907967j,  0.30918508-0.52200498j,\n",
       "           0.13709591-0.6969659j ],\n",
       "         [-0.30918508-0.52200498j,  0.        -0.26412257j,\n",
       "           0.10047785-0.40668423j],\n",
       "         [-0.13709591-0.6969659j , -0.10047785-0.40668423j,\n",
       "           0.        -0.10869886j]]],\n",
       "\n",
       "\n",
       "       [[[ 0.        -0.39534781j, -0.02450103-0.75723311j,\n",
       "          -0.13128026-0.07757807j],\n",
       "         [ 0.02450103-0.75723311j,  0.        -0.9599789j ,\n",
       "          -0.04024925-0.64065041j],\n",
       "         [ 0.13128026-0.07757807j,  0.04024925-0.64065041j,\n",
       "           0.        -0.30552566j]],\n",
       "\n",
       "        [[ 0.        -0.41022929j,  0.08774026-0.64637719j,\n",
       "          -0.09885851-0.66106521j],\n",
       "         [-0.08774026-0.64637719j,  0.        -0.34555793j,\n",
       "           0.20741143-0.28819319j],\n",
       "         [ 0.09885851-0.66106521j, -0.20741143-0.28819319j,\n",
       "           0.        -0.82270665j]]]])"
      ]
     },
     "execution_count": 18,
     "metadata": {},
     "output_type": "execute_result"
    }
   ],
   "source": [
    "M = np.array([[np.random.random((3,3)) + np.random.random((3,3))*1j for i in range(2)]for j in range(2)])\n",
    "\n",
    "M = (M + np.transpose(M.conj(), axes=(0, 1, 3, 2)))/2j\n",
    "M"
   ]
  },
  {
   "cell_type": "code",
   "execution_count": 14,
   "metadata": {},
   "outputs": [],
   "source": [
    "# M = np.random.random((3,3)) + np.random.random((3,3))*1j \n",
    "# M = (M + np.transpose(M.conj(), axes=(1, 0)))/2j\n",
    "# M"
   ]
  },
  {
   "cell_type": "code",
   "execution_count": 19,
   "metadata": {},
   "outputs": [
    {
     "data": {
      "text/plain": [
       "array([[[[ 0.68029-0.10403j, -0.28731-0.50306j, -0.23452-0.36846j],\n",
       "         [-0.0067 -0.64191j,  0.73222-0.1914j , -0.03665-0.11744j],\n",
       "         [-0.04881-0.33453j, -0.30104-0.0313j ,  0.85218-0.26057j]],\n",
       "\n",
       "        [[ 0.76883-0.09607j, -0.32027-0.32566j, -0.26198-0.34988j],\n",
       "         [ 0.01227-0.42979j,  0.80182-0.10434j, -0.1724 -0.36278j],\n",
       "         [-0.01598-0.46319j, -0.14603-0.34095j,  0.80266-0.05793j]]],\n",
       "\n",
       "\n",
       "       [[[ 0.71348-0.2395j , -0.4052 -0.50771j, -0.10725-0.01182j],\n",
       "         [-0.40279-0.42353j,  0.28482-0.51524j, -0.32031-0.45738j],\n",
       "         [-0.28894+0.09215j, -0.33243-0.34778j,  0.7968 -0.20412j]],\n",
       "\n",
       "        [[ 0.62979-0.29329j, -0.28674-0.37863j, -0.37531-0.38847j],\n",
       "         [-0.25997-0.302j  ,  0.77853-0.20643j, -0.39982-0.18064j],\n",
       "         [-0.43135-0.41532j, -0.21303-0.2834j ,  0.53974-0.47375j]]]])"
      ]
     },
     "execution_count": 19,
     "metadata": {},
     "output_type": "execute_result"
    }
   ],
   "source": [
    "exp(M).round(5)"
   ]
  },
  {
   "cell_type": "code",
   "execution_count": 20,
   "metadata": {},
   "outputs": [
    {
     "data": {
      "text/plain": [
       "array([[[[ 0.5483 -5.3820e-02j, -0.00826-7.4588e-01j,\n",
       "          -0.06563-3.6845e-01j],\n",
       "         [-0.32514-5.6905e-01j,  0.62876-1.6015e-01j,\n",
       "          -0.386  -2.1860e-02j],\n",
       "         [-0.28548-4.3061e-01j, -0.08382-1.2483e-01j,\n",
       "           0.80475-2.5069e-01j]],\n",
       "\n",
       "        [[ 0.60622+1.7260e-02j,  0.05322-4.4362e-01j,\n",
       "          -0.02053-6.5738e-01j],\n",
       "         [-0.45734-3.7660e-01j,  0.73   -1.6458e-01j,\n",
       "          -0.15204-2.5673e-01j],\n",
       "         [-0.2257 -4.7986e-01j, -0.33555-3.5748e-01j,\n",
       "           0.69109-2.8250e-02j]]],\n",
       "\n",
       "\n",
       "       [[[ 0.7009 -2.2638e-01j, -0.41029-4.3198e-01j,\n",
       "          -0.30247+1.0516e-01j],\n",
       "         [-0.41701-5.2018e-01j,  0.25758-4.9897e-01j,\n",
       "          -0.33739-3.5549e-01j],\n",
       "         [-0.11405-4.0000e-05j, -0.32988-4.7002e-01j,\n",
       "           0.78745-1.9280e-01j]],\n",
       "\n",
       "        [[ 0.57493-1.9341e-01j, -0.15063-4.3217e-01j,\n",
       "          -0.49001-4.2717e-01j],\n",
       "         [-0.36496-5.1161e-01j,  0.72098-2.1558e-01j,\n",
       "          -0.12557-1.5165e-01j],\n",
       "         [-0.28252-3.9659e-01j, -0.46995-5.8190e-02j,\n",
       "           0.49402-5.4277e-01j]]]])"
      ]
     },
     "execution_count": 20,
     "metadata": {},
     "output_type": "execute_result"
    }
   ],
   "source": [
    "exp2(M).round(5)"
   ]
  },
  {
   "cell_type": "code",
   "execution_count": 21,
   "metadata": {},
   "outputs": [
    {
     "data": {
      "text/plain": [
       "array([[[[ 0.5483 -5.3820e-02j, -0.00826-7.4588e-01j,\n",
       "          -0.06563-3.6845e-01j],\n",
       "         [-0.32514-5.6905e-01j,  0.62876-1.6015e-01j,\n",
       "          -0.386  -2.1860e-02j],\n",
       "         [-0.28548-4.3061e-01j, -0.08382-1.2483e-01j,\n",
       "           0.80475-2.5069e-01j]],\n",
       "\n",
       "        [[ 0.60622+1.7260e-02j,  0.05322-4.4362e-01j,\n",
       "          -0.02053-6.5738e-01j],\n",
       "         [-0.45734-3.7660e-01j,  0.73   -1.6458e-01j,\n",
       "          -0.15204-2.5673e-01j],\n",
       "         [-0.2257 -4.7986e-01j, -0.33555-3.5748e-01j,\n",
       "           0.69109-2.8250e-02j]]],\n",
       "\n",
       "\n",
       "       [[[ 0.7009 -2.2638e-01j, -0.41029-4.3198e-01j,\n",
       "          -0.30247+1.0516e-01j],\n",
       "         [-0.41701-5.2018e-01j,  0.25758-4.9897e-01j,\n",
       "          -0.33739-3.5549e-01j],\n",
       "         [-0.11405-4.0000e-05j, -0.32988-4.7002e-01j,\n",
       "           0.78745-1.9280e-01j]],\n",
       "\n",
       "        [[ 0.57493-1.9341e-01j, -0.15063-4.3217e-01j,\n",
       "          -0.49001-4.2717e-01j],\n",
       "         [-0.36496-5.1161e-01j,  0.72098-2.1558e-01j,\n",
       "          -0.12557-1.5165e-01j],\n",
       "         [-0.28252-3.9659e-01j, -0.46995-5.8190e-02j,\n",
       "           0.49402-5.4277e-01j]]]])"
      ]
     },
     "execution_count": 21,
     "metadata": {},
     "output_type": "execute_result"
    }
   ],
   "source": [
    "from scipy.linalg import expm\n",
    "\n",
    "expm(M).round(5)"
   ]
  },
  {
   "cell_type": "code",
   "execution_count": 155,
   "metadata": {},
   "outputs": [
    {
     "name": "stdout",
     "output_type": "stream",
     "text": [
      "25.5 μs ± 561 ns per loop (mean ± std. dev. of 7 runs, 10,000 loops each)\n"
     ]
    }
   ],
   "source": [
    "%timeit exp2(M)"
   ]
  },
  {
   "cell_type": "code",
   "execution_count": 156,
   "metadata": {},
   "outputs": [
    {
     "name": "stdout",
     "output_type": "stream",
     "text": [
      "247 μs ± 9.63 μs per loop (mean ± std. dev. of 7 runs, 1,000 loops each)\n"
     ]
    }
   ],
   "source": [
    "%timeit expm(M)"
   ]
  },
  {
   "cell_type": "code",
   "execution_count": 157,
   "metadata": {},
   "outputs": [
    {
     "name": "stdout",
     "output_type": "stream",
     "text": [
      "True\n"
     ]
    }
   ],
   "source": [
    "print(np.allclose(expm(M), exp2(M)))"
   ]
  },
  {
   "cell_type": "code",
   "execution_count": 30,
   "metadata": {},
   "outputs": [
    {
     "data": {
      "text/plain": [
       "array([[-0.01136108, -0.00660003],\n",
       "       [-0.01977864, -0.00127006]])"
      ]
     },
     "execution_count": 30,
     "metadata": {},
     "output_type": "execute_result"
    }
   ],
   "source": [
    "np.random.normal(scale=0.01, size=(2,2))"
   ]
  }
 ],
 "metadata": {
  "kernelspec": {
   "display_name": "rutgers",
   "language": "python",
   "name": "python3"
  },
  "language_info": {
   "codemirror_mode": {
    "name": "ipython",
    "version": 3
   },
   "file_extension": ".py",
   "mimetype": "text/x-python",
   "name": "python",
   "nbconvert_exporter": "python",
   "pygments_lexer": "ipython3",
   "version": "3.10.14"
  }
 },
 "nbformat": 4,
 "nbformat_minor": 2
}
