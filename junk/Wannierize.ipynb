{
 "cells": [
  {
   "cell_type": "code",
   "execution_count": 1,
   "metadata": {},
   "outputs": [],
   "source": [
    "import numpy as np\n",
    "from pythtb import *\n",
    "from itertools import product"
   ]
  },
  {
   "cell_type": "code",
   "execution_count": 2,
   "metadata": {},
   "outputs": [],
   "source": [
    "# used for testing purposes\n",
    "\n",
    "def chessboard(t0, tprime, delta):\n",
    "    # define lattice vectors\n",
    "    lat=[[1.0, 0.0], [0.0, 1.0]]\n",
    "    # define coordinates of orbitals\n",
    "    orb=[[0.0, 0.0], [0.5, 0.5]]\n",
    "\n",
    "    # make two dimensional tight-binding checkerboard model\n",
    "    model = tb_model(2, 2, lat, orb)\n",
    "\n",
    "    # set on-site energies\n",
    "    model.set_onsite([-delta, delta], mode='reset')\n",
    "\n",
    "    # set hoppings (one for each connected pair of orbitals)\n",
    "    # (amplitude, i, j, [lattice vector to cell containing j])\n",
    "    model.set_hop(-t0, 0, 0, [1, 0], mode='reset')\n",
    "    model.set_hop(-t0, 0, 0, [0, 1], mode='reset')\n",
    "    model.set_hop(t0, 1, 1, [1, 0], mode='reset')\n",
    "    model.set_hop(t0, 1, 1, [0, 1], mode='reset')\n",
    "\n",
    "    model.set_hop(tprime, 1, 0, [1, 1], mode='reset')\n",
    "    model.set_hop(tprime*1j, 1, 0, [0, 1], mode='reset')\n",
    "    model.set_hop(-tprime, 1, 0, [0, 0], mode='reset')\n",
    "    model.set_hop(-tprime*1j, 1, 0, [1, 0], mode='reset')\n",
    "\n",
    "    return model\n",
    "\n",
    "def Haldane(delta, t, t2):\n",
    "    lat=[[1, 0],[0.5, np.sqrt(3)/2]]\n",
    "    orb=[[1/3, 1/3],[2/3, 2/3]]\n",
    "\n",
    "    model = tb_model(2, 2, lat, orb)\n",
    "\n",
    "    model.set_onsite([-delta, delta], mode='reset')\n",
    "\n",
    "    for lvec in ([0, 0], [-1, 0], [0, -1]):\n",
    "        model.set_hop(t, 0, 1, lvec, mode='reset')\n",
    "        model.set_hop(t, 0, 1, lvec, mode='reset')\n",
    "\n",
    "    for lvec in ([1, 0], [-1, 1], [0, -1]):\n",
    "        model.set_hop(t2*1j, 0, 0, lvec, mode='reset')\n",
    "        model.set_hop(t2*-1j, 1, 1, lvec, mode='reset')\n",
    "\n",
    "    return model"
   ]
  },
  {
   "cell_type": "markdown",
   "metadata": {},
   "source": [
    "# Constructing Bloch states\n",
    "Ultimately we will do all this on a 2D k-mesh, not a path in k-space, so some details would need to change.\n",
    "We are going to use wfs_psi, not wfs, in everything else we do for the Wannier constructions. \n"
   ]
  },
  {
   "cell_type": "markdown",
   "metadata": {},
   "source": [
    "Now, we need facilities for introducing the $e^{ik(R+\\tau_j)}$ phase factors. The convention the PythTB code has is that `lat` is defined with numbers of unit length, while `orb` and `kvec` are defined in dimensionless units. For example, if we have a 2D unit cell with 2 orbitals\n",
    "````\n",
    "lat = [[a_11, a_12], [a_21, a_22]]\n",
    "orb = [[n_11, n_12], [n_21, n_22]]\n",
    "````\n",
    "Such that \n",
    "$$\n",
    "\\vec{\\tau}^{(i)} = n_{i, 1} \\vec{a_1} + n_{i, 2} \\vec{a_2} \n",
    "$$\n",
    "Also, `kvec = [g_1, g_2]`, such that\n",
    "$$\n",
    "\\vec{k}  = g_1 \\vec{b_1} + g_2 \\vec{b_2}\n",
    "$$ \n",
    "Therefore, since $\\vec{a_i} \\cdot \\vec{b_j} = 2\\pi \\delta_{ij}$\n",
    "$$\n",
    "\\vec{k} \\cdot \\vec{\\tau}^{(i)} = 2\\pi (n_{i, 1} g_1 + n_{i, 2} g_2)\n",
    "$$\n",
    "So we need to take the inner product of the two lists multiplied by a factor of $2\\pi$. Want list of phase factors at each k for each orbital, so it should be list of `shape(k_vec.shape[0], per_orb.shape[0])`"
   ]
  },
  {
   "cell_type": "code",
   "execution_count": 3,
   "metadata": {},
   "outputs": [],
   "source": [
    "def gen_k_mesh(*nks, centered=False, flat=True, endpoint=False):\n",
    "    if centered:\n",
    "        end_pts = [-0.5, 0.5]\n",
    "    else:\n",
    "        end_pts = [0, 1]\n",
    "\n",
    "    k_vals = [np.linspace(end_pts[0], end_pts[1], nk, endpoint=endpoint) for nk in nks]\n",
    "    mesh = np.array(list(product(*k_vals)))\n",
    "\n",
    "    if not flat:\n",
    "        return mesh.reshape(*[nk for nk in nks], len(nks))\n",
    "\n",
    "    return mesh"
   ]
  },
  {
   "cell_type": "code",
   "execution_count": 86,
   "metadata": {},
   "outputs": [],
   "source": [
    "def get_orb_phases(model, k_vec, inverse=False):\n",
    "  \"\"\"\n",
    "  Introduces e^i{k.tau} factors\n",
    "\n",
    "  Args:\n",
    "      model (pythb.tb_model): PythTB model\n",
    "      k_vec (np.array): k space grid (assumes flattened)\n",
    "      inverse (boolean): whether to get cell periodic (True) or Bloch (False) wfs\n",
    "\n",
    "  Returns:\n",
    "    orb_phases (np.array): array of phases at each k value\n",
    "  \"\"\"\n",
    "  lam = (-1)**inverse  # overall minus if getting cell periodic from Bloch\n",
    "  orb = model.get_orb()   # numpy array in order [orbital, reduced coord]\n",
    "  per_dir = model._per    # list of periodic dimensions\n",
    "  # slice second dimension to only keep only periodic dimensions in orb\n",
    "  per_orb = orb[:, per_dir]\n",
    " \n",
    "  # compute a list of phase factors [k_val, orbital]\n",
    "  wf_phases = np.array(np.exp(lam * 1j* 2 * np.pi * per_orb @ k_vec.T), dtype=complex).T\n",
    "  return wf_phases  # 1D numpy array of dimension norb"
   ]
  },
  {
   "cell_type": "code",
   "execution_count": 34,
   "metadata": {},
   "outputs": [],
   "source": [
    "def get_bloch_wfs(model, u_wfs, k_mesh, inverse=False):\n",
    "  \"\"\"\n",
    "  Change the cell periodic wfs to Bloch wfs\n",
    "  \n",
    "  Args:\n",
    "    model (pythtb.tb_model): PythTB model\n",
    "    wfs (pythtb.wf_array): cell periodic wfs [k, nband, norb]\n",
    "    kvec (np.array): path in k space\n",
    "      \n",
    "  Returns:\n",
    "    wfs_psi: np.array\n",
    "      wfs with orbitals multiplied by proper phase factor\n",
    "\n",
    "  \"\"\"\n",
    "  if isinstance(u_wfs, wf_array):\n",
    "    nks = [*u_wfs._mesh_arr] # size of mesh in each direction\n",
    "  else:\n",
    "    nks = [*u_wfs.shape[0:2]]\n",
    "  norb = model.get_num_orbitals() # number of orbitals\n",
    "\n",
    "  psi_wfs = np.zeros((*nks, norb, norb), dtype=complex)  # [*nk_i, nband, norb]\n",
    "  # Phases come in a list flattened over k space\n",
    "  # Needs be reshaped to match k indexing of wf_array \n",
    "  phases = get_orb_phases(model, k_mesh, inverse=inverse).reshape(*nks, norb) \n",
    "\n",
    "  # important to note the subtle difference in wfs[k][:][i] and\n",
    "  # wfs[k][:, i]\n",
    "  if len(nks) == 1:\n",
    "     for k in range(nks[0]):\n",
    "      for i in range(norb):\n",
    "        psi_wfs[k, :, i] = u_wfs[k][:, i] * phases[k, i]\n",
    "\n",
    "  elif len(nks) == 2:\n",
    "    for kx in range(nks[0]):\n",
    "      for ky in range(nks[1]):\n",
    "        for i in range(norb):\n",
    "          psi_wfs[kx, ky, :, i] = u_wfs[kx, ky][:, i] * phases[kx, ky, i] \n",
    "\n",
    "  elif len(nks) == 3:\n",
    "    for kx in range(nks[0]):\n",
    "      for ky in range(nks[1]):\n",
    "        for kz in range(nks[2]):\n",
    "          for i in range(norb):\n",
    "            psi_wfs[kx, ky, kz, :, i] = u_wfs[kx, ky, kz][:, i] * phases[kx, ky, kz, i] \n",
    "\n",
    "  return psi_wfs"
   ]
  },
  {
   "cell_type": "markdown",
   "metadata": {},
   "source": [
    "# Computing Wannier functions\n",
    "\n",
    "In general, it would be a good idea to have the ability to set\n",
    "trial functions that are not necessarily just a delta on one site.\n",
    "Here's a sketch of a more general mechanism, although it still\n",
    "requires the trial function to be a linear combo of orbitals in\n",
    "the home unit cell.  "
   ]
  },
  {
   "cell_type": "markdown",
   "metadata": {},
   "source": [
    "Question: If we use a set of J trial functions, does $J \\leq dim(H(k))$? If we only want the sum over occupied bands, then does $J \\leq$ the dimensionality of the occupied manifold?"
   ]
  },
  {
   "cell_type": "code",
   "execution_count": 33,
   "metadata": {},
   "outputs": [],
   "source": [
    "def set_trial_function(tf_list, norb):\n",
    "  \"\"\"\n",
    "  Args:\n",
    "      tf_list: list[int | tuple]\n",
    "        list of numbers or tuples defining either the integer site \n",
    "        of the trial function (delta) or the tuples (site, amplitude)\n",
    "      norb: int\n",
    "        number of orbitals in the primative unit cell\n",
    "\n",
    "  Returns:\n",
    "      tfs (num_tf x norb np.array): 2 dimensional array of trial functions \n",
    "  \"\"\"\n",
    " \n",
    "  # number of trial functions to define\n",
    "  num_tf = len(tf_list)\n",
    "\n",
    "  # initialize array containing tfs = \"trial functions\"\n",
    "  tfs = np.zeros([num_tf, norb], dtype=complex)\n",
    "\n",
    "  for j, tf in enumerate(tf_list):\n",
    "    if isinstance(tf, int): \n",
    "      # We only have a trial function on one site\n",
    "      tfs[j, tf] = 1\n",
    "    elif isinstance(tf, list):\n",
    "      # Must be list of tuples of the form (site, amplitude)\n",
    "      for site, amp in tf:\n",
    "        tfs[j, site] = amp\n",
    "      # normalizing \n",
    "      tfs[j,:] /= np.sqrt(sum(abs(tfs[j, :])))\n",
    "    else:\n",
    "      raise TypeError(\"tf_list is not of apporpriate type\")\n",
    "\n",
    "  # return numpy array containing trial functions\n",
    "  return tfs # tfs in order[trial funcs, orbitals]"
   ]
  },
  {
   "cell_type": "markdown",
   "metadata": {},
   "source": [
    "Defining $M = VW^{\\dagger}$\n",
    "$$|\\tilde{\\psi}_{nk}\\rangle = \\sum_{m=1}^N |\\psi_{mk}\\rangle M_{mn}^{(k)}$$\n",
    "$$\n",
    "\\begin{pmatrix}\n",
    "- \\tilde{\\psi}_{1k} - \\\\\n",
    "- \\tilde{\\psi}_{2k} - \\\\\n",
    "\\vdots\n",
    "\\end{pmatrix}\n",
    "=\n",
    "\\begin{pmatrix}\n",
    "M_{11} & M_{12} & \\cdots \\\\\n",
    "M_{21} & M_{22} & \\cdots \\\\\n",
    "\\vdots & \\vdots\n",
    "\\end{pmatrix} ^{T}\n",
    "\\cdot\n",
    "\\begin{pmatrix}\n",
    "- \\psi_{1k} - \\\\\n",
    "- \\psi_{2k} - \\\\\n",
    "\\vdots\n",
    "\\end{pmatrix}\n",
    "$$\n",
    "$$\n",
    "[- \\tilde{\\psi}_{1k} -] = \\sum_{i} [ - M_{i1} \\psi_{ik} -]\n",
    "$$"
   ]
  },
  {
   "cell_type": "code",
   "execution_count": 48,
   "metadata": {},
   "outputs": [],
   "source": [
    "def tf_overlap_mat(psi_wfs, tfs, n_occ):\n",
    "    nks = psi_wfs.shape[:-2]\n",
    "    ntfs = tfs.shape[0]\n",
    "\n",
    "    A = np.zeros((*nks, n_occ, ntfs), dtype=complex)\n",
    "    for n in range(n_occ):\n",
    "        for j in range(ntfs):\n",
    "            A[..., n, j] = (\n",
    "                psi_wfs.conj()[..., n, :] @ tfs[j, :].T\n",
    "            )\n",
    "    return A\n",
    "\n",
    "def get_psi_tilde(psi_wf, A):\n",
    "    n_occ = A.shape[-2]\n",
    "    nks = A.shape[:-2]\n",
    "    V, S, Wh = np.linalg.svd(A, full_matrices=False)\n",
    "    \n",
    "    # swap only last two indices in transpose (ignore k indices)\n",
    "    # slice psi_wf to keep only occupied bands\n",
    "    psi_tilde = (\n",
    "        (V @ Wh).transpose(*([i for i in range(len(nks))] +  [len(nks)+1, len(nks)])) @ psi_wf[..., :n_occ, :]\n",
    "     ) # [*nk_i, nband, norb]\n",
    "    return psi_tilde\n",
    "\n",
    "def DFT(psi_tilde, norm=None):\n",
    "    # axes can be [0], [0, 1], or [0, 1, 2] for dimensions 1, 2, 3 respectively\n",
    "    Rn = np.fft.ifftn(psi_tilde, axes = [i for i in range(len(psi_tilde.shape[:-2]))], norm=norm)\n",
    "    return Rn\n",
    "\n",
    "def SVD_A(A):\n",
    "    # SVD on last 2 axes by default (preserving k indices)\n",
    "    return np.linalg.svd(A)"
   ]
  },
  {
   "cell_type": "code",
   "execution_count": 49,
   "metadata": {},
   "outputs": [],
   "source": [
    "def Wannierize(model, u_wfs, k_mesh, tf_list, n_occ):\n",
    "    n_orb = u_wfs._wfs.shape[-1]\n",
    "    tfs = set_trial_function(tf_list, n_orb)\n",
    "\n",
    "    psi_wfs = get_bloch_wfs(model, u_wfs, k_mesh)\n",
    "\n",
    "    A = tf_overlap_mat(psi_wfs, tfs, n_occ)\n",
    "    psi_tilde = get_psi_tilde(psi_wfs, A)\n",
    "\n",
    "    Rn = DFT(psi_tilde)\n",
    "\n",
    "    return Rn"
   ]
  },
  {
   "cell_type": "markdown",
   "metadata": {},
   "source": [
    "# Procedure in principle"
   ]
  },
  {
   "cell_type": "code",
   "execution_count": 64,
   "metadata": {},
   "outputs": [],
   "source": [
    "delta = 1\n",
    "t0 = .1\n",
    "tprime = .12\n",
    "\n",
    "model = chessboard(t0, tprime, delta)#.make_supercell([[2,0], [0,2]])"
   ]
  },
  {
   "cell_type": "code",
   "execution_count": 65,
   "metadata": {},
   "outputs": [],
   "source": [
    "# adding disorder\n",
    "# J = 2\n",
    "# J_site = 2\n",
    "# model.set_onsite(J, ind_i = J_site, mode='add')"
   ]
  },
  {
   "cell_type": "code",
   "execution_count": 66,
   "metadata": {},
   "outputs": [],
   "source": [
    "# model.display()"
   ]
  },
  {
   "cell_type": "markdown",
   "metadata": {},
   "source": [
    "Define $k$ mesh"
   ]
  },
  {
   "cell_type": "code",
   "execution_count": 67,
   "metadata": {},
   "outputs": [],
   "source": [
    "# 2D k-mesh\n",
    "nkx = 50\n",
    "nky = 50\n",
    "k_mesh = gen_k_mesh(nkx, nky, flat=False, endpoint=False)\n",
    "k_mesh_flat = gen_k_mesh(nkx, nky, flat=True, endpoint=False)"
   ]
  },
  {
   "cell_type": "markdown",
   "metadata": {},
   "source": [
    "Reporting Chern number\n"
   ]
  },
  {
   "cell_type": "code",
   "execution_count": 68,
   "metadata": {},
   "outputs": [
    {
     "name": "stdout",
     "output_type": "stream",
     "text": [
      "Chern number:  1.1043592643970545e-18\n"
     ]
    }
   ],
   "source": [
    "n_occ = int(model.get_num_orbitals()/2)\n",
    "u_wfs_chern = wf_array(model, [nkx, nky])\n",
    "u_wfs_chern.solve_on_grid([0, 0])\n",
    "chern = u_wfs_chern.berry_flux([i for i in range(n_occ)])/(2*np.pi)\n",
    "\n",
    "print(\"Chern number: \", chern)"
   ]
  },
  {
   "cell_type": "markdown",
   "metadata": {},
   "source": [
    "Don't want to use `solve_on_grid()`, since the we want a to exclude the endpoint.\n",
    "\n",
    "Note: `solve_on_grid()` is equivalent to using `solve_on_point()` over the entire BZ (inclusive) and using `impose_pbc()` on all periodic directions"
   ]
  },
  {
   "cell_type": "code",
   "execution_count": 69,
   "metadata": {},
   "outputs": [],
   "source": [
    "u_wfs_2d = wf_array(model, [nkx, nky])\n",
    "\n",
    "for i in range(k_mesh.shape[0]):\n",
    "    for j in range(k_mesh.shape[1]):\n",
    "        u_wfs_2d.solve_on_one_point(k_mesh[i,j], [i,j])"
   ]
  },
  {
   "cell_type": "markdown",
   "metadata": {},
   "source": [
    "Define trial functions and Wannierize"
   ]
  },
  {
   "cell_type": "code",
   "execution_count": 70,
   "metadata": {},
   "outputs": [],
   "source": [
    "tf_list = [0] # delta on lower energy sites\n",
    "w0 = Wannierize(model, u_wfs_2d, k_mesh_flat, tf_list, n_occ)"
   ]
  },
  {
   "cell_type": "markdown",
   "metadata": {},
   "source": [
    "## Plotting"
   ]
  },
  {
   "cell_type": "code",
   "execution_count": 71,
   "metadata": {},
   "outputs": [],
   "source": [
    "import matplotlib.pyplot as plt\n",
    "from matplotlib.colors import LogNorm"
   ]
  },
  {
   "cell_type": "code",
   "execution_count": 72,
   "metadata": {},
   "outputs": [
    {
     "data": {
      "image/png": "[encoded data removed]",
      "text/plain": [
       "<Figure size 640x480 with 2 Axes>"
      ]
     },
     "metadata": {},
     "output_type": "display_data"
    }
   ],
   "source": [
    "fig, ax = plt.subplots()\n",
    "\n",
    "supercell = [(i,j) for i in range(-int((nkx-nkx%2)/2), int((nkx-nkx%2)/2)) \n",
    "             for j in range(-int((nky-nky%2)/2), int((nky-nky%2)/2))]\n",
    "\n",
    "orbs = model.get_orb()\n",
    "lat_vecs = model.get_lat()\n",
    "idx = 0\n",
    "\n",
    "xs = []\n",
    "ys = []\n",
    "zs = []\n",
    "\n",
    "for tx, ty in supercell:\n",
    "    for i, orb in enumerate(orbs):\n",
    "        color = np.abs(w0[ty, tx, idx, i])**2\n",
    "        pos = orb[0]*lat_vecs[0] + tx*lat_vecs[0] + orb[1]*lat_vecs[1]+ ty*lat_vecs[1]\n",
    "        xs.append(pos[0])\n",
    "        ys.append(pos[1])\n",
    "        zs.append(color)\n",
    "\n",
    "scat = ax.scatter(xs, ys, c=zs, cmap='plasma', norm=LogNorm())\n",
    "\n",
    "fig.colorbar(scat)\n",
    "ax.set_title(rf'$|\\langle \\phi_{{\\vec{{R}}, j}}| w_{{0, {idx}}}\\rangle|^2$')\n",
    "plt.savefig('Wannier_weights_scatter.png')"
   ]
  },
  {
   "cell_type": "markdown",
   "metadata": {},
   "source": [
    "### Plotting weights"
   ]
  },
  {
   "cell_type": "code",
   "execution_count": 73,
   "metadata": {},
   "outputs": [],
   "source": [
    "idx = 0\n",
    "cutoff = 20\n",
    "r = []\n",
    "w0i_wt = []\n",
    "\n",
    "for tx, ty in supercell:\n",
    "    for i, orb in enumerate(orbs):\n",
    "        wt = np.abs(w0[tx, ty, idx, i])**2\n",
    "        pos = orb[0]*lat_vecs[0] + tx*lat_vecs[0] + orb[1]*lat_vecs[1]+ ty*lat_vecs[1]\n",
    "\n",
    "        r.append(np.sqrt(pos[0]**2 + pos[1]**2))\n",
    "        w0i_wt.append(wt)\n",
    "\n",
    "r = np.array(r)\n",
    "w0i_wt = np.array(w0i_wt)\n",
    "w0i_wt = w0i_wt[r < cutoff]\n",
    "r = r[r < cutoff]"
   ]
  },
  {
   "cell_type": "markdown",
   "metadata": {},
   "source": [
    "Binning the data"
   ]
  },
  {
   "cell_type": "code",
   "execution_count": 74,
   "metadata": {},
   "outputs": [],
   "source": [
    "num_bins = int(np.ceil(max(r)))\n",
    "r_bins = [[i, i + 1] for i in range(num_bins)]\n",
    "r_ledge = [i for i in range(num_bins)]\n",
    "r_cntr = [0.5 + i for i in range(num_bins)]\n",
    "w0i_wt_bins = [[] for i in range(num_bins)]\n",
    "\n",
    "# bins of weights\n",
    "for i in range(r.shape[0]):\n",
    "    for j, r_intvl in enumerate(r_bins):\n",
    "        if r_intvl[0] <= r[i] < r_intvl[1]:\n",
    "            w0i_wt_bins[j].append(w0i_wt[i])\n",
    "            break\n",
    "\n",
    "# average value of bins\n",
    "avg_w0i_wt_bins = []\n",
    "for i in range(num_bins):\n",
    "    avg_w0i_wt_bins.append(sum(w0i_wt_bins[i])/len(w0i_wt_bins[i]))\n",
    "\n",
    "# numpify\n",
    "avg_w0i_wt_bins = np.array(avg_w0i_wt_bins)\n",
    "r_ledge = np.array(r_ledge)\n",
    "r_cntr = np.array(r_cntr)"
   ]
  },
  {
   "cell_type": "code",
   "execution_count": 75,
   "metadata": {},
   "outputs": [
    {
     "data": {
      "image/png": "[encoded data removed]",
      "text/plain": [
       "<Figure size 640x480 with 1 Axes>"
      ]
     },
     "metadata": {},
     "output_type": "display_data"
    }
   ],
   "source": [
    "fig, ax = plt.subplots()\n",
    "\n",
    "# scatter plot\n",
    "plt.scatter(r, w0i_wt, zorder=1, s=10)\n",
    "\n",
    "# bar of avgs\n",
    "plt.bar(r_ledge, avg_w0i_wt_bins, width=1, align='edge', ec='k', zorder=2, ls=':', alpha=0.4)\n",
    "\n",
    "# fit line\n",
    "deg = 1\n",
    "fit = np.polyfit(r_cntr, np.log(avg_w0i_wt_bins), deg)\n",
    "fit_line = np.sum(np.array([r_cntr**(deg-i) * fit[i] for i in range(deg)]), axis=0)\n",
    "fit_eqn = '+'.join([fr'{c: .2f} r^{deg-j}' for j, c in enumerate(fit)])\n",
    "plt.plot(r_cntr, np.exp(fit_line), c='r', ls='--', label=fr\"$\\exp({fit_eqn})$\")\n",
    "\n",
    "ax.legend()\n",
    "ax.set_ylabel(rf'$|\\langle \\phi_{{\\vec{{R}}, j}}| w_{{0, {idx}}}\\rangle|^2$')\n",
    "ax.set_xlabel(r'$|\\vec{R}+\\vec{\\tau}_j|$')\n",
    "# ax.set_xticks(r_cntr)\n",
    "ax.set_yscale('log')\n",
    "ax.set_title(f'Checkerboard | Trial fxns on sites {tf_list} | C = {chern: .2f}')\n",
    "plt.savefig(f'weights_bar_plot_C={chern: .2f}.png')"
   ]
  },
  {
   "cell_type": "markdown",
   "metadata": {},
   "source": [
    "## Quadratic Spread"
   ]
  },
  {
   "cell_type": "markdown",
   "metadata": {},
   "source": [
    "#### Real space"
   ]
  },
  {
   "cell_type": "code",
   "execution_count": 76,
   "metadata": {},
   "outputs": [],
   "source": [
    "def spread_real(w0, orbs, lat_vecs, decomp=False):\n",
    "    \"\"\"\n",
    "    Spread functional computed in real space with Wannier functions\n",
    "\n",
    "    Args:\n",
    "        w0 (np.array): Wannier functions\n",
    "        supercell (np.array): lattice translation vectors in reduced units\n",
    "        orbs (np.array): orbital vectors in reduced units\n",
    "        decomp (boolean): whether to separate gauge (in)variant parts of spread\n",
    "\n",
    "    Returns:\n",
    "        Omega: the spread functional\n",
    "        Omega_inv: (optional) the gauge invariant part of the spread\n",
    "        Omega_tilde: (optional) the gauge dependent part of the spread\n",
    "        expc_rsq: \\sum_{n} <r^2>_{n}\n",
    "        expc_r_sq: \\sum_n <\\vec{r}>_{n}^2\n",
    "    \"\"\"\n",
    "    nx, ny, n_occ = w0.shape[0], w0.shape[1], w0.shape[2]\n",
    "    supercell = [(i,j) for i in range(-int((nx-nx%2)/2), int((nx-nx%2)/2)) \n",
    "                for j in range(-int((ny-ny%2)/2), int((ny-ny%2)/2))]\n",
    "    r_n = np.zeros((n_occ, 2), dtype=complex) # <\\vec{r}>_n\n",
    "    rsq_n = np.zeros(n_occ, dtype=complex) # <r^2>_n\n",
    "    R_nm = np.zeros((2, n_occ, n_occ, nx*ny), dtype=complex)\n",
    "\n",
    "    expc_rsq = 0 # <r^2> \n",
    "    expc_r_sq = 0 # <\\vec{r}>^2\n",
    "\n",
    "    for n in range(n_occ): # \"band\" index\n",
    "        for tx, ty in supercell: # cells in supercell\n",
    "            for i, orb in enumerate(orbs): # values of Wannier function on lattice\n",
    "                w0n_r = w0[tx, ty, n, i] # Wannier function\n",
    "                pos = (orb[0] + tx)*lat_vecs[0] + (orb[1] + ty)*lat_vecs[1] # position\n",
    "                r = np.sqrt(pos[0]**2 + pos[1]**2)\n",
    "\n",
    "                # expectation value of position (vector)\n",
    "                r_n[n, :] += np.array([pos[0] * abs(w0n_r)**2, pos[1] * abs(w0n_r)**2])\n",
    "                rsq_n[n] += r**2 * w0n_r*w0n_r.conj()\n",
    "\n",
    "                if decomp:\n",
    "                    for m in range(n_occ):\n",
    "                        for j, [dx, dy] in enumerate(supercell):\n",
    "                            wRm_r = w0[(tx+dx)%nx, (ty+dy)%ny, n, i] # Wannier function\n",
    "                            R_nm[0, n, m, j] += pos[0] * w0n_r*wRm_r.conj()\n",
    "                            R_nm[1, n, m, j] += pos[0] * w0n_r*wRm_r.conj()\n",
    "\n",
    "        expc_rsq += rsq_n[n]\n",
    "        expc_r_sq += np.vdot(r_n[n, :], r_n[n, :])\n",
    "\n",
    "    spread = expc_rsq - expc_r_sq\n",
    "\n",
    "    if decomp:\n",
    "        Omega_inv = 0 # gauge invariant part of spread\n",
    "        Omega_tilde = 0 # gauge dependent part of spread\n",
    "\n",
    "        Omega_inv += expc_rsq\n",
    "        for i in range(R_nm.shape[1]):\n",
    "            for j in range(R_nm.shape[2]):\n",
    "                for k in range(R_nm.shape[3]):\n",
    "                    Omega_inv -= np.vdot(R_nm[:, i, j, k], R_nm[:, i, j, k])\n",
    "                    if not (i == j and supercell[k] == (0,0)):\n",
    "                        Omega_tilde += np.vdot(R_nm[:, i, j, k], R_nm[:, i, j, k])\n",
    "\n",
    "        assert np.allclose(spread, Omega_inv+Omega_tilde)\n",
    "        return [spread, Omega_inv, Omega_tilde], expc_rsq, expc_r_sq\n",
    "\n",
    "    else:\n",
    "        return spread, expc_rsq, expc_r_sq\n",
    "\n",
    "def get_projector(states, bands, Wannier=False):\n",
    "    nx, ny = states.shape[0], states.shape[1]\n",
    "    P_s = np.array([[ \n",
    "        np.sum( [np.outer(states[x, y, n, :].T, states[x, y, n, :].conj()) for n in bands], axis=0)\n",
    "               for y in range(ny)] for x in range(nx)]) \n",
    "    \n",
    "    P = (nx*ny if Wannier else 1) * np.sum(P_s, axis=(0,1))\n",
    "    Q = np.eye(P.shape[0]) - P\n",
    "    \n",
    "    return P, Q"
   ]
  },
  {
   "cell_type": "code",
   "execution_count": 77,
   "metadata": {},
   "outputs": [],
   "source": [
    "spread, expc_rsq, expc_r_sq = spread_real(w0, orbs, lat_vecs, decomp=True)"
   ]
  },
  {
   "cell_type": "code",
   "execution_count": 78,
   "metadata": {},
   "outputs": [
    {
     "name": "stdout",
     "output_type": "stream",
     "text": [
      "Real space spread:  0.00796334100-0.00000000000j\n",
      "Real space <r^2> =  0.00796334100-0.00000000000j\n",
      "Real space <r>^2 =  0.00000000000+0.00000000000j\n",
      "Omega_I =  0.00789790934-0.00000000000j\n",
      "\\tilde{Omega} =  0.00006543166+0.00000000000j\n",
      "Omega_I + \\tilde{Omega} =  0.00796334100-0.00000000000j\n"
     ]
    }
   ],
   "source": [
    "print(f\"Real space spread: {spread[0]: .11f}\")\n",
    "print(f\"Real space <r^2> = {expc_rsq: .11f}\")\n",
    "print(f\"Real space <r>^2 = {expc_r_sq: .11f}\")\n",
    "print(rf\"Omega_I = {spread[1]: .11f}\")\n",
    "print(rf\"\\tilde{{Omega}} = {spread[2]: .11f}\")\n",
    "print(rf\"Omega_I + \\tilde{{Omega}} = {spread[1] + spread[2]: .11f}\" )"
   ]
  },
  {
   "cell_type": "markdown",
   "metadata": {},
   "source": [
    "#### Reciprocal space"
   ]
  },
  {
   "cell_type": "code",
   "execution_count": 80,
   "metadata": {},
   "outputs": [],
   "source": [
    "def k_overlap_mat(u_wfs, num_NN, n_occ, orbs=None):\n",
    "    \"\"\" \n",
    "    Compute the overlap matrix of Bloch eigenstates. Assumes that the last u_wf\n",
    "    along each periodic direction corresponds to the next to last k-point in the \n",
    "    mesh (excludes endpoints). This way, the periodic boundary conditions are handled \n",
    "    internally.\n",
    "\n",
    "    Args:\n",
    "        u_wfs (np.array | wf_array): The cell periodic Bloch wavefunctions\n",
    "        num_NN (int): number of nearest neighbors at a reciprocal lattice site\n",
    "        n_occ (int): number of occupied eigenstates\n",
    "\n",
    "    Returns:\n",
    "        M (np.array): overlap matrix\n",
    "    \"\"\"\n",
    "    if isinstance(u_wfs, wf_array):\n",
    "        nks = [*u_wfs._mesh_arr] # size of mesh in each direction\n",
    "        nkx, nky = nks[0], nks[1]\n",
    "        orbs = u_wfs._model.get_orb()\n",
    "    else:\n",
    "        nks = [*u_wfs.shape[0:2]]\n",
    "        nkx, nky = nks[0], nks[1]\n",
    "        assert orbs is not None, \"Need to specify orbital vectors\"\n",
    "    \n",
    "    # assumes that there is no last element in the k mesh, so we need to introduce phases\n",
    "    M = np.zeros((nkx, nky, num_NN, n_occ, n_occ), dtype=complex) # overlap matrix\n",
    "    for n in range(n_occ): # band index right (occupied)\n",
    "        for m in range(n_occ): # band index left (occupied)\n",
    "            for kx in range(nkx):\n",
    "                for ky in range(nky): \n",
    "                    for nn in range(num_NN): # nearest neighbors\n",
    "                        # pbc at edge of BZ\n",
    "                        if nn == 0:\n",
    "                            M[kx, ky, nn, m, n] = np.vdot(\n",
    "                                u_wfs[kx, ky][m, :], u_wfs[(kx+1)%nkx, ky][n, :] *\n",
    "                                (np.array(np.exp(-1j*2*np.pi*orbs @ np.array([1,0]).T ), dtype=complex).T if kx == nkx-1\n",
    "                                 else 1) \n",
    "                                )\n",
    "                        elif nn == 1:\n",
    "                            M[kx, ky, nn, m, n] = np.vdot(\n",
    "                                u_wfs[kx, ky][m, :], u_wfs[kx, (ky+1)%nky][n, :] *\n",
    "                                (np.array(np.exp(-1j*2*np.pi*orbs @ np.array([0,1]).T ), dtype=complex).T if ky == nky-1\n",
    "                                 else 1) \n",
    "                                )\n",
    "                        elif nn == 2:\n",
    "                            M[kx, ky, nn, m, n] = np.vdot(\n",
    "                                u_wfs[kx, ky][m, :], u_wfs[kx-1, ky][n, :] *\n",
    "                                (np.array(np.exp(-1j*2*np.pi*orbs @ np.array([-1,0]).T ), dtype=complex).T if kx == 0\n",
    "                                 else 1) \n",
    "                                )\n",
    "                        elif nn == 3:\n",
    "                            M[kx, ky, nn, m, n] = np.vdot(\n",
    "                                u_wfs[kx, ky][m, :], u_wfs[kx, ky-1][n, :] *\n",
    "                                (np.array(np.exp(-1j*2*np.pi*orbs @ np.array([0,-1]).T ), dtype=complex).T if ky == 0\n",
    "                                 else 1) \n",
    "                                 )\n",
    "    return M\n",
    "\n",
    "def spread_recip(M, w_b, b_vec, decomp=False):\n",
    "    \"\"\"\n",
    "    Args:\n",
    "        M (np.array): \n",
    "            overlap matrix\n",
    "        w_b (int): \n",
    "            finite difference weights\n",
    "        b_vec (list[np.array]): \n",
    "            vectors connected NN reciprocal lattice sites\n",
    "        decomp (bool, optional): \n",
    "            Whether to compute and return decomposed spread. Defaults to False.\n",
    "\n",
    "    Returns:\n",
    "        spread | [spread, Omega_i, Omega_tilde], expc_rsq, expc_r_sq : \n",
    "            quadratic spread, the expectation of the position squared,\n",
    "            and the expectation of the position vector squared\n",
    "    \"\"\"\n",
    "    nkx, nky = M.shape[0], M.shape[1] # mesh size\n",
    "    N_k = nkx*nky # number of k points in first BZ\n",
    "    r_n = np.zeros((n_occ, 2), dtype=complex) # <\\vec{r}>_n\n",
    "    rsq_n = np.zeros(n_occ, dtype=complex) # <r^2>_n\n",
    "    expc_rsq = 0 # <r^2> \n",
    "    expc_r_sq = 0 # <\\vec{r}>^2\n",
    "\n",
    "    for n in range(n_occ):\n",
    "        for kx in range(nkx):\n",
    "            for ky in range(nky):\n",
    "                for idx, b in enumerate(b_vec):\n",
    "                    r_n[n, :] += -(1/N_k) * w_b * b * np.log(M[kx, ky, idx, n, n]).imag\n",
    "                    rsq_n[n] += (1/N_k) * w_b * (1 - abs(M[kx, ky, idx, n, n])**2 + np.log(M[kx, ky, idx, n, n]).imag**2)\n",
    "                    \n",
    "        expc_rsq += rsq_n[n] # <r^2> \n",
    "        expc_r_sq += np.vdot(r_n[n, :], r_n[n, :]) # <\\vec{r}>^2\n",
    "        \n",
    "    spread = expc_rsq - expc_r_sq\n",
    "                                \n",
    "    if decomp:\n",
    "        Omega_i = 0\n",
    "        Omega_tilde = 0\n",
    "        for kx in range(nkx):\n",
    "            for ky in range(nky):\n",
    "                for idx, b in enumerate(b_vec):\n",
    "                    Omega_i += (1/N_k) * w_b * n_occ \n",
    "                    for n in range(n_occ):\n",
    "                        Omega_tilde += (1/N_k) * w_b * (-np.log(M[kx, ky, idx, n, n]).imag - np.vdot(b, r_n[n]))**2\n",
    "                        for m in range(n_occ):\n",
    "                            Omega_i -= (1/N_k) * w_b * abs(M[kx, ky, idx, m, n])**2\n",
    "                            if m != n:\n",
    "                                Omega_tilde += (1/N_k) * w_b * abs(M[kx, ky, idx, m, n])**2\n",
    "                                \n",
    "        return [spread, Omega_i, Omega_tilde], expc_rsq, expc_r_sq\n",
    "    \n",
    "    else: \n",
    "        return spread, expc_rsq, expc_r_sq\n",
    "    \n",
    "def get_pbc_phase(orbs, G):\n",
    "    \"\"\"\n",
    "    Get phase factors for cell periodic pbc across BZ boundary\n",
    "\n",
    "    Args:\n",
    "        orbs (np.array): reduced coordinates of orbital positions\n",
    "        G (list): reduced coordinates of reciprocal lattice vector\n",
    "\n",
    "    Returns:\n",
    "        phase: phase factor to be multiplied to last cell periodic eigenstates\n",
    "        in k-mesh \n",
    "    \"\"\"\n",
    "    phase = np.array(np.exp(-1j*2*np.pi*orbs @ np.array(G).T ), dtype=complex).T\n",
    "    return phase"
   ]
  },
  {
   "cell_type": "code",
   "execution_count": 81,
   "metadata": {},
   "outputs": [],
   "source": [
    "# 2D k-mesh\n",
    "nkx = 100\n",
    "nky = 100\n",
    "N = nkx*nky\n",
    "num_NN = 4 # number of nearest neighbors in reciprocal lattice\n",
    "b = 2*np.pi/nkx # spacing between allowed kx\n",
    "b_vec = [np.array([b, 0]), np.array([0, b]), np.array([-b, 0]), np.array([0, -b])] # vectors connecting nearest neighbor k points\n",
    "w_b = 1/(2*b**2) # finite difference weights for cubic lattice"
   ]
  },
  {
   "cell_type": "code",
   "execution_count": 82,
   "metadata": {},
   "outputs": [],
   "source": [
    "k_mesh_flat = gen_k_mesh(nkx, nky, flat=True, endpoint=False)\n",
    "k_mesh = gen_k_mesh(nkx, nky, flat=False, endpoint=False)\n",
    "\n",
    "# eigenvectors on k-mesh (excluding end point)\n",
    "u_wfs = wf_array(model, [nkx, nky])\n",
    "\n",
    "for i in range(k_mesh.shape[0]):\n",
    "    for j in range(k_mesh.shape[1]):\n",
    "        u_wfs.solve_on_one_point(k_mesh[i,j], [i,j])"
   ]
  },
  {
   "cell_type": "code",
   "execution_count": 83,
   "metadata": {},
   "outputs": [],
   "source": [
    "# getting cell periodic psi_tildes\n",
    "psi_wfs = get_bloch_wfs(model, u_wfs, k_mesh_flat)\n",
    "\n",
    "n_orb = u_wfs._wfs.shape[-1]\n",
    "tfs = set_trial_function(tf_list, n_orb)\n",
    "A = tf_overlap_mat(psi_wfs, tfs, n_occ)\n",
    "psi_tilde = get_psi_tilde(psi_wfs, A)\n",
    "u_tilde = get_bloch_wfs(model, psi_tilde, k_mesh_flat, inverse=True)"
   ]
  },
  {
   "cell_type": "code",
   "execution_count": 84,
   "metadata": {},
   "outputs": [],
   "source": [
    "M = k_overlap_mat(u_tilde, num_NN, n_occ, orbs=model.get_orb())\n",
    "spread, expc_rsq, expc_r_sq = spread_recip(M, w_b, b_vec, decomp=True)"
   ]
  },
  {
   "cell_type": "code",
   "execution_count": 85,
   "metadata": {},
   "outputs": [
    {
     "name": "stdout",
     "output_type": "stream",
     "text": [
      "Reciprocal space spread:  0.00796209+0.00000000j\n",
      "Reciprocal space <r^2> =  0.00796209+0.00000000j\n",
      "Reciprocal space <r>^2 =  0.00000000+0.00000000j\n",
      "Reciprocal space Omega_I =  0.00789669\n",
      "Reciprocal space \\tilde{Omega} =  0.00006540+0.00000000j\n",
      "Omega_I + \\tilde{Omega} =  0.00796209+0.00000000j\n"
     ]
    }
   ],
   "source": [
    "print(f\"Reciprocal space spread: {spread[0]: .8f}\")\n",
    "print(f\"Reciprocal space <r^2> = {expc_rsq: .8f}\")\n",
    "print(f\"Reciprocal space <r>^2 = {expc_r_sq: .8f}\")\n",
    "print(rf\"Reciprocal space Omega_I = {spread[1]: .8f}\")\n",
    "print(rf\"Reciprocal space \\tilde{{Omega}} = {spread[2]: .8f}\")\n",
    "print(rf\"Omega_I + \\tilde{{Omega}} = {spread[1] + spread[2]: .8f}\" )"
   ]
  },
  {
   "cell_type": "markdown",
   "metadata": {},
   "source": [
    "# Testing "
   ]
  },
  {
   "cell_type": "markdown",
   "metadata": {},
   "source": [
    "Eventually would like to compare results to initial findings (1d path)"
   ]
  },
  {
   "cell_type": "code",
   "execution_count": 87,
   "metadata": {},
   "outputs": [],
   "source": [
    "# 1D k path\n",
    "nk = 5\n",
    "path = [[0.0, 0.0], [0.0, 0.5], [0.5, 0.5], [0.0, 0.0]]\n",
    "(k_vec, k_dist, k_node) = model.k_path(path, nk, report=False)\n",
    "\n",
    "u_wfs_1d = wf_array(model, [nk])\n",
    "\n",
    "for k in range(nk):\n",
    "    u_wfs_1d.solve_on_one_point([k_vec[k,0], k_vec[k,1]], [k])"
   ]
  },
  {
   "cell_type": "markdown",
   "metadata": {},
   "source": [
    "### Periodic Boundary Conditions\n",
    "\n",
    "Using the periodic gauge,\n",
    "$$\n",
    "\\psi_{n, \\vec{k} + \\vec{G}}(\\vec{r}) = \\psi_{n, \\vec{k}}(\\vec{r})\n",
    "$$\n",
    "Leading to\n",
    "$$\n",
    "u_{n, \\vec{k}+\\vec{G}}(\\vec{r}) = e^{-i\\vec{G}\\cdot \\vec{r}} u_{n\\vec{k}}(\\vec{r})\n",
    "$$\n",
    "In the tight binding language, this means\n",
    "$$\n",
    "C_{n, \\vec{k}+\\vec{G}}^{(j)} = e^{-i \\vec{G}\\cdot\\vec{\\tau_j} }C_{n, \\vec{k}}^{(j)} \n",
    "$$\n",
    "For our checkerboard lattice, \n",
    "$$\n",
    "\\vec{\\tau}_1 = 0\n",
    "$$\n",
    "$$\n",
    "\\vec{\\tau}_2 = \\frac{1}{2}(\\vec{a}_1 + \\vec{a_2})\n",
    "$$\n",
    "Leading to\n",
    "$$\n",
    "\\vec{G}\\cdot\\vec{\\tau_1} = 0\n",
    "$$\n",
    "$$\n",
    "\\vec{G}\\cdot\\vec{\\tau_2} = (m_1 \\vec{b}_1 + m_2 \\vec{b}_2) \\cdot \\frac{1}{2}(\\vec{a_1}+\\vec{a_2}) \\\\\n",
    "= \\pi (m_1 + m_2)\n",
    "$$\n"
   ]
  },
  {
   "cell_type": "code",
   "execution_count": 186,
   "metadata": {},
   "outputs": [],
   "source": [
    "# 2D k-mesh\n",
    "nkx = 10\n",
    "nky = 10\n",
    "N = nkx*nky\n",
    "\n",
    "k_mesh = gen_k_mesh(nkx, nky, flat=False, endpoint=False)\n",
    "k_mesh_flat = gen_k_mesh(nkx, nky, flat=True, endpoint=False)"
   ]
  },
  {
   "cell_type": "code",
   "execution_count": 187,
   "metadata": {},
   "outputs": [
    {
     "data": {
      "text/plain": [
       "array([1.25899544])"
      ]
     },
     "execution_count": 187,
     "metadata": {},
     "output_type": "execute_result"
    }
   ],
   "source": [
    "u_wfs = wf_array(model, [nkx, nky])\n",
    "\n",
    "for i in range(k_mesh.shape[0]):\n",
    "    for j in range(k_mesh.shape[1]):\n",
    "        u_wfs.solve_on_one_point(k_mesh[i,j], [i, j])\n",
    "\n",
    "# solving for eigenstates over full BZ\n",
    "u_wfs_full = wf_array(model, [nkx, nky])\n",
    "u_wfs_full.solve_on_grid([0, 0])"
   ]
  },
  {
   "cell_type": "code",
   "execution_count": 188,
   "metadata": {},
   "outputs": [
    {
     "data": {
      "text/plain": [
       "(0.9992017761611243-1.7447136697059596e-19j)"
      ]
     },
     "execution_count": 188,
     "metadata": {},
     "output_type": "execute_result"
    }
   ],
   "source": [
    "np.vdot(u_wfs[0, 7][0, :], u_wfs[0, 8][0, :])"
   ]
  },
  {
   "cell_type": "code",
   "execution_count": 189,
   "metadata": {},
   "outputs": [
    {
     "data": {
      "text/plain": [
       "(0.9992012433852383+5.948449097682157e-19j)"
      ]
     },
     "execution_count": 189,
     "metadata": {},
     "output_type": "execute_result"
    }
   ],
   "source": [
    "np.vdot(u_wfs[0, 8][0, :], u_wfs[0, 9][0, :])"
   ]
  },
  {
   "cell_type": "code",
   "execution_count": 190,
   "metadata": {},
   "outputs": [
    {
     "data": {
      "text/plain": [
       "(-0.9992615316399783+0j)"
      ]
     },
     "execution_count": 190,
     "metadata": {},
     "output_type": "execute_result"
    }
   ],
   "source": [
    "np.vdot(u_wfs[0, 9][0, :], u_wfs[0, 0][0, :])"
   ]
  },
  {
   "cell_type": "code",
   "execution_count": 191,
   "metadata": {},
   "outputs": [],
   "source": [
    "u_wfs.impose_pbc(mesh_dir=0, k_dir=0)\n",
    "u_wfs.impose_pbc(mesh_dir=1, k_dir=1)"
   ]
  },
  {
   "cell_type": "code",
   "execution_count": 192,
   "metadata": {},
   "outputs": [
    {
     "data": {
      "text/plain": [
       "array([ 1.+0.0000000e+00j, -1.-1.2246468e-16j])"
      ]
     },
     "execution_count": 192,
     "metadata": {},
     "output_type": "execute_result"
    }
   ],
   "source": [
    "np.exp(-2.j*np.pi*model._orb[:,1])"
   ]
  },
  {
   "cell_type": "code",
   "execution_count": 193,
   "metadata": {},
   "outputs": [
    {
     "data": {
      "text/plain": [
       "(100, 2)"
      ]
     },
     "execution_count": 193,
     "metadata": {},
     "output_type": "execute_result"
    }
   ],
   "source": [
    "k_mesh_end = gen_k_mesh(nkx, nky, centered=False, endpoint=True)\n",
    "phases = get_orb_phases(model, k_mesh_end)\n",
    "phases.shape"
   ]
  },
  {
   "cell_type": "markdown",
   "metadata": {},
   "source": [
    "Cell periodic wavefunctions orthogonality\n",
    "\n",
    "$$\n",
    "\\langle u_{nk} | u_{mk} \\rangle = \\delta_{nm}\n",
    "$$"
   ]
  },
  {
   "cell_type": "code",
   "execution_count": 194,
   "metadata": {},
   "outputs": [
    {
     "name": "stdout",
     "output_type": "stream",
     "text": [
      "True\n",
      "True\n",
      "True\n",
      "True\n",
      "True\n",
      "True\n",
      "True\n",
      "True\n",
      "True\n",
      "True\n",
      "True\n",
      "True\n",
      "True\n",
      "True\n",
      "True\n",
      "True\n",
      "True\n",
      "True\n",
      "True\n",
      "True\n",
      "True\n",
      "True\n",
      "True\n",
      "True\n",
      "True\n",
      "True\n",
      "True\n",
      "True\n",
      "True\n",
      "True\n",
      "True\n",
      "True\n",
      "True\n",
      "True\n",
      "True\n",
      "True\n",
      "True\n",
      "True\n",
      "True\n",
      "True\n",
      "True\n",
      "True\n",
      "True\n",
      "True\n",
      "True\n",
      "True\n",
      "True\n",
      "True\n",
      "True\n",
      "True\n",
      "True\n",
      "True\n",
      "True\n",
      "True\n",
      "True\n",
      "True\n",
      "True\n",
      "True\n",
      "True\n",
      "True\n",
      "True\n",
      "True\n",
      "True\n",
      "True\n",
      "True\n",
      "True\n",
      "True\n",
      "True\n",
      "True\n",
      "True\n",
      "True\n",
      "True\n",
      "True\n",
      "True\n",
      "True\n",
      "True\n",
      "True\n",
      "True\n",
      "True\n",
      "True\n",
      "True\n",
      "True\n",
      "True\n",
      "True\n",
      "True\n",
      "True\n",
      "True\n",
      "True\n",
      "True\n",
      "True\n",
      "True\n",
      "True\n",
      "True\n",
      "True\n",
      "True\n",
      "True\n",
      "True\n",
      "True\n",
      "True\n",
      "True\n"
     ]
    }
   ],
   "source": [
    "# ensure orthogonality at same k\n",
    "for i in range(u_wfs._wfs.shape[0]):\n",
    "    for j in range(u_wfs._wfs.shape[1]):\n",
    "        print(\n",
    "        np.allclose(u_wfs[i, j].conj() @ u_wfs[i, j].T, np.eye(u_wfs._wfs.shape[-2], u_wfs._wfs.shape[-2]))\n",
    "        )"
   ]
  },
  {
   "cell_type": "markdown",
   "metadata": {},
   "source": [
    "Bloch wavefunctions\n",
    "$$\n",
    "|\\psi_{nk}\\rangle = e^{i\\vec{k}\\cdot \\vec{r}} | u_{nk} \\rangle\n",
    "$$"
   ]
  },
  {
   "cell_type": "code",
   "execution_count": 195,
   "metadata": {},
   "outputs": [],
   "source": [
    "psi_wfs = get_bloch_wfs(model, u_wfs, k_mesh_flat)"
   ]
  },
  {
   "cell_type": "code",
   "execution_count": 196,
   "metadata": {},
   "outputs": [
    {
     "data": {
      "text/plain": [
       "0.9987486411640465"
      ]
     },
     "execution_count": 196,
     "metadata": {},
     "output_type": "execute_result"
    }
   ],
   "source": [
    "abs(np.vdot(psi_wfs[0, 5, 0, :], psi_wfs[0, 6, 0, :]))"
   ]
  },
  {
   "cell_type": "code",
   "execution_count": 197,
   "metadata": {},
   "outputs": [
    {
     "data": {
      "text/plain": [
       "0.998623643432062"
      ]
     },
     "execution_count": 197,
     "metadata": {},
     "output_type": "execute_result"
    }
   ],
   "source": [
    "abs(np.vdot(psi_wfs[0, 6, 0, :], psi_wfs[0, 7, 0, :]))"
   ]
  },
  {
   "cell_type": "code",
   "execution_count": 198,
   "metadata": {},
   "outputs": [
    {
     "data": {
      "text/plain": [
       "0.9987531822877989"
      ]
     },
     "execution_count": 198,
     "metadata": {},
     "output_type": "execute_result"
    }
   ],
   "source": [
    "abs(np.vdot(psi_wfs[0, 7, 0, :], psi_wfs[0, 8, 0, :]))"
   ]
  },
  {
   "cell_type": "code",
   "execution_count": 199,
   "metadata": {},
   "outputs": [
    {
     "data": {
      "text/plain": [
       "0.9969279128918582"
      ]
     },
     "execution_count": 199,
     "metadata": {},
     "output_type": "execute_result"
    }
   ],
   "source": [
    "abs(np.vdot(psi_wfs[0, 8, 0, :], psi_wfs[0, 9, 0, :]))"
   ]
  },
  {
   "cell_type": "code",
   "execution_count": 200,
   "metadata": {},
   "outputs": [
    {
     "data": {
      "text/plain": [
       "(1+0j)"
      ]
     },
     "execution_count": 200,
     "metadata": {},
     "output_type": "execute_result"
    }
   ],
   "source": [
    "np.vdot(psi_wfs[0, 9, 0, :], psi_wfs[0, 0, 0, :])"
   ]
  },
  {
   "cell_type": "code",
   "execution_count": 201,
   "metadata": {},
   "outputs": [
    {
     "data": {
      "text/plain": [
       "(-0.9992615316399783+0j)"
      ]
     },
     "execution_count": 201,
     "metadata": {},
     "output_type": "execute_result"
    }
   ],
   "source": [
    "np.vdot(psi_wfs[0, 0, 0, :], psi_wfs[0, 1, 0, :])"
   ]
  },
  {
   "cell_type": "markdown",
   "metadata": {},
   "source": [
    "Orthonormality,\n",
    "$$\n",
    "\\langle \\psi_{nk} | \\psi_{mk} \\rangle = \\delta_{nm}\n",
    "$$"
   ]
  },
  {
   "cell_type": "code",
   "execution_count": 202,
   "metadata": {},
   "outputs": [
    {
     "name": "stdout",
     "output_type": "stream",
     "text": [
      "True\n",
      "True\n",
      "True\n",
      "True\n",
      "True\n",
      "True\n",
      "True\n",
      "True\n",
      "True\n",
      "True\n",
      "True\n",
      "True\n",
      "True\n",
      "True\n",
      "True\n",
      "True\n",
      "True\n",
      "True\n",
      "True\n",
      "True\n",
      "True\n",
      "True\n",
      "True\n",
      "True\n",
      "True\n",
      "True\n",
      "True\n",
      "True\n",
      "True\n",
      "True\n",
      "True\n",
      "True\n",
      "True\n",
      "True\n",
      "True\n",
      "True\n",
      "True\n",
      "True\n",
      "True\n",
      "True\n",
      "True\n",
      "True\n",
      "True\n",
      "True\n",
      "True\n",
      "True\n",
      "True\n",
      "True\n",
      "True\n",
      "True\n",
      "True\n",
      "True\n",
      "True\n",
      "True\n",
      "True\n",
      "True\n",
      "True\n",
      "True\n",
      "True\n",
      "True\n",
      "True\n",
      "True\n",
      "True\n",
      "True\n",
      "True\n",
      "True\n",
      "True\n",
      "True\n",
      "True\n",
      "True\n",
      "True\n",
      "True\n",
      "True\n",
      "True\n",
      "True\n",
      "True\n",
      "True\n",
      "True\n",
      "True\n",
      "True\n",
      "True\n",
      "True\n",
      "True\n",
      "True\n",
      "True\n",
      "True\n",
      "True\n",
      "True\n",
      "True\n",
      "True\n",
      "True\n",
      "True\n",
      "True\n",
      "True\n",
      "True\n",
      "True\n",
      "True\n",
      "True\n",
      "True\n",
      "True\n"
     ]
    }
   ],
   "source": [
    "# ensure orthogonality at same k\n",
    "for i in range(psi_wfs.shape[0]):\n",
    "    for j in range(psi_wfs.shape[1]):\n",
    "        print(\n",
    "        np.allclose(psi_wfs[i, j].conj() @ psi_wfs[i, j].T, np.eye(psi_wfs.shape[-2], psi_wfs.shape[-2]))\n",
    "        )"
   ]
  },
  {
   "cell_type": "markdown",
   "metadata": {},
   "source": [
    "Occupied band projector\n",
    "\n",
    "$$P_k = \\sum_{n=1}^{n_{occ}} |\\psi_{nk} \\rangle \\langle \\psi_{nk}|$$"
   ]
  },
  {
   "cell_type": "code",
   "execution_count": 203,
   "metadata": {},
   "outputs": [],
   "source": [
    "P_k, Q_k = get_projector(psi_wfs, bands = range(n_occ))"
   ]
  },
  {
   "cell_type": "markdown",
   "metadata": {},
   "source": [
    "Inner product matrix\n",
    "$$(A_k)_{mn} = \\langle \\psi_{mk} | g_n \\rangle$$"
   ]
  },
  {
   "cell_type": "code",
   "execution_count": 204,
   "metadata": {},
   "outputs": [
    {
     "data": {
      "text/plain": [
       "array([[1.+0.j, 0.+0.j]])"
      ]
     },
     "execution_count": 204,
     "metadata": {},
     "output_type": "execute_result"
    }
   ],
   "source": [
    "norb = len(model.get_orb())\n",
    "tfs = set_trial_function(tf_list, norb)\n",
    "tfs"
   ]
  },
  {
   "cell_type": "code",
   "execution_count": 205,
   "metadata": {},
   "outputs": [
    {
     "data": {
      "text/plain": [
       "(10, 10, 1, 1)"
      ]
     },
     "execution_count": 205,
     "metadata": {},
     "output_type": "execute_result"
    }
   ],
   "source": [
    "A = tf_overlap_mat(psi_wfs, tfs, n_occ)\n",
    "A.shape"
   ]
  },
  {
   "cell_type": "markdown",
   "metadata": {},
   "source": [
    "$$ A = V S W^{\\dagger}$$\n",
    "$$ M = V W^{\\dagger} $$"
   ]
  },
  {
   "cell_type": "code",
   "execution_count": 206,
   "metadata": {},
   "outputs": [
    {
     "data": {
      "text/plain": [
       "(10, 10, 1, 1)"
      ]
     },
     "execution_count": 206,
     "metadata": {},
     "output_type": "execute_result"
    }
   ],
   "source": [
    "V, S, Wh = np.linalg.svd(A, full_matrices=False)\n",
    "M = V @ Wh\n",
    "M.shape"
   ]
  },
  {
   "cell_type": "markdown",
   "metadata": {},
   "source": [
    "$$M M^{\\dagger} = 1$$"
   ]
  },
  {
   "cell_type": "code",
   "execution_count": 207,
   "metadata": {},
   "outputs": [
    {
     "name": "stdout",
     "output_type": "stream",
     "text": [
      "True\n",
      "True\n",
      "True\n",
      "True\n",
      "True\n",
      "True\n",
      "True\n",
      "True\n",
      "True\n",
      "True\n",
      "True\n",
      "True\n",
      "True\n",
      "True\n",
      "True\n",
      "True\n",
      "True\n",
      "True\n",
      "True\n",
      "True\n",
      "True\n",
      "True\n",
      "True\n",
      "True\n",
      "True\n",
      "True\n",
      "True\n",
      "True\n",
      "True\n",
      "True\n",
      "True\n",
      "True\n",
      "True\n",
      "True\n",
      "True\n",
      "True\n",
      "True\n",
      "True\n",
      "True\n",
      "True\n",
      "True\n",
      "True\n",
      "True\n",
      "True\n",
      "True\n",
      "True\n",
      "True\n",
      "True\n",
      "True\n",
      "True\n",
      "True\n",
      "True\n",
      "True\n",
      "True\n",
      "True\n",
      "True\n",
      "True\n",
      "True\n",
      "True\n",
      "True\n",
      "True\n",
      "True\n",
      "True\n",
      "True\n",
      "True\n",
      "True\n",
      "True\n",
      "True\n",
      "True\n",
      "True\n",
      "True\n",
      "True\n",
      "True\n",
      "True\n",
      "True\n",
      "True\n",
      "True\n",
      "True\n",
      "True\n",
      "True\n",
      "True\n",
      "True\n",
      "True\n",
      "True\n",
      "True\n",
      "True\n",
      "True\n",
      "True\n",
      "True\n",
      "True\n",
      "True\n",
      "True\n",
      "True\n",
      "True\n",
      "True\n",
      "True\n",
      "True\n",
      "True\n",
      "True\n",
      "True\n"
     ]
    }
   ],
   "source": [
    "# Unitarity check\n",
    "for i in range(M.shape[0]):\n",
    "    for j in range(M.shape[1]):\n",
    "        print(\n",
    "        np.allclose(M[i, j].conj().T @ M[i, j], np.eye(M.shape[-1], M.shape[-1])) \n",
    "        )"
   ]
  },
  {
   "cell_type": "markdown",
   "metadata": {},
   "source": [
    "Smoothened Bloch states \n",
    "$$|\\tilde{\\psi}_{nk} \\rangle = \\sum_{m=1}^{n_{occ}} |\\psi_{mk} \\rangle M_{mn}$$\n"
   ]
  },
  {
   "cell_type": "code",
   "execution_count": 208,
   "metadata": {},
   "outputs": [
    {
     "data": {
      "text/plain": [
       "(10, 10, 1, 2)"
      ]
     },
     "execution_count": 208,
     "metadata": {},
     "output_type": "execute_result"
    }
   ],
   "source": [
    "psi_tilde = get_psi_tilde(psi_wfs, A)\n",
    "psi_tilde.shape"
   ]
  },
  {
   "cell_type": "code",
   "execution_count": 209,
   "metadata": {},
   "outputs": [
    {
     "data": {
      "text/plain": [
       "(0.9987200472374714+0.007557477953137584j)"
      ]
     },
     "execution_count": 209,
     "metadata": {},
     "output_type": "execute_result"
    }
   ],
   "source": [
    "np.vdot(psi_tilde[0, 5, 0, :], psi_tilde[0, 6, 0, :])"
   ]
  },
  {
   "cell_type": "code",
   "execution_count": 210,
   "metadata": {},
   "outputs": [
    {
     "data": {
      "text/plain": [
       "(0.998608611591787+0.005479240481088808j)"
      ]
     },
     "execution_count": 210,
     "metadata": {},
     "output_type": "execute_result"
    }
   ],
   "source": [
    "np.vdot(psi_tilde[0, 6, 0, :], psi_tilde[0, 7, 0, :])"
   ]
  },
  {
   "cell_type": "code",
   "execution_count": 211,
   "metadata": {},
   "outputs": [
    {
     "data": {
      "text/plain": [
       "(0.9987490927248582+0.0028581307313940607j)"
      ]
     },
     "execution_count": 211,
     "metadata": {},
     "output_type": "execute_result"
    }
   ],
   "source": [
    "np.vdot(psi_tilde[0, 7, 0, :], psi_tilde[0, 8, 0, :])"
   ]
  },
  {
   "cell_type": "markdown",
   "metadata": {},
   "source": [
    "Projector \n",
    "$$\\tilde{P}_k = \\sum_{n=1}^{n_{occ}} |\\tilde{\\psi}_{nk} \\rangle \\langle \\tilde{\\psi}_{nk}|$$"
   ]
  },
  {
   "cell_type": "code",
   "execution_count": 215,
   "metadata": {},
   "outputs": [],
   "source": [
    "P_til_k, Q_til_k = get_projector(psi_tilde, bands=range(n_occ))"
   ]
  },
  {
   "cell_type": "markdown",
   "metadata": {},
   "source": [
    "$$ \\langle \\tilde{\\psi}_{n, k'} | \\tilde{\\psi}_{m,k'} \\rangle = \\delta_{n,m}$$ "
   ]
  },
  {
   "cell_type": "code",
   "execution_count": 218,
   "metadata": {},
   "outputs": [
    {
     "name": "stdout",
     "output_type": "stream",
     "text": [
      "True\n",
      "True\n",
      "True\n",
      "True\n",
      "True\n",
      "True\n",
      "True\n",
      "True\n",
      "True\n",
      "True\n",
      "True\n",
      "True\n",
      "True\n",
      "True\n",
      "True\n",
      "True\n",
      "True\n",
      "True\n",
      "True\n",
      "True\n",
      "True\n",
      "True\n",
      "True\n",
      "True\n",
      "True\n",
      "True\n",
      "True\n",
      "True\n",
      "True\n",
      "True\n",
      "True\n",
      "True\n",
      "True\n",
      "True\n",
      "True\n",
      "True\n",
      "True\n",
      "True\n",
      "True\n",
      "True\n",
      "True\n",
      "True\n",
      "True\n",
      "True\n",
      "True\n",
      "True\n",
      "True\n",
      "True\n",
      "True\n",
      "True\n",
      "True\n",
      "True\n",
      "True\n",
      "True\n",
      "True\n",
      "True\n",
      "True\n",
      "True\n",
      "True\n",
      "True\n",
      "True\n",
      "True\n",
      "True\n",
      "True\n",
      "True\n",
      "True\n",
      "True\n",
      "True\n",
      "True\n",
      "True\n",
      "True\n",
      "True\n",
      "True\n",
      "True\n",
      "True\n",
      "True\n",
      "True\n",
      "True\n",
      "True\n",
      "True\n",
      "True\n",
      "True\n",
      "True\n",
      "True\n",
      "True\n",
      "True\n",
      "True\n",
      "True\n",
      "True\n",
      "True\n",
      "True\n",
      "True\n",
      "True\n",
      "True\n",
      "True\n",
      "True\n",
      "True\n",
      "True\n",
      "True\n",
      "True\n"
     ]
    }
   ],
   "source": [
    "for i in range(psi_tilde.shape[0]):\n",
    "    for j in range(psi_tilde.shape[1]):\n",
    "        print(\n",
    "        np.allclose(psi_tilde[i, j].conj() @ psi_tilde[i, j].T, np.eye(psi_tilde.shape[-2], psi_tilde.shape[-2]))\n",
    "        )"
   ]
  },
  {
   "cell_type": "markdown",
   "metadata": {},
   "source": [
    "Wannier construction\n",
    "\n",
    "$$\n",
    "|Rn \\rangle = \\frac{1}{N} \\sum_{k} e^{-i\\vec{k}\\cdot\\vec{R}} |\\psi_{nk}\\rangle \n",
    "$$"
   ]
  },
  {
   "cell_type": "code",
   "execution_count": 219,
   "metadata": {},
   "outputs": [
    {
     "data": {
      "text/plain": [
       "(10, 10, 1, 2)"
      ]
     },
     "execution_count": 219,
     "metadata": {},
     "output_type": "execute_result"
    }
   ],
   "source": [
    "# forward norm puts factor of 1/N in front\n",
    "Rn = np.fft.fftn(psi_tilde, axes = (0, 1), norm='forward')\n",
    "Rn.shape"
   ]
  },
  {
   "cell_type": "markdown",
   "metadata": {},
   "source": [
    "Projector\n",
    "$$\n",
    "P_R = \\sum_{n} |n\\vec{R} \\rangle \\langle n\\vec{R} |\n",
    "$$"
   ]
  },
  {
   "cell_type": "code",
   "execution_count": 223,
   "metadata": {},
   "outputs": [],
   "source": [
    "P_R, Q_R = get_projector(Rn, bands=range(n_occ), Wannier=True)"
   ]
  },
  {
   "cell_type": "markdown",
   "metadata": {},
   "source": [
    "Equivalence of Bloch wavefunction projector and Wannier projector\n",
    "\n",
    "$$ N\\sum_{R} P_R = \\sum_{k} \\tilde{P}_k = \\sum_k P_k$$"
   ]
  },
  {
   "cell_type": "code",
   "execution_count": 224,
   "metadata": {},
   "outputs": [
    {
     "name": "stdout",
     "output_type": "stream",
     "text": [
      "True\n",
      "True\n",
      "True\n"
     ]
    }
   ],
   "source": [
    "print(np.allclose(P_R, P_til_k))\n",
    "print(np.allclose(P_R, P_k))\n",
    "print(np.allclose(P_k, P_til_k))"
   ]
  },
  {
   "cell_type": "markdown",
   "metadata": {},
   "source": [
    "$$ \\langle R, n | R, n \\rangle \\neq 1 $$ \n",
    "$$\\sum_R \\langle R, n | R, n \\rangle = 1 $$ \n"
   ]
  },
  {
   "cell_type": "code",
   "execution_count": 84,
   "metadata": {},
   "outputs": [
    {
     "data": {
      "text/plain": [
       "(0.9999999999999998-5.958697044808768e-21j)"
      ]
     },
     "execution_count": 84,
     "metadata": {},
     "output_type": "execute_result"
    }
   ],
   "source": [
    "np.sum(np.array([[np.vdot(Rn[i, j, 0, :], Rn[i, j, 0, :]) for i in range(Rn.shape[0])] for j in range(Rn.shape[1])]), axis=(0,1))"
   ]
  }
 ],
 "metadata": {
  "kernelspec": {
   "display_name": "rutgers",
   "language": "python",
   "name": "python3"
  },
  "language_info": {
   "codemirror_mode": {
    "name": "ipython",
    "version": 3
   },
   "file_extension": ".py",
   "mimetype": "text/x-python",
   "name": "python",
   "nbconvert_exporter": "python",
   "pygments_lexer": "ipython3",
   "version": "3.9.7"
  }
 },
 "nbformat": 4,
 "nbformat_minor": 2
}
