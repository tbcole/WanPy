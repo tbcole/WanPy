{
 "cells": [
  {
   "cell_type": "code",
   "execution_count": 1,
   "metadata": {},
   "outputs": [
    {
     "name": "stdout",
     "output_type": "stream",
     "text": [
      "/Users/treycole/Codes/WanPy/tutorials\n"
     ]
    }
   ],
   "source": [
    "import os\n",
    "import sys\n",
    "print(os.getcwd())\n",
    "sys.path.append(\"../WanPy\")\n",
    "\n",
    "from WanPy import *\n",
    "from pythtb import *\n",
    "from pythTB_wan import Bloch, K_mesh, Wannier, Lattice\n",
    "import models\n",
    "import plotting as plot\n",
    "\n",
    "import numpy as np\n",
    "import matplotlib.pyplot as plt\n",
    "from matplotlib.colors import LogNorm"
   ]
  },
  {
   "cell_type": "markdown",
   "metadata": {},
   "source": [
    "Setting up `pythTB` tight-binding model"
   ]
  },
  {
   "cell_type": "code",
   "execution_count": 2,
   "metadata": {},
   "outputs": [
    {
     "name": "stdout",
     "output_type": "stream",
     "text": [
      "Low energy sites: [0 2 4 6]\n",
      "High energy sites: [1 3 5 7]\n",
      "Chern #: -0.0\n",
      "---------------------------------------\n",
      "report of tight-binding model\n",
      "---------------------------------------\n",
      "k-space dimension           = 2\n",
      "r-space dimension           = 2\n",
      "number of spin components   = 1\n",
      "periodic directions         = [0, 1]\n",
      "number of orbitals          = 8\n",
      "number of electronic states = 8\n",
      "lattice vectors:\n",
      " #  0  ===>  [     2.0 ,     0.0 ]\n",
      " #  1  ===>  [     0.0 ,     2.0 ]\n",
      "positions of orbitals:\n",
      " #  0  ===>  [     0.0 ,     0.0 ]\n",
      " #  1  ===>  [    0.25 ,    0.25 ]\n",
      " #  2  ===>  [     0.0 ,     0.5 ]\n",
      " #  3  ===>  [    0.25 ,    0.75 ]\n",
      " #  4  ===>  [     0.5 ,     0.0 ]\n",
      " #  5  ===>  [    0.75 ,    0.25 ]\n",
      " #  6  ===>  [     0.5 ,     0.5 ]\n",
      " #  7  ===>  [    0.75 ,    0.75 ]\n",
      "site energies:\n",
      " #  0  ===>      -1.0\n",
      " #  1  ===>       1.0\n",
      " #  2  ===>      -1.0\n",
      " #  3  ===>       1.0\n",
      " #  4  ===>      -1.0\n",
      " #  5  ===>       1.0\n",
      " #  6  ===>      -1.0\n",
      " #  7  ===>       1.0\n",
      "hoppings:\n",
      "<  0 | H |  4 + [  0 ,  0 ] >     ===>     -0.1 +     0.0 i\n",
      "<  0 | H |  2 + [  0 ,  0 ] >     ===>     -0.1 +     0.0 i\n",
      "<  1 | H |  5 + [  0 ,  0 ] >     ===>      0.1 +     0.0 i\n",
      "<  1 | H |  3 + [  0 ,  0 ] >     ===>      0.1 +     0.0 i\n",
      "<  1 | H |  6 + [  0 ,  0 ] >     ===>      0.5 +     0.0 i\n",
      "<  1 | H |  2 + [  0 ,  0 ] >     ===>      0.0 +     0.5 i\n",
      "<  1 | H |  0 + [  0 ,  0 ] >     ===>     -0.5 +     0.0 i\n",
      "<  1 | H |  4 + [  0 ,  0 ] >     ===>     -0.0 -     0.5 i\n",
      "<  2 | H |  6 + [  0 ,  0 ] >     ===>     -0.1 +     0.0 i\n",
      "<  2 | H |  0 + [  0 ,  1 ] >     ===>     -0.1 +     0.0 i\n",
      "<  3 | H |  7 + [  0 ,  0 ] >     ===>      0.1 +     0.0 i\n",
      "<  3 | H |  1 + [  0 ,  1 ] >     ===>      0.1 +     0.0 i\n",
      "<  3 | H |  4 + [  0 ,  1 ] >     ===>      0.5 +     0.0 i\n",
      "<  3 | H |  0 + [  0 ,  1 ] >     ===>      0.0 +     0.5 i\n",
      "<  3 | H |  2 + [  0 ,  0 ] >     ===>     -0.5 +     0.0 i\n",
      "<  3 | H |  6 + [  0 ,  0 ] >     ===>     -0.0 -     0.5 i\n",
      "<  4 | H |  0 + [  1 ,  0 ] >     ===>     -0.1 +     0.0 i\n",
      "<  4 | H |  6 + [  0 ,  0 ] >     ===>     -0.1 +     0.0 i\n",
      "<  5 | H |  1 + [  1 ,  0 ] >     ===>      0.1 +     0.0 i\n",
      "<  5 | H |  7 + [  0 ,  0 ] >     ===>      0.1 +     0.0 i\n",
      "<  5 | H |  2 + [  1 ,  0 ] >     ===>      0.5 +     0.0 i\n",
      "<  5 | H |  6 + [  0 ,  0 ] >     ===>      0.0 +     0.5 i\n",
      "<  5 | H |  4 + [  0 ,  0 ] >     ===>     -0.5 +     0.0 i\n",
      "<  5 | H |  0 + [  1 ,  0 ] >     ===>     -0.0 -     0.5 i\n",
      "<  6 | H |  2 + [  1 ,  0 ] >     ===>     -0.1 +     0.0 i\n",
      "<  6 | H |  4 + [  0 ,  1 ] >     ===>     -0.1 +     0.0 i\n",
      "<  7 | H |  3 + [  1 ,  0 ] >     ===>      0.1 +     0.0 i\n",
      "<  7 | H |  5 + [  0 ,  1 ] >     ===>      0.1 +     0.0 i\n",
      "<  7 | H |  0 + [  1 ,  1 ] >     ===>      0.5 +     0.0 i\n",
      "<  7 | H |  4 + [  0 ,  1 ] >     ===>      0.0 +     0.5 i\n",
      "<  7 | H |  6 + [  0 ,  0 ] >     ===>     -0.5 +     0.0 i\n",
      "<  7 | H |  2 + [  1 ,  0 ] >     ===>     -0.0 -     0.5 i\n",
      "hopping distances:\n",
      "|  pos(  0 )  - pos(  4 + [  0 ,  0 ] ) |  =       1.0\n",
      "|  pos(  0 )  - pos(  2 + [  0 ,  0 ] ) |  =       1.0\n",
      "|  pos(  1 )  - pos(  5 + [  0 ,  0 ] ) |  =       1.0\n",
      "|  pos(  1 )  - pos(  3 + [  0 ,  0 ] ) |  =       1.0\n",
      "|  pos(  1 )  - pos(  6 + [  0 ,  0 ] ) |  =    0.7071\n",
      "|  pos(  1 )  - pos(  2 + [  0 ,  0 ] ) |  =    0.7071\n",
      "|  pos(  1 )  - pos(  0 + [  0 ,  0 ] ) |  =    0.7071\n",
      "|  pos(  1 )  - pos(  4 + [  0 ,  0 ] ) |  =    0.7071\n",
      "|  pos(  2 )  - pos(  6 + [  0 ,  0 ] ) |  =       1.0\n",
      "|  pos(  2 )  - pos(  0 + [  0 ,  1 ] ) |  =       1.0\n",
      "|  pos(  3 )  - pos(  7 + [  0 ,  0 ] ) |  =       1.0\n",
      "|  pos(  3 )  - pos(  1 + [  0 ,  1 ] ) |  =       1.0\n",
      "|  pos(  3 )  - pos(  4 + [  0 ,  1 ] ) |  =    0.7071\n",
      "|  pos(  3 )  - pos(  0 + [  0 ,  1 ] ) |  =    0.7071\n",
      "|  pos(  3 )  - pos(  2 + [  0 ,  0 ] ) |  =    0.7071\n",
      "|  pos(  3 )  - pos(  6 + [  0 ,  0 ] ) |  =    0.7071\n",
      "|  pos(  4 )  - pos(  0 + [  1 ,  0 ] ) |  =       1.0\n",
      "|  pos(  4 )  - pos(  6 + [  0 ,  0 ] ) |  =       1.0\n",
      "|  pos(  5 )  - pos(  1 + [  1 ,  0 ] ) |  =       1.0\n",
      "|  pos(  5 )  - pos(  7 + [  0 ,  0 ] ) |  =       1.0\n",
      "|  pos(  5 )  - pos(  2 + [  1 ,  0 ] ) |  =    0.7071\n",
      "|  pos(  5 )  - pos(  6 + [  0 ,  0 ] ) |  =    0.7071\n",
      "|  pos(  5 )  - pos(  4 + [  0 ,  0 ] ) |  =    0.7071\n",
      "|  pos(  5 )  - pos(  0 + [  1 ,  0 ] ) |  =    0.7071\n",
      "|  pos(  6 )  - pos(  2 + [  1 ,  0 ] ) |  =       1.0\n",
      "|  pos(  6 )  - pos(  4 + [  0 ,  1 ] ) |  =       1.0\n",
      "|  pos(  7 )  - pos(  3 + [  1 ,  0 ] ) |  =       1.0\n",
      "|  pos(  7 )  - pos(  5 + [  0 ,  1 ] ) |  =       1.0\n",
      "|  pos(  7 )  - pos(  0 + [  1 ,  1 ] ) |  =    0.7071\n",
      "|  pos(  7 )  - pos(  4 + [  0 ,  1 ] ) |  =    0.7071\n",
      "|  pos(  7 )  - pos(  6 + [  0 ,  0 ] ) |  =    0.7071\n",
      "|  pos(  7 )  - pos(  2 + [  1 ,  0 ] ) |  =    0.7071\n",
      "\n"
     ]
    }
   ],
   "source": [
    "delta = 1\n",
    "t0 = 0.1\n",
    "tprime = 0.5\n",
    "n_super_cell = 2\n",
    "\n",
    "model = models.chessboard(t0, tprime, delta).make_supercell([[n_super_cell, 0], [0, n_super_cell]])\n",
    "\n",
    "low_E_sites = np.arange(0, model.get_num_orbitals(), 2)\n",
    "high_E_sites = np.arange(1, model.get_num_orbitals(), 2)\n",
    "lat_vecs = model.get_lat()\n",
    "orb_vecs = model.get_orb()\n",
    "n_orb = model.get_num_orbitals()\n",
    "n_occ = int(n_orb/2)\n",
    "\n",
    "u_wfs_full = wf_array(model, [20, 20])\n",
    "u_wfs_full.solve_on_grid([0, 0])\n",
    "chern = u_wfs_full.berry_flux([i for i in range(n_occ)])/(2*np.pi)\n",
    "\n",
    "print(f\"Low energy sites: {low_E_sites}\")\n",
    "print(f\"High energy sites: {high_E_sites}\")\n",
    "print(f\"Chern #: {chern: .1f}\")\n",
    "model.display()"
   ]
  },
  {
   "cell_type": "markdown",
   "metadata": {},
   "source": [
    "To start, we will define the trial wavefunctions to project onto the Bloch energy eigenstates to form the Bloch-like states with a smoothened gauge. Since we are in the trivial phase, we chose a number of trial wavefunctions equal to the number of bands in our target subspace, the occupied subspace in this case. We will chose delta functions on the lower energy sites in the unit cell as our trial wavefunctions."
   ]
  },
  {
   "cell_type": "code",
   "execution_count": 3,
   "metadata": {},
   "outputs": [
    {
     "name": "stdout",
     "output_type": "stream",
     "text": [
      "# of Wannier functions: 4\n",
      "# of occupied bands: 4\n",
      "Wannier fraction: 1.0\n"
     ]
    }
   ],
   "source": [
    "tf_list = list(low_E_sites)\n",
    "\n",
    "n_tfs = len(tf_list)\n",
    "Wan_frac = n_tfs/n_occ\n",
    "print(f\"# of Wannier functions: {n_tfs}\")\n",
    "print(f\"# of occupied bands: {n_occ}\")\n",
    "print(f\"Wannier fraction: {Wan_frac}\")"
   ]
  },
  {
   "cell_type": "markdown",
   "metadata": {},
   "source": [
    "To initialize the Wannier class instance, we must pass the model and the number of points along each reciprocal lattice basis vector. "
   ]
  },
  {
   "cell_type": "code",
   "execution_count": 11,
   "metadata": {},
   "outputs": [],
   "source": [
    "nks = 20, 20\n",
    "WF = Wannier(model, nks)\n",
    "WF."
   ]
  },
  {
   "cell_type": "markdown",
   "metadata": {},
   "source": [
    "The Wannier instance will initialize a `Bloch` instance associated with the energy eigenstates, another `Bloch` instance associated with the smoothened (tilde) states to Fourier transform into Wannier states, a `Lattice` instance keeping track of the geometry of our tight-binding lattice, and a `K_mesh` to store the k-points and nearest neighbor weights."
   ]
  },
  {
   "cell_type": "code",
   "execution_count": 14,
   "metadata": {},
   "outputs": [
    {
     "ename": "AttributeError",
     "evalue": "'Wannier' object has no attribute 'energy_eigenstates'",
     "output_type": "error",
     "traceback": [
      "\u001b[0;31m---------------------------------------------------------------------------\u001b[0m",
      "\u001b[0;31mAttributeError\u001b[0m                            Traceback (most recent call last)",
      "Cell \u001b[0;32mIn[14], line 1\u001b[0m\n\u001b[0;32m----> 1\u001b[0m \u001b[38;5;28mprint\u001b[39m(\u001b[38;5;28mtype\u001b[39m(\u001b[43mWF\u001b[49m\u001b[38;5;241;43m.\u001b[39;49m\u001b[43menergy_eigenstates\u001b[49m))\n",
      "\u001b[0;31mAttributeError\u001b[0m: 'Wannier' object has no attribute 'energy_eigenstates'"
     ]
    }
   ],
   "source": [
    "print(type(WF.energy_eigstates))\n",
    "print(type(WF.Lattice))"
   ]
  }
 ],
 "metadata": {
  "kernelspec": {
   "display_name": "rutgers",
   "language": "python",
   "name": "python3"
  },
  "language_info": {
   "codemirror_mode": {
    "name": "ipython",
    "version": 3
   },
   "file_extension": ".py",
   "mimetype": "text/x-python",
   "name": "python",
   "nbconvert_exporter": "python",
   "pygments_lexer": "ipython3",
   "version": "3.10.14"
  }
 },
 "nbformat": 4,
 "nbformat_minor": 2
}
