{
 "cells": [
  {
   "cell_type": "code",
   "execution_count": 2,
   "metadata": {},
   "outputs": [
    {
     "name": "stdout",
     "output_type": "stream",
     "text": [
      "/Users/treycole/Codes/WanPy/tutorials\n"
     ]
    }
   ],
   "source": [
    "import os\n",
    "import sys\n",
    "print(os.getcwd())\n",
    "sys.path.append(\"../WanPy\")\n",
    "\n",
    "from WanPy import *\n",
    "from pythtb import *\n",
    "from pythTB_wan import *\n",
    "import models\n",
    "import plotting as plot\n",
    "\n",
    "import numpy as np\n",
    "import matplotlib.pyplot as plt\n",
    "from matplotlib.colors import LogNorm"
   ]
  },
  {
   "cell_type": "markdown",
   "metadata": {},
   "source": [
    "Setting up `pythTB` tight-binding model"
   ]
  },
  {
   "cell_type": "code",
   "execution_count": 26,
   "metadata": {},
   "outputs": [
    {
     "name": "stdout",
     "output_type": "stream",
     "text": [
      "Low energy sites: [0 2 4 6]\n",
      "High energy sites: [1 3 5 7]\n",
      "Chern #: -0.0\n",
      "---------------------------------------\n",
      "report of tight-binding model\n",
      "---------------------------------------\n",
      "k-space dimension           = 2\n",
      "r-space dimension           = 2\n",
      "number of spin components   = 1\n",
      "periodic directions         = [0, 1]\n",
      "number of orbitals          = 8\n",
      "number of electronic states = 8\n",
      "lattice vectors:\n",
      " #  0  ===>  [     2.0 ,     0.0 ]\n",
      " #  1  ===>  [     0.0 ,     2.0 ]\n",
      "positions of orbitals:\n",
      " #  0  ===>  [     0.0 ,     0.0 ]\n",
      " #  1  ===>  [    0.25 ,    0.25 ]\n",
      " #  2  ===>  [     0.0 ,     0.5 ]\n",
      " #  3  ===>  [    0.25 ,    0.75 ]\n",
      " #  4  ===>  [     0.5 ,     0.0 ]\n",
      " #  5  ===>  [    0.75 ,    0.25 ]\n",
      " #  6  ===>  [     0.5 ,     0.5 ]\n",
      " #  7  ===>  [    0.75 ,    0.75 ]\n",
      "site energies:\n",
      " #  0  ===>      -1.0\n",
      " #  1  ===>       1.0\n",
      " #  2  ===>      -1.0\n",
      " #  3  ===>       1.0\n",
      " #  4  ===>      -1.0\n",
      " #  5  ===>       1.0\n",
      " #  6  ===>      -1.0\n",
      " #  7  ===>       1.0\n",
      "hoppings:\n",
      "<  0 | H |  4 + [  0 ,  0 ] >     ===>     -0.1 +     0.0 i\n",
      "<  0 | H |  2 + [  0 ,  0 ] >     ===>     -0.1 +     0.0 i\n",
      "<  1 | H |  5 + [  0 ,  0 ] >     ===>      0.1 +     0.0 i\n",
      "<  1 | H |  3 + [  0 ,  0 ] >     ===>      0.1 +     0.0 i\n",
      "<  1 | H |  6 + [  0 ,  0 ] >     ===>      0.5 +     0.0 i\n",
      "<  1 | H |  2 + [  0 ,  0 ] >     ===>      0.0 +     0.5 i\n",
      "<  1 | H |  0 + [  0 ,  0 ] >     ===>     -0.5 +     0.0 i\n",
      "<  1 | H |  4 + [  0 ,  0 ] >     ===>     -0.0 -     0.5 i\n",
      "<  2 | H |  6 + [  0 ,  0 ] >     ===>     -0.1 +     0.0 i\n",
      "<  2 | H |  0 + [  0 ,  1 ] >     ===>     -0.1 +     0.0 i\n",
      "<  3 | H |  7 + [  0 ,  0 ] >     ===>      0.1 +     0.0 i\n",
      "<  3 | H |  1 + [  0 ,  1 ] >     ===>      0.1 +     0.0 i\n",
      "<  3 | H |  4 + [  0 ,  1 ] >     ===>      0.5 +     0.0 i\n",
      "<  3 | H |  0 + [  0 ,  1 ] >     ===>      0.0 +     0.5 i\n",
      "<  3 | H |  2 + [  0 ,  0 ] >     ===>     -0.5 +     0.0 i\n",
      "<  3 | H |  6 + [  0 ,  0 ] >     ===>     -0.0 -     0.5 i\n",
      "<  4 | H |  0 + [  1 ,  0 ] >     ===>     -0.1 +     0.0 i\n",
      "<  4 | H |  6 + [  0 ,  0 ] >     ===>     -0.1 +     0.0 i\n",
      "<  5 | H |  1 + [  1 ,  0 ] >     ===>      0.1 +     0.0 i\n",
      "<  5 | H |  7 + [  0 ,  0 ] >     ===>      0.1 +     0.0 i\n",
      "<  5 | H |  2 + [  1 ,  0 ] >     ===>      0.5 +     0.0 i\n",
      "<  5 | H |  6 + [  0 ,  0 ] >     ===>      0.0 +     0.5 i\n",
      "<  5 | H |  4 + [  0 ,  0 ] >     ===>     -0.5 +     0.0 i\n",
      "<  5 | H |  0 + [  1 ,  0 ] >     ===>     -0.0 -     0.5 i\n",
      "<  6 | H |  2 + [  1 ,  0 ] >     ===>     -0.1 +     0.0 i\n",
      "<  6 | H |  4 + [  0 ,  1 ] >     ===>     -0.1 +     0.0 i\n",
      "<  7 | H |  3 + [  1 ,  0 ] >     ===>      0.1 +     0.0 i\n",
      "<  7 | H |  5 + [  0 ,  1 ] >     ===>      0.1 +     0.0 i\n",
      "<  7 | H |  0 + [  1 ,  1 ] >     ===>      0.5 +     0.0 i\n",
      "<  7 | H |  4 + [  0 ,  1 ] >     ===>      0.0 +     0.5 i\n",
      "<  7 | H |  6 + [  0 ,  0 ] >     ===>     -0.5 +     0.0 i\n",
      "<  7 | H |  2 + [  1 ,  0 ] >     ===>     -0.0 -     0.5 i\n",
      "hopping distances:\n",
      "|  pos(  0 )  - pos(  4 + [  0 ,  0 ] ) |  =       1.0\n",
      "|  pos(  0 )  - pos(  2 + [  0 ,  0 ] ) |  =       1.0\n",
      "|  pos(  1 )  - pos(  5 + [  0 ,  0 ] ) |  =       1.0\n",
      "|  pos(  1 )  - pos(  3 + [  0 ,  0 ] ) |  =       1.0\n",
      "|  pos(  1 )  - pos(  6 + [  0 ,  0 ] ) |  =    0.7071\n",
      "|  pos(  1 )  - pos(  2 + [  0 ,  0 ] ) |  =    0.7071\n",
      "|  pos(  1 )  - pos(  0 + [  0 ,  0 ] ) |  =    0.7071\n",
      "|  pos(  1 )  - pos(  4 + [  0 ,  0 ] ) |  =    0.7071\n",
      "|  pos(  2 )  - pos(  6 + [  0 ,  0 ] ) |  =       1.0\n",
      "|  pos(  2 )  - pos(  0 + [  0 ,  1 ] ) |  =       1.0\n",
      "|  pos(  3 )  - pos(  7 + [  0 ,  0 ] ) |  =       1.0\n",
      "|  pos(  3 )  - pos(  1 + [  0 ,  1 ] ) |  =       1.0\n",
      "|  pos(  3 )  - pos(  4 + [  0 ,  1 ] ) |  =    0.7071\n",
      "|  pos(  3 )  - pos(  0 + [  0 ,  1 ] ) |  =    0.7071\n",
      "|  pos(  3 )  - pos(  2 + [  0 ,  0 ] ) |  =    0.7071\n",
      "|  pos(  3 )  - pos(  6 + [  0 ,  0 ] ) |  =    0.7071\n",
      "|  pos(  4 )  - pos(  0 + [  1 ,  0 ] ) |  =       1.0\n",
      "|  pos(  4 )  - pos(  6 + [  0 ,  0 ] ) |  =       1.0\n",
      "|  pos(  5 )  - pos(  1 + [  1 ,  0 ] ) |  =       1.0\n",
      "|  pos(  5 )  - pos(  7 + [  0 ,  0 ] ) |  =       1.0\n",
      "|  pos(  5 )  - pos(  2 + [  1 ,  0 ] ) |  =    0.7071\n",
      "|  pos(  5 )  - pos(  6 + [  0 ,  0 ] ) |  =    0.7071\n",
      "|  pos(  5 )  - pos(  4 + [  0 ,  0 ] ) |  =    0.7071\n",
      "|  pos(  5 )  - pos(  0 + [  1 ,  0 ] ) |  =    0.7071\n",
      "|  pos(  6 )  - pos(  2 + [  1 ,  0 ] ) |  =       1.0\n",
      "|  pos(  6 )  - pos(  4 + [  0 ,  1 ] ) |  =       1.0\n",
      "|  pos(  7 )  - pos(  3 + [  1 ,  0 ] ) |  =       1.0\n",
      "|  pos(  7 )  - pos(  5 + [  0 ,  1 ] ) |  =       1.0\n",
      "|  pos(  7 )  - pos(  0 + [  1 ,  1 ] ) |  =    0.7071\n",
      "|  pos(  7 )  - pos(  4 + [  0 ,  1 ] ) |  =    0.7071\n",
      "|  pos(  7 )  - pos(  6 + [  0 ,  0 ] ) |  =    0.7071\n",
      "|  pos(  7 )  - pos(  2 + [  1 ,  0 ] ) |  =    0.7071\n",
      "\n"
     ]
    }
   ],
   "source": [
    "delta = 1\n",
    "t0 = 0.1\n",
    "tprime = 0.5\n",
    "n_super_cell = 2\n",
    "\n",
    "model = models.chessboard(t0, tprime, delta).make_supercell([[n_super_cell, 0], [0, n_super_cell]])\n",
    "\n",
    "low_E_sites = np.arange(0, model.get_num_orbitals(), 2)\n",
    "high_E_sites = np.arange(1, model.get_num_orbitals(), 2)\n",
    "lat_vecs = model.get_lat()\n",
    "orb_vecs = model.get_orb()\n",
    "n_orb = model.get_num_orbitals()\n",
    "n_occ = int(n_orb/2)\n",
    "\n",
    "u_wfs_full = wf_array(model, [20, 20])\n",
    "u_wfs_full.solve_on_grid([0, 0])\n",
    "chern = u_wfs_full.berry_flux([i for i in range(n_occ)])/(2*np.pi)\n",
    "\n",
    "print(f\"Low energy sites: {low_E_sites}\")\n",
    "print(f\"High energy sites: {high_E_sites}\")\n",
    "print(f\"Chern #: {chern: .1f}\")\n",
    "model.display()"
   ]
  },
  {
   "cell_type": "markdown",
   "metadata": {},
   "source": [
    "To store the eigenstates at their respective k-points, we will begin by initializing the `Bloch` class. This class is effectively a wrapper to the `pythTB` `wf_array` class with aditional methods useful for manipulating Bloch states. A `Bloch` object takes as its first argument a `pythTB` `model`, followed by the number of k-points along each reciprocal lattice basis vector."
   ]
  },
  {
   "cell_type": "code",
   "execution_count": 30,
   "metadata": {},
   "outputs": [],
   "source": [
    "nks = 20, 20\n",
    "bloch = Bloch(model, nks[0], nks[1])"
   ]
  },
  {
   "cell_type": "markdown",
   "metadata": {},
   "source": [
    "The `Bloch` object has as an attribute the `K_mesh`. This class stores the regular array of k-points in reduced units along which the Bloch states are defined. The class also contains methods that use the k-mesh when, for example, Wannierizing. To see the k-mesh points in reduced units, we will call `K_mesh.full_mesh`. The full mesh is a multidimensional array, with the number of axes depending on the dimensionality of reciprocal space. There is also a flat mesh which flattens the multiple dimensions into a single axis. "
   ]
  },
  {
   "cell_type": "code",
   "execution_count": 31,
   "metadata": {},
   "outputs": [
    {
     "name": "stdout",
     "output_type": "stream",
     "text": [
      "Full k-mesh shape:  (20, 20, 2)\n",
      "Full k-mesh value at (3, 5):  [0.15 0.25]\n",
      "Full k-mesh value at the last point:  [0.95 0.95]\n",
      "\n",
      "Flat k-mesh shape:  (400, 2)\n",
      "Flat k-mesh value at 3*20+5 = (65):  [0.15 0.25]\n",
      "Flat k-mesh value at the last point:  [0.95 0.95]\n"
     ]
    }
   ],
   "source": [
    "full_mesh = bloch.K_mesh.full_mesh\n",
    "flat_mesh = bloch.K_mesh.flat_mesh\n",
    "\n",
    "print(\"Full k-mesh shape: \", full_mesh.shape)\n",
    "print(\"Full k-mesh value at (3, 5): \", full_mesh[3, 5])\n",
    "print(\"Full k-mesh value at the last point: \", full_mesh[-1, -1])\n",
    "print()\n",
    "print(\"Flat k-mesh shape: \", flat_mesh.shape)\n",
    "print(\"Flat k-mesh value at 3*20+5 = (65): \", flat_mesh[65])\n",
    "print(\"Flat k-mesh value at the last point: \", flat_mesh[-1])"
   ]
  },
  {
   "cell_type": "markdown",
   "metadata": {},
   "source": [
    "To initialize the Bloch energy eigenstates of the model as class attributes, we will call the `solve_model` method. This stores the eigenstates on a regular k-mesh excluding the endpoints. We can retrieve the eigenstates in either their cell-periodic ($u_{n, \\mathbf{k}}$) or full Bloch ($\\psi_{n, \\mathbf{k}} = e^{i \\mathbf{k} \\cdot \\mathbf{r}} u_{n, \\mathbf{k}}$) form using the `get_energies` method. This returns a dictionary, with keys \"Cell periodic\" and \"Bloch\" whose values are the associated eigenstates."
   ]
  },
  {
   "cell_type": "code",
   "execution_count": 42,
   "metadata": {},
   "outputs": [
    {
     "name": "stdout",
     "output_type": "stream",
     "text": [
      "Shape of u_nk:  (20, 20, 8, 8)\n",
      "Shape of psi_nk:  (20, 20, 8, 8)\n",
      "Value of u_nk with n = 0 and k = (0,0):  \n",
      " [ 0.62785+0.j       0.22893+0.0043j  -0.01176-0.0024j  -0.0043 -0.23069j\n",
      "  0.01176+0.0024j   0.0043 +0.23069j -0.62785+0.j      -0.22893-0.0043j ]\n",
      "Value of psi_nk with n = 0 and k = (0,0):  \n",
      " [ 0.62785+0.j       0.22893+0.0043j  -0.01176-0.0024j  -0.0043 -0.23069j\n",
      "  0.01176+0.0024j   0.0043 +0.23069j -0.62785+0.j      -0.22893-0.0043j ]\n",
      "Value of u_nk with n = 1 and k = (0.15, 0.25):  \n",
      " [ 0.44753+0.j       0.14129-0.17249j  0.44753-0.j       0.14129-0.17249j\n",
      " -0.44753-0.j      -0.14129+0.17249j -0.44753-0.j      -0.14129+0.17249j]\n",
      "Value of psi_nk with n = 1 and k = (0.15, 0.25):  \n",
      " [ 0.44753+0.j       0.21569-0.0565j   0.31645+0.31645j  0.19247+0.11257j\n",
      " -0.39875-0.20317j -0.21784-0.04758j -0.13829-0.42563j -0.12039-0.18768j]\n"
     ]
    }
   ],
   "source": [
    "bloch.solve_model()\n",
    "eigstates = bloch.get_states()\n",
    "u_nk = eigstates[\"Cell periodic\"]\n",
    "psi_nk = eigstates[\"Bloch\"]\n",
    "\n",
    "print(\"Shape of u_nk: \", u_nk.shape)\n",
    "print(\"Shape of psi_nk: \", psi_nk.shape)\n",
    "print(\"Value of u_nk with n = 0 and k = (0,0): \", \"\\n\", u_nk[0,0,0,:].round(5))\n",
    "print(\"Value of psi_nk with n = 0 and k = (0,0): \", \"\\n\", psi_nk[0,0,0,:].round(5))\n",
    "print(\"Value of u_nk with n = 1 and k = (0.15, 0.25): \", \"\\n\", u_nk[3,5,1,:].round(5))\n",
    "print(\"Value of psi_nk with n = 1 and k = (0.15, 0.25): \", \"\\n\", psi_nk[3,5,1,:].round(5))"
   ]
  },
  {
   "cell_type": "markdown",
   "metadata": {},
   "source": [
    "To plot the bands, we will choose a 1D path through the BZ and pass this to `plot_bands` class method. Optionally, we can label the nodes and choose two sublattices to color the bands according to the eigenstates' weight on each sublattice."
   ]
  },
  {
   "cell_type": "code",
   "execution_count": 216,
   "metadata": {},
   "outputs": [
    {
     "data": {
      "image/png": "[encoded data removed]",
      "text/plain": [
       "<Figure size 640x480 with 2 Axes>"
      ]
     },
     "metadata": {},
     "output_type": "display_data"
    }
   ],
   "source": [
    "nk = 101\n",
    "k_path = [[0.0, 0.0], [0.0, 0.5], [0.5, 0.5], [0.0, 0.0]]\n",
    "k_label = (r'$\\Gamma $',r'$X$', r'$M$', r'$\\Gamma $')\n",
    "(k_vec, k_dist, k_node) = model.k_path(k_path, nk, report=False)\n",
    "\n",
    "title = (rf\"$C = {chern: .1f}$ | $\\Delta = {delta},\\ t_0 = {t0},\\ t' = {tprime}$\")\n",
    "fig, ax = eigstates.plot_bands(\n",
    "    k_path=k_path, k_label=k_label, sub_lat=True, red_lat_idx=high_E_sites, title=title)"
   ]
  }
 ],
 "metadata": {
  "kernelspec": {
   "display_name": "rutgers",
   "language": "python",
   "name": "python3"
  },
  "language_info": {
   "codemirror_mode": {
    "name": "ipython",
    "version": 3
   },
   "file_extension": ".py",
   "mimetype": "text/x-python",
   "name": "python",
   "nbconvert_exporter": "python",
   "pygments_lexer": "ipython3",
   "version": "3.10.14"
  }
 },
 "nbformat": 4,
 "nbformat_minor": 2
}
