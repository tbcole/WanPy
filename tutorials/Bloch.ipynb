{
 "cells": [
  {
   "cell_type": "code",
   "execution_count": 2,
   "metadata": {},
   "outputs": [
    {
     "name": "stdout",
     "output_type": "stream",
     "text": [
      "/Users/treycole/Codes/WanPy/tutorials\n"
     ]
    }
   ],
   "source": [
    "import os\n",
    "import sys\n",
    "print(os.getcwd())\n",
    "sys.path.append(\"../WanPy\")\n",
    "\n",
    "from WanPy import *\n",
    "from pythtb import *\n",
    "from pythTB_wan import *\n",
    "import models\n",
    "import plotting as plot\n",
    "\n",
    "import numpy as np\n",
    "import matplotlib.pyplot as plt\n",
    "from matplotlib.colors import LogNorm"
   ]
  },
  {
   "cell_type": "markdown",
   "metadata": {},
   "source": [
    "Setting up `pythTB` tight-binding model"
   ]
  },
  {
   "cell_type": "code",
   "execution_count": 131,
   "metadata": {},
   "outputs": [
    {
     "name": "stdout",
     "output_type": "stream",
     "text": [
      "Low energy sites: [0 2 4 6]\n",
      "High energy sites: [1 3 5 7]\n",
      "Chern #: -1.0\n"
     ]
    }
   ],
   "source": [
    "delta = 1\n",
    "t0 = 0.4\n",
    "tprime = 0.5\n",
    "\n",
    "n_super_cell = 2\n",
    "model = models.chessboard(t0, tprime, delta).make_supercell([[n_super_cell, 0], [0, n_super_cell]])\n",
    "\n",
    "low_E_sites = np.arange(0, model.get_num_orbitals(), 2)\n",
    "high_E_sites = np.arange(1, model.get_num_orbitals(), 2)\n",
    "lat_vecs = model.get_lat()\n",
    "orb_vecs = model.get_orb()\n",
    "\n",
    "n_orb = model.get_num_orbitals()\n",
    "n_occ = int(n_orb/2)\n",
    "\n",
    "u_wfs_full = wf_array(model, [20, 20])\n",
    "u_wfs_full.solve_on_grid([0, 0])\n",
    "chern = u_wfs_full.berry_flux([i for i in range(n_occ)])/(2*np.pi)\n",
    "\n",
    "print(f\"Low energy sites: {low_E_sites}\")\n",
    "print(f\"High energy sites: {high_E_sites}\")\n",
    "print(f\"Chern #: {chern: .1f}\")"
   ]
  },
  {
   "cell_type": "markdown",
   "metadata": {},
   "source": [
    "To store the eigenstates at their respective k-points, we will initialize the `Bloch` class that is effectively a wrapper to the `pythTB` `wf_array` class. A `Bloch` object takes as its first argument a `pythTB` `model`, followed by the number of k-points along each reciprocal lattice basis vector."
   ]
  },
  {
   "cell_type": "code",
   "execution_count": 132,
   "metadata": {},
   "outputs": [],
   "source": [
    "eigstates = Bloch(model, 4, 4)"
   ]
  },
  {
   "cell_type": "markdown",
   "metadata": {},
   "source": [
    "The `Bloch` object has as an attribute the `K_mesh`. This class stores the regular array of k-points, along with methods that utilize the k-mesh when Wannierizing for example, on which the `Bloch` object will store the associated Bloch-like states. To see the k-mesh points in reduced units, we will call `K_mesh.full_mesh`."
   ]
  },
  {
   "cell_type": "code",
   "execution_count": 133,
   "metadata": {},
   "outputs": [
    {
     "data": {
      "text/plain": [
       "array([[[0.  , 0.  ],\n",
       "        [0.  , 0.25],\n",
       "        [0.  , 0.5 ],\n",
       "        [0.  , 0.75]],\n",
       "\n",
       "       [[0.25, 0.  ],\n",
       "        [0.25, 0.25],\n",
       "        [0.25, 0.5 ],\n",
       "        [0.25, 0.75]],\n",
       "\n",
       "       [[0.5 , 0.  ],\n",
       "        [0.5 , 0.25],\n",
       "        [0.5 , 0.5 ],\n",
       "        [0.5 , 0.75]],\n",
       "\n",
       "       [[0.75, 0.  ],\n",
       "        [0.75, 0.25],\n",
       "        [0.75, 0.5 ],\n",
       "        [0.75, 0.75]]])"
      ]
     },
     "execution_count": 133,
     "metadata": {},
     "output_type": "execute_result"
    }
   ],
   "source": [
    "eigstates.K_mesh.full_mesh"
   ]
  },
  {
   "cell_type": "markdown",
   "metadata": {},
   "source": [
    "To initialize the Bloch energy eigenstates, along with the associated cell-periodic eigenstates and eigenenergies, as class attributes, we will call the `solve_model` method."
   ]
  },
  {
   "cell_type": "code",
   "execution_count": 138,
   "metadata": {},
   "outputs": [],
   "source": [
    "eigstates.solve_model()\n",
    "energies = eigstates.get_energies()\n",
    "unk_states = eigstates.get_states()[\"Cell periodic\"]\n",
    "# print(energies)"
   ]
  },
  {
   "cell_type": "code",
   "execution_count": 139,
   "metadata": {},
   "outputs": [],
   "source": [
    "nan = np.empty(unk_states.shape)\n",
    "nan.fill(np.NaN)\n",
    "\n",
    "outer_window = [-2.5, 0]\n",
    "inner_window = [-2, -1]\n",
    "\n",
    "outer_states_sliced = np.where(\n",
    "    np.logical_and(energies[..., np.newaxis] > outer_window[0], energies[..., np.newaxis] < outer_window[1]), unk_states, nan)\n",
    "outer_mask = np.isnan(outer_states_sliced)\n",
    "outer_masked_states = np.ma.masked_array(unk_states, mask=outer_mask)\n",
    "\n",
    "inner_states_sliced = np.where(\n",
    "    np.logical_and(energies[..., np.newaxis] > inner_window[0], energies[..., np.newaxis] < inner_window[1]), unk_states, nan)\n",
    "inner_mask = np.isnan(inner_states_sliced)\n",
    "inner_masked_states = np.ma.masked_array(unk_states, mask=inner_mask)\n",
    "\n",
    "min_mask = ~np.logical_and(~outer_mask, inner_mask)\n",
    "min_masked_states = np.ma.masked_array(unk_states, mask=min_mask)"
   ]
  },
  {
   "cell_type": "code",
   "execution_count": 140,
   "metadata": {},
   "outputs": [],
   "source": [
    "# outer_masked_states"
   ]
  },
  {
   "cell_type": "code",
   "execution_count": 141,
   "metadata": {},
   "outputs": [],
   "source": [
    "# inner_masked_states"
   ]
  },
  {
   "cell_type": "code",
   "execution_count": 142,
   "metadata": {},
   "outputs": [],
   "source": [
    "# min_masked_states"
   ]
  },
  {
   "cell_type": "code",
   "execution_count": 145,
   "metadata": {},
   "outputs": [
    {
     "name": "stdout",
     "output_type": "stream",
     "text": [
      "[[3 4 4 4]\n",
      " [4 4 4 4]\n",
      " [4 4 4 4]\n",
      " [4 4 4 4]] \n",
      "\n",
      " [[2 2 2 2]\n",
      " [2 2 4 2]\n",
      " [2 4 4 4]\n",
      " [2 2 4 2]] \n",
      "\n",
      " [[1 2 2 2]\n",
      " [2 2 0 2]\n",
      " [2 0 0 0]\n",
      " [2 2 0 2]]\n"
     ]
    }
   ],
   "source": [
    "N_outer = (~outer_masked_states.mask).sum(axis=(-1,-2))//n_orb\n",
    "N_inner = (~inner_masked_states.mask).sum(axis=(-1,-2))//n_orb\n",
    "N_min = (~min_masked_states.mask).sum(axis=(-1,-2))//n_orb\n",
    "print(N_outer, \"\\n\\n\", N_inner, \"\\n\\n\", N_min)\n",
    "# N_outer = N_inner + N_min"
   ]
  },
  {
   "cell_type": "code",
   "execution_count": 130,
   "metadata": {},
   "outputs": [
    {
     "data": {
      "text/plain": [
       "masked_array(\n",
       "  data=[[[[--, --],\n",
       "          [--, --]],\n",
       "\n",
       "         [[(-0.6467306973977949+0j), --],\n",
       "          [--, --]],\n",
       "\n",
       "         [[--, --],\n",
       "          [--, --]],\n",
       "\n",
       "         [[(-0.6467306973977949+0j), --],\n",
       "          [--, --]]],\n",
       "\n",
       "\n",
       "        [[[(-0.7762615783448653+0j), --],\n",
       "          [--, --]],\n",
       "\n",
       "         [[--, --],\n",
       "          [--, --]],\n",
       "\n",
       "         [[--, --],\n",
       "          [--, --]],\n",
       "\n",
       "         [[--, --],\n",
       "          [--, --]]],\n",
       "\n",
       "\n",
       "        [[[--, --],\n",
       "          [--, --]],\n",
       "\n",
       "         [[--, --],\n",
       "          [--, --]],\n",
       "\n",
       "         [[(0.3965078175638906+0j), --],\n",
       "          [--, --]],\n",
       "\n",
       "         [[--, --],\n",
       "          [--, --]]],\n",
       "\n",
       "\n",
       "        [[[(-0.7762615783448655+0j), --],\n",
       "          [--, --]],\n",
       "\n",
       "         [[--, --],\n",
       "          [--, --]],\n",
       "\n",
       "         [[--, --],\n",
       "          [--, --]],\n",
       "\n",
       "         [[--, --],\n",
       "          [--, --]]]],\n",
       "  mask=[[[[ True,  True],\n",
       "          [ True,  True]],\n",
       "\n",
       "         [[False,  True],\n",
       "          [ True,  True]],\n",
       "\n",
       "         [[ True,  True],\n",
       "          [ True,  True]],\n",
       "\n",
       "         [[False,  True],\n",
       "          [ True,  True]]],\n",
       "\n",
       "\n",
       "        [[[False,  True],\n",
       "          [ True,  True]],\n",
       "\n",
       "         [[ True,  True],\n",
       "          [ True,  True]],\n",
       "\n",
       "         [[ True,  True],\n",
       "          [ True,  True]],\n",
       "\n",
       "         [[ True,  True],\n",
       "          [ True,  True]]],\n",
       "\n",
       "\n",
       "        [[[ True,  True],\n",
       "          [ True,  True]],\n",
       "\n",
       "         [[ True,  True],\n",
       "          [ True,  True]],\n",
       "\n",
       "         [[False,  True],\n",
       "          [ True,  True]],\n",
       "\n",
       "         [[ True,  True],\n",
       "          [ True,  True]]],\n",
       "\n",
       "\n",
       "        [[[False,  True],\n",
       "          [ True,  True]],\n",
       "\n",
       "         [[ True,  True],\n",
       "          [ True,  True]],\n",
       "\n",
       "         [[ True,  True],\n",
       "          [ True,  True]],\n",
       "\n",
       "         [[ True,  True],\n",
       "          [ True,  True]]]],\n",
       "  fill_value=(1e+20+0j))"
      ]
     },
     "execution_count": 130,
     "metadata": {},
     "output_type": "execute_result"
    }
   ],
   "source": [
    "P = np.random.rand(2, 2)\n",
    "Z = min_masked_states.conj() @ P @ np.transpose(min_masked_states, axes=(0,1,3,2))\n",
    "_, eigvecs = np.linalg.eigh(Z) # [val, idx]\n",
    "eigvecs"
   ]
  },
  {
   "cell_type": "code",
   "execution_count": 129,
   "metadata": {},
   "outputs": [
    {
     "data": {
      "text/plain": [
       "array([[1, 1, 0, 1],\n",
       "       [1, 0, 0, 0],\n",
       "       [0, 0, 1, 0],\n",
       "       [1, 0, 0, 0]])"
      ]
     },
     "execution_count": 129,
     "metadata": {},
     "output_type": "execute_result"
    }
   ],
   "source": [
    "N_wfs - N_inner"
   ]
  },
  {
   "cell_type": "code",
   "execution_count": 128,
   "metadata": {},
   "outputs": [
    {
     "ename": "TypeError",
     "evalue": "only integer scalar arrays can be converted to a scalar index",
     "output_type": "error",
     "traceback": [
      "\u001b[0;31m---------------------------------------------------------------------------\u001b[0m",
      "\u001b[0;31mTypeError\u001b[0m                                 Traceback (most recent call last)",
      "Cell \u001b[0;32mIn[128], line 2\u001b[0m\n\u001b[1;32m      1\u001b[0m N_wfs \u001b[38;5;241m=\u001b[39m \u001b[38;5;241m1\u001b[39m\n\u001b[0;32m----> 2\u001b[0m states_min \u001b[38;5;241m=\u001b[39m np\u001b[38;5;241m.\u001b[39meinsum(\u001b[38;5;124m'\u001b[39m\u001b[38;5;124m...ij, ...ik->...jk\u001b[39m\u001b[38;5;124m'\u001b[39m, \u001b[43meigvecs\u001b[49m\u001b[43m[\u001b[49m\u001b[38;5;241;43m.\u001b[39;49m\u001b[38;5;241;43m.\u001b[39;49m\u001b[38;5;241;43m.\u001b[39;49m\u001b[43m,\u001b[49m\u001b[43m \u001b[49m\u001b[38;5;241;43m-\u001b[39;49m\u001b[43m(\u001b[49m\u001b[43mN_wfs\u001b[49m\u001b[38;5;241;43m-\u001b[39;49m\u001b[43mN_inner\u001b[49m\u001b[43m)\u001b[49m\u001b[43m:\u001b[49m\u001b[43m]\u001b[49m, min_masked_states)\n",
      "File \u001b[0;32m~/miniforge3/envs/rutgers/lib/python3.10/site-packages/numpy/ma/core.py:3228\u001b[0m, in \u001b[0;36mMaskedArray.__getitem__\u001b[0;34m(self, indx)\u001b[0m\n\u001b[1;32m   3218\u001b[0m \u001b[38;5;250m\u001b[39m\u001b[38;5;124;03m\"\"\"\u001b[39;00m\n\u001b[1;32m   3219\u001b[0m \u001b[38;5;124;03mx.__getitem__(y) <==> x[y]\u001b[39;00m\n\u001b[1;32m   3220\u001b[0m \n\u001b[1;32m   3221\u001b[0m \u001b[38;5;124;03mReturn the item described by i, as a masked array.\u001b[39;00m\n\u001b[1;32m   3222\u001b[0m \n\u001b[1;32m   3223\u001b[0m \u001b[38;5;124;03m\"\"\"\u001b[39;00m\n\u001b[1;32m   3224\u001b[0m \u001b[38;5;66;03m# We could directly use ndarray.__getitem__ on self.\u001b[39;00m\n\u001b[1;32m   3225\u001b[0m \u001b[38;5;66;03m# But then we would have to modify __array_finalize__ to prevent the\u001b[39;00m\n\u001b[1;32m   3226\u001b[0m \u001b[38;5;66;03m# mask of being reshaped if it hasn't been set up properly yet\u001b[39;00m\n\u001b[1;32m   3227\u001b[0m \u001b[38;5;66;03m# So it's easier to stick to the current version\u001b[39;00m\n\u001b[0;32m-> 3228\u001b[0m dout \u001b[38;5;241m=\u001b[39m \u001b[38;5;28;43mself\u001b[39;49m\u001b[38;5;241;43m.\u001b[39;49m\u001b[43mdata\u001b[49m\u001b[43m[\u001b[49m\u001b[43mindx\u001b[49m\u001b[43m]\u001b[49m\n\u001b[1;32m   3229\u001b[0m _mask \u001b[38;5;241m=\u001b[39m \u001b[38;5;28mself\u001b[39m\u001b[38;5;241m.\u001b[39m_mask\n\u001b[1;32m   3231\u001b[0m \u001b[38;5;28;01mdef\u001b[39;00m \u001b[38;5;21m_is_scalar\u001b[39m(m):\n",
      "\u001b[0;31mTypeError\u001b[0m: only integer scalar arrays can be converted to a scalar index"
     ]
    }
   ],
   "source": [
    "N_wfs = 1\n",
    "states_min = np.einsum('...ij, ...ik->...jk', eigvecs[..., -(N_wfs-N_inner):], min_masked_states)"
   ]
  },
  {
   "cell_type": "code",
   "execution_count": 30,
   "metadata": {},
   "outputs": [
    {
     "data": {
      "text/plain": [
       "(4, 4, 4, 2)"
      ]
     },
     "execution_count": 30,
     "metadata": {},
     "output_type": "execute_result"
    }
   ],
   "source": [
    "np.concatenate((min_masked_states, inner_masked_states), axis=-2).shape"
   ]
  },
  {
   "cell_type": "code",
   "execution_count": 31,
   "metadata": {},
   "outputs": [
    {
     "data": {
      "text/plain": [
       "masked_array(\n",
       "  data=[[[[ 1.00000000e+00+0.00000000e+00j,\n",
       "            0.00000000e+00+0.00000000e+00j],\n",
       "          [ 0.00000000e+00+0.00000000e+00j,\n",
       "            1.00000000e+00+0.00000000e+00j],\n",
       "          [ 1.00000000e+00+0.00000000e+00j,\n",
       "            0.00000000e+00+0.00000000e+00j],\n",
       "          [ 0.00000000e+00+0.00000000e+00j,\n",
       "            1.00000000e+00+0.00000000e+00j]],\n",
       "\n",
       "         [[-9.68028222e-01+0.00000000e+00j,\n",
       "           -1.77371590e-01+1.77371590e-01j],\n",
       "          [ 2.50841308e-01+0.00000000e+00j,\n",
       "           -6.84499320e-01+6.84499320e-01j],\n",
       "          [-9.68028222e-01+0.00000000e+00j,\n",
       "           -1.77371590e-01+1.77371590e-01j],\n",
       "          [ 2.50841308e-01+0.00000000e+00j,\n",
       "           -6.84499320e-01+6.84499320e-01j]],\n",
       "\n",
       "         [[-8.88073834e-01+0.00000000e+00j,\n",
       "           -3.25057584e-01+3.25057584e-01j],\n",
       "          [-4.59700843e-01+0.00000000e+00j,\n",
       "            6.27963030e-01-6.27963030e-01j],\n",
       "          [-8.88073834e-01+0.00000000e+00j,\n",
       "           -3.25057584e-01+3.25057584e-01j],\n",
       "          [-4.59700843e-01+0.00000000e+00j,\n",
       "            6.27963030e-01-6.27963030e-01j]],\n",
       "\n",
       "         [[-9.68028222e-01+0.00000000e+00j,\n",
       "           -1.77371590e-01+1.77371590e-01j],\n",
       "          [ 2.50841308e-01+0.00000000e+00j,\n",
       "           -6.84499320e-01+6.84499320e-01j],\n",
       "          [-9.68028222e-01+0.00000000e+00j,\n",
       "           -1.77371590e-01+1.77371590e-01j],\n",
       "          [ 2.50841308e-01+0.00000000e+00j,\n",
       "           -6.84499320e-01+6.84499320e-01j]]],\n",
       "\n",
       "\n",
       "        [[[-9.68028222e-01+0.00000000e+00j,\n",
       "            1.77371590e-01+1.77371590e-01j],\n",
       "          [-2.50841308e-01+0.00000000e+00j,\n",
       "           -6.84499320e-01-6.84499320e-01j],\n",
       "          [-9.68028222e-01+0.00000000e+00j,\n",
       "            1.77371590e-01+1.77371590e-01j],\n",
       "          [-2.50841308e-01+0.00000000e+00j,\n",
       "           -6.84499320e-01-6.84499320e-01j]],\n",
       "\n",
       "         [[-9.23879533e-01+0.00000000e+00j,\n",
       "            0.00000000e+00+3.82683432e-01j],\n",
       "          [-3.82683432e-01+0.00000000e+00j,\n",
       "            0.00000000e+00-9.23879533e-01j],\n",
       "          [-9.23879533e-01+0.00000000e+00j,\n",
       "            0.00000000e+00+3.82683432e-01j],\n",
       "          [-3.82683432e-01+0.00000000e+00j,\n",
       "            0.00000000e+00-9.23879533e-01j]],\n",
       "\n",
       "         [[-7.73342141e-01+0.00000000e+00j,\n",
       "           -4.48297854e-01+4.48297854e-01j],\n",
       "          [-6.33988906e-01+0.00000000e+00j,\n",
       "            5.46835472e-01-5.46835472e-01j],\n",
       "          [-7.73342141e-01+0.00000000e+00j,\n",
       "           -4.48297854e-01+4.48297854e-01j],\n",
       "          [-6.33988906e-01+0.00000000e+00j,\n",
       "            5.46835472e-01-5.46835472e-01j]],\n",
       "\n",
       "         [[-9.23879533e-01+0.00000000e+00j,\n",
       "           -3.82683432e-01+4.68652041e-17j],\n",
       "          [ 3.82683432e-01+0.00000000e+00j,\n",
       "           -9.23879533e-01+1.13142611e-16j],\n",
       "          [-9.23879533e-01+0.00000000e+00j,\n",
       "           -3.82683432e-01+4.68652041e-17j],\n",
       "          [ 3.82683432e-01+0.00000000e+00j,\n",
       "           -9.23879533e-01+1.13142611e-16j]]],\n",
       "\n",
       "\n",
       "        [[[-8.88073834e-01+0.00000000e+00j,\n",
       "            3.25057584e-01+3.25057584e-01j],\n",
       "          [ 4.59700843e-01+0.00000000e+00j,\n",
       "            6.27963030e-01+6.27963030e-01j],\n",
       "          [-8.88073834e-01+0.00000000e+00j,\n",
       "            3.25057584e-01+3.25057584e-01j],\n",
       "          [ 4.59700843e-01+0.00000000e+00j,\n",
       "            6.27963030e-01+6.27963030e-01j]],\n",
       "\n",
       "         [[-7.73342141e-01+0.00000000e+00j,\n",
       "            4.48297854e-01+4.48297854e-01j],\n",
       "          [ 6.33988906e-01+0.00000000e+00j,\n",
       "            5.46835472e-01+5.46835472e-01j],\n",
       "          [-7.73342141e-01+0.00000000e+00j,\n",
       "            4.48297854e-01+4.48297854e-01j],\n",
       "          [ 6.33988906e-01+0.00000000e+00j,\n",
       "            5.46835472e-01+5.46835472e-01j]],\n",
       "\n",
       "         [[-1.85037171e-16+0.00000000e+00j,\n",
       "            0.00000000e+00+1.00000000e+00j],\n",
       "          [-1.00000000e+00+0.00000000e+00j,\n",
       "            0.00000000e+00-1.85037171e-16j],\n",
       "          [-1.85037171e-16+0.00000000e+00j,\n",
       "            0.00000000e+00+1.00000000e+00j],\n",
       "          [-1.00000000e+00+0.00000000e+00j,\n",
       "            0.00000000e+00-1.85037171e-16j]],\n",
       "\n",
       "         [[-7.73342141e-01+0.00000000e+00j,\n",
       "           -4.48297854e-01-4.48297854e-01j],\n",
       "          [ 6.33988906e-01+0.00000000e+00j,\n",
       "           -5.46835472e-01-5.46835472e-01j],\n",
       "          [-7.73342141e-01+0.00000000e+00j,\n",
       "           -4.48297854e-01-4.48297854e-01j],\n",
       "          [ 6.33988906e-01+0.00000000e+00j,\n",
       "           -5.46835472e-01-5.46835472e-01j]]],\n",
       "\n",
       "\n",
       "        [[[-9.68028222e-01+0.00000000e+00j,\n",
       "            1.77371590e-01+1.77371590e-01j],\n",
       "          [-2.50841308e-01+0.00000000e+00j,\n",
       "           -6.84499320e-01-6.84499320e-01j],\n",
       "          [-9.68028222e-01+0.00000000e+00j,\n",
       "            1.77371590e-01+1.77371590e-01j],\n",
       "          [-2.50841308e-01+0.00000000e+00j,\n",
       "           -6.84499320e-01-6.84499320e-01j]],\n",
       "\n",
       "         [[-9.23879533e-01+0.00000000e+00j,\n",
       "            3.82683432e-01+4.68652041e-17j],\n",
       "          [-3.82683432e-01+0.00000000e+00j,\n",
       "           -9.23879533e-01-1.13142611e-16j],\n",
       "          [-9.23879533e-01+0.00000000e+00j,\n",
       "            3.82683432e-01+4.68652041e-17j],\n",
       "          [-3.82683432e-01+0.00000000e+00j,\n",
       "           -9.23879533e-01-1.13142611e-16j]],\n",
       "\n",
       "         [[-7.73342141e-01+0.00000000e+00j,\n",
       "            4.48297854e-01-4.48297854e-01j],\n",
       "          [-6.33988906e-01+0.00000000e+00j,\n",
       "           -5.46835472e-01+5.46835472e-01j],\n",
       "          [-7.73342141e-01+0.00000000e+00j,\n",
       "            4.48297854e-01-4.48297854e-01j],\n",
       "          [-6.33988906e-01+0.00000000e+00j,\n",
       "           -5.46835472e-01+5.46835472e-01j]],\n",
       "\n",
       "         [[-9.23879533e-01+0.00000000e+00j,\n",
       "            0.00000000e+00-3.82683432e-01j],\n",
       "          [-3.82683432e-01+0.00000000e+00j,\n",
       "            0.00000000e+00+9.23879533e-01j],\n",
       "          [-9.23879533e-01+0.00000000e+00j,\n",
       "            0.00000000e+00-3.82683432e-01j],\n",
       "          [-3.82683432e-01+0.00000000e+00j,\n",
       "            0.00000000e+00+9.23879533e-01j]]]],\n",
       "  mask=False,\n",
       "  fill_value=(1e+20+0j))"
      ]
     },
     "execution_count": 31,
     "metadata": {},
     "output_type": "execute_result"
    }
   ],
   "source": [
    "np.concatenate((min_masked_states, inner_masked_states), axis=-2)\n"
   ]
  },
  {
   "cell_type": "code",
   "execution_count": 23,
   "metadata": {},
   "outputs": [
    {
     "data": {
      "text/plain": [
       "masked_array(data=[--, --, 3, 4, 5],\n",
       "             mask=[ True,  True, False, False, False],\n",
       "       fill_value=999999)"
      ]
     },
     "execution_count": 23,
     "metadata": {},
     "output_type": "execute_result"
    }
   ],
   "source": [
    "mask1 = [True, True, False, False, False]\n",
    "mask2 = [False, True, True, False, False]\n",
    "\n",
    "x = [1, 2, 3, 4, 5]\n",
    "\n",
    "states1 = np.ma.masked_array(x, mask=mask1)\n",
    "states2 = np.ma.masked_array(x, mask=mask2)\n",
    "\n",
    "states1"
   ]
  },
  {
   "cell_type": "code",
   "execution_count": 24,
   "metadata": {},
   "outputs": [
    {
     "data": {
      "text/plain": [
       "masked_array(data=[1, --, --, 4, 5],\n",
       "             mask=[False,  True,  True, False, False],\n",
       "       fill_value=999999)"
      ]
     },
     "execution_count": 24,
     "metadata": {},
     "output_type": "execute_result"
    }
   ],
   "source": [
    "states2"
   ]
  },
  {
   "cell_type": "code",
   "execution_count": 26,
   "metadata": {},
   "outputs": [
    {
     "data": {
      "text/plain": [
       "masked_array(data=[1, 2, 3, 4, 5, 1, 2, 3, 4, 5],\n",
       "             mask=False,\n",
       "       fill_value=999999)"
      ]
     },
     "execution_count": 26,
     "metadata": {},
     "output_type": "execute_result"
    }
   ],
   "source": [
    "np.concatenate((states1, states2))"
   ]
  },
  {
   "cell_type": "code",
   "execution_count": null,
   "metadata": {},
   "outputs": [],
   "source": [
    "N_wfs = "
   ]
  },
  {
   "cell_type": "code",
   "execution_count": null,
   "metadata": {},
   "outputs": [],
   "source": [
    "energies = self.energy_eigstates.get_energies()\n",
    "unk_states = self.energy_eigstates.get_states()[\"Cell periodic\"]\n",
    "tilde_states = self.tilde_states.get_states()[\"Cell periodic\"]\n",
    "\n",
    "# number of states in target manifold \n",
    "if N_wfs is None:\n",
    "    N_wfs = self.tilde_states._n_states\n",
    "\n",
    "# outer window\n",
    "if outer_window == \"occupied\":\n",
    "    outer_window_type = \"bands\"\n",
    "    outer_band_idxs = list(range(n_occ))\n",
    "    outer_band_energies = energies[..., :n_occ]\n",
    "    outer_window = [np.argmin(outer_band_energies), np.argmax(outer_band_energies)]\n",
    "    outer_states = unk_states.take(list(range(n_occ)), axis=-2)\n",
    "elif list(outer_window.keys())[0].lower() == 'bands':\n",
    "    outer_window_type = \"bands\"\n",
    "    outer_band_idxs = list(outer_window.vals())[0]\n",
    "    outer_band_energies = energies[..., outer_band_idxs]\n",
    "    outer_window = [np.argmin(outer_band_energies), np.argmax(outer_band_energies)]\n",
    "    outer_states = unk_states.take(outer_band_idxs, axis=-2)\n",
    "    N_outer = len(outer_band_idxs)\n",
    "elif list(outer_window.keys())[0].lower() == 'energy':\n",
    "    outer_window_type = \"energy\"\n",
    "    outer_window = np.sort(list(outer_window.vals())[0])\n",
    "    nan = np.empty(unk_states.shape)\n",
    "    nan.fill(np.NaN)\n",
    "    states_sliced = np.where(\n",
    "        np.logical_and(\n",
    "            energies[..., np.newaxis] > outer_window[0], energies[..., np.newaxis] < outer_window[1]), unk_states, nan\n",
    "            )\n",
    "    mask_outer = np.isnan(states_sliced)\n",
    "    masked_outer_states = np.ma.masked_array(states_sliced, mask=mask_outer)\n",
    "    outer_states = masked_outer_states\n",
    "\n",
    "# inner window\n",
    "if inner_window is None:\n",
    "    N_inner = 0\n",
    "elif list(inner_window.keys())[0].lower() == 'bands':\n",
    "    inner_window_type = \"bands\"\n",
    "    inner_band_idxs = list(inner_window.vals())[0]\n",
    "    inner_band_energies = energies[..., inner_band_idxs]\n",
    "    inner_window = [np.argmin(inner_band_energies), np.argmax(inner_band_energies)]\n",
    "    inner_states = unk_states.take(inner_band_idxs, axis=-2)\n",
    "    N_inner = len(inner_band_idxs)\n",
    "elif list(inner_window.keys())[0].lower() == 'energy':\n",
    "    inner_window_type = \"energy\"\n",
    "    inner_window =  np.sort(list(outer_window.vals())[0])\n",
    "    nan = np.empty(unk_states.shape)\n",
    "    nan.fill(np.NaN)\n",
    "    states_sliced = np.where(\n",
    "        np.logical_and(\n",
    "            energies[..., np.newaxis] > inner_window[0], energies[..., np.newaxis] < inner_window[1]), unk_states, nan\n",
    "            )\n",
    "    mask_inner = np.isnan(states_sliced)\n",
    "    masked_inner_states = np.ma.masked_array(states_sliced, mask=mask_inner)\n",
    "    inner_states = masked_inner_states\n",
    "\n",
    "# minimization manifold\n",
    "if inner_window is not None:\n",
    "    if inner_window_type == 'energy' and outer_window_type == 'energy':\n",
    "        min_mask = ~np.logical_and(~mask_outer, mask_inner)\n",
    "        min_states = np.ma.masked_array(unk_states, mask=min_mask)\n",
    "    elif inner_window_type == 'bands' and outer_window_type == 'bands':\n",
    "        min_band_idxs = list(np.setdiff1d(outer_band_idxs, inner_band_idxs))\n",
    "        min_states = unk_states.take(min_band_idxs, axis=-2)\n",
    "else:\n",
    "    min_states = outer_states"
   ]
  }
 ],
 "metadata": {
  "kernelspec": {
   "display_name": "rutgers",
   "language": "python",
   "name": "python3"
  },
  "language_info": {
   "codemirror_mode": {
    "name": "ipython",
    "version": 3
   },
   "file_extension": ".py",
   "mimetype": "text/x-python",
   "name": "python",
   "nbconvert_exporter": "python",
   "pygments_lexer": "ipython3",
   "version": "3.10.14"
  }
 },
 "nbformat": 4,
 "nbformat_minor": 2
}
