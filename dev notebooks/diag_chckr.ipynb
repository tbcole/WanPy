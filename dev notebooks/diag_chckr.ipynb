{
 "cells": [
  {
   "cell_type": "code",
   "execution_count": 1,
   "metadata": {},
   "outputs": [],
   "source": [
    "import numpy as np\n",
    "import sympy as sp\n",
    "import models\n",
    "from pythtb import *\n",
    "import matplotlib.pyplot as plt"
   ]
  },
  {
   "cell_type": "code",
   "execution_count": 2,
   "metadata": {},
   "outputs": [],
   "source": [
    "delta_val = 4\n",
    "t0_val = 1\n",
    "tp_val = 6\n",
    "a_val = 1\n",
    "\n",
    "model = models.chessboard(t0_val, tp_val, delta_val)\n",
    "n_orb = model.get_num_orbitals()\n",
    "n_occ = int(n_orb/2)"
   ]
  },
  {
   "cell_type": "code",
   "execution_count": 3,
   "metadata": {},
   "outputs": [],
   "source": [
    "# generate k-point path and labels\n",
    "nk = 51\n",
    "# path = [[0.0, 0.0], [0.0, 0.5], [0.5, 0.5], [0.0, 0.0]]\n",
    "path = [[0.0, 0.0], [0.0, 0.5]]\n",
    "(k_vec, k_dist, k_node) = model.k_path(path, nk, report=False)"
   ]
  },
  {
   "cell_type": "code",
   "execution_count": 4,
   "metadata": {},
   "outputs": [
    {
     "data": {
      "text/plain": [
       "(51, 2)"
      ]
     },
     "execution_count": 4,
     "metadata": {},
     "output_type": "execute_result"
    }
   ],
   "source": [
    "k_vec.shape"
   ]
  },
  {
   "cell_type": "code",
   "execution_count": 5,
   "metadata": {},
   "outputs": [],
   "source": [
    "a = sp.Symbol('a')\n",
    "kx = sp.Symbol('k_x')\n",
    "ky = sp.Symbol('k_y')\n",
    "Delta = sp.Symbol('Delta')\n",
    "t0 = sp.Symbol('t_0')\n",
    "tp = sp.Symbol('t_p')"
   ]
  },
  {
   "cell_type": "code",
   "execution_count": 6,
   "metadata": {},
   "outputs": [],
   "source": [
    "Hk  = sp.Matrix([\n",
    "[-Delta-2*t0*(sp.cos(a*kx) + sp.cos(a*ky)), tp * ( -1 + sp.exp(-sp.I*a*(kx+ky)) + sp.I * (sp.exp(-sp.I*a*kx) - sp.exp(-sp.I*a*ky)) )],\n",
    "[tp * ( -1 + sp.exp(sp.I*a*(kx+ky)) - sp.I * (sp.exp(sp.I*a*kx) - sp.exp(sp.I*a*ky)) ), Delta+2*t0*(sp.cos(a*kx) + sp.cos(a*ky))]\n",
    "])"
   ]
  },
  {
   "cell_type": "code",
   "execution_count": 7,
   "metadata": {},
   "outputs": [
    {
     "data": {
      "text/latex": [
       "$\\displaystyle \\left[\\begin{matrix}- \\Delta - 2 t_{0} \\left(\\cos{\\left(a k_{x} \\right)} + \\cos{\\left(a k_{y} \\right)}\\right) & t_{p} \\left(i \\left(- e^{- i a k_{y}} + e^{- i a k_{x}}\\right) - 1 + e^{- i a \\left(k_{x} + k_{y}\\right)}\\right)\\\\t_{p} \\left(- i \\left(e^{i a k_{x}} - e^{i a k_{y}}\\right) + e^{i a \\left(k_{x} + k_{y}\\right)} - 1\\right) & \\Delta + 2 t_{0} \\left(\\cos{\\left(a k_{x} \\right)} + \\cos{\\left(a k_{y} \\right)}\\right)\\end{matrix}\\right]$"
      ],
      "text/plain": [
       "Matrix([\n",
       "[                         -Delta - 2*t_0*(cos(a*k_x) + cos(a*k_y)), t_p*(I*(-exp(-I*a*k_y) + exp(-I*a*k_x)) - 1 + exp(-I*a*(k_x + k_y)))],\n",
       "[t_p*(-I*(exp(I*a*k_x) - exp(I*a*k_y)) + exp(I*a*(k_x + k_y)) - 1),                              Delta + 2*t_0*(cos(a*k_x) + cos(a*k_y))]])"
      ]
     },
     "execution_count": 7,
     "metadata": {},
     "output_type": "execute_result"
    }
   ],
   "source": [
    "Hk#.subs({Delta: 2})"
   ]
  },
  {
   "cell_type": "code",
   "execution_count": 8,
   "metadata": {},
   "outputs": [
    {
     "data": {
      "text/latex": [
       "$\\displaystyle \\left[\\begin{matrix}- \\Delta - 2.44929359829471 \\cdot 10^{-16} t_{0} & t_{p} \\left(-1 + e^{- 3.14159265358979 i}\\right)\\\\t_{p} \\left(-1 + e^{3.14159265358979 i}\\right) & \\Delta + 2.44929359829471 \\cdot 10^{-16} t_{0}\\end{matrix}\\right]$"
      ],
      "text/plain": [
       "Matrix([\n",
       "[ -Delta - 2.44929359829471e-16*t_0, t_p*(-1 + exp(-3.14159265358979*I))],\n",
       "[t_p*(-1 + exp(3.14159265358979*I)),    Delta + 2.44929359829471e-16*t_0]])"
      ]
     },
     "execution_count": 8,
     "metadata": {},
     "output_type": "execute_result"
    }
   ],
   "source": [
    "Hk.subs({kx: np.pi/(2*a), ky: np.pi/(2*a)})\n"
   ]
  },
  {
   "cell_type": "code",
   "execution_count": 9,
   "metadata": {},
   "outputs": [],
   "source": [
    "evals = list(Hk.eigenvals().keys())"
   ]
  },
  {
   "cell_type": "code",
   "execution_count": 10,
   "metadata": {},
   "outputs": [
    {
     "data": {
      "text/latex": [
       "$\\displaystyle - \\sqrt{\\Delta^{2} + 4 \\Delta t_{0} \\cos{\\left(a k_{x} \\right)} + 4 \\Delta t_{0} \\cos{\\left(a k_{y} \\right)} + 4 t_{0}^{2} \\cos^{2}{\\left(a k_{x} \\right)} + 8 t_{0}^{2} \\cos{\\left(a k_{x} \\right)} \\cos{\\left(a k_{y} \\right)} + 4 t_{0}^{2} \\cos^{2}{\\left(a k_{y} \\right)} - t_{p}^{2} e^{i a \\left(k_{x} - k_{y}\\right)} - t_{p}^{2} e^{i a \\left(k_{x} + k_{y}\\right)} + 4 t_{p}^{2} - t_{p}^{2} e^{- i a \\left(k_{x} + k_{y}\\right)} - t_{p}^{2} e^{- i a \\left(k_{x} - k_{y}\\right)}}$"
      ],
      "text/plain": [
       "-sqrt(Delta**2 + 4*Delta*t_0*cos(a*k_x) + 4*Delta*t_0*cos(a*k_y) + 4*t_0**2*cos(a*k_x)**2 + 8*t_0**2*cos(a*k_x)*cos(a*k_y) + 4*t_0**2*cos(a*k_y)**2 - t_p**2*exp(I*a*(k_x - k_y)) - t_p**2*exp(I*a*(k_x + k_y)) + 4*t_p**2 - t_p**2*exp(-I*a*(k_x + k_y)) - t_p**2*exp(-I*a*(k_x - k_y)))"
      ]
     },
     "execution_count": 10,
     "metadata": {},
     "output_type": "execute_result"
    }
   ],
   "source": [
    "evals[0].simplify()"
   ]
  },
  {
   "cell_type": "code",
   "execution_count": 11,
   "metadata": {},
   "outputs": [
    {
     "data": {
      "image/png": "[encoded data removed]",
      "text/plain": [
       "<Figure size 640x480 with 1 Axes>"
      ]
     },
     "metadata": {},
     "output_type": "display_data"
    }
   ],
   "source": [
    "fig, ax = plt.subplots()\n",
    "\n",
    "ax.set_xlim(0, k_node[-1])\n",
    "ax.set_xticks(k_node)\n",
    "# label = (r'$\\Gamma $',r'$X$', r'$M$', r'$\\Gamma $')\n",
    "# ax.set_xticklabels(label)\n",
    "for n in range(len(k_node)):\n",
    "  ax.axvline(x=k_node[n], linewidth=0.5, color='k')\n",
    "\n",
    "for i in range(k_vec.shape[0]):\n",
    "    band0 = complex(evals[0].subs(\n",
    "       {Delta: delta_val, t0: t0_val, tp: tp_val, a: a_val, kx: k_vec[i][0]*np.pi/a_val, ky: k_vec[i][1]*np.pi/a_val}))\n",
    "    band1 = complex(evals[1].subs(\n",
    "       {Delta: delta_val, t0: t0_val, tp: tp_val, a: a_val, kx: k_vec[i][0]*np.pi/a_val, ky: k_vec[i][1]*np.pi/a_val}))\n",
    "    ax.scatter(k_dist[i], band0.real, s=5,  c='r')\n",
    "    ax.scatter(k_dist[i], band1.real, s=5,  c='b')"
   ]
  },
  {
   "cell_type": "code",
   "execution_count": 12,
   "metadata": {},
   "outputs": [],
   "source": [
    "evals_pytb, evecs_pytb = model.solve_all(k_vec, eig_vectors=True)"
   ]
  },
  {
   "cell_type": "code",
   "execution_count": 13,
   "metadata": {},
   "outputs": [
    {
     "data": {
      "text/plain": [
       "Text(0, 0.5, 'Energy $E(\\\\mathbf{{k}})$ ')"
      ]
     },
     "execution_count": 13,
     "metadata": {},
     "output_type": "execute_result"
    },
    {
     "data": {
      "image/png": "[encoded data removed]",
      "text/plain": [
       "<Figure size 640x480 with 2 Axes>"
      ]
     },
     "metadata": {},
     "output_type": "display_data"
    }
   ],
   "source": [
    "fig, ax = plt.subplots()\n",
    "\n",
    "ax.set_xlim(0, k_node[-1])\n",
    "ax.set_xticks(k_node)\n",
    "# label = (r'$\\Gamma $',r'$X$', r'$M$', r'$\\Gamma $')\n",
    "# ax.set_xticklabels(label)\n",
    "for n in range(len(k_node)):\n",
    "  ax.axvline(x=k_node[n], linewidth=0.5, color='k')\n",
    "\n",
    "# continuous bands\n",
    "# for n in range(evals.shape[0]):\n",
    "#   if n < n_occ:\n",
    "#       ax.plot(k_dist, evals[n], c='purple')\n",
    "#   else:\n",
    "#       ax.plot(k_dist, evals[n], c='orange')\n",
    "\n",
    "# scattered bands\n",
    "for k in range(nk):\n",
    "   for n in range(evals_pytb.shape[0]):\n",
    "      col = sum( [abs(evecs_pytb[n, k, i])**2 for i in np.arange(1, model.get_num_orbitals(), 2)] )\n",
    "      scat = ax.scatter(k_dist[k], evals_pytb[n, k], c=col, cmap='bwr', marker='o', s=3, vmin=0, vmax=1)\n",
    "\n",
    "cbar = fig.colorbar(scat, ticks=[1,0])\n",
    "cbar.ax.set_yticklabels([r'$\\psi_1$', r'$\\psi_2$'])\n",
    "cbar.ax.get_yaxis().labelpad = 20\n",
    "# ax.set_xlabel(\"Path in k-space\")\n",
    "ax.set_ylabel(r\"Energy $E(\\mathbf{{k}})$ \")"
   ]
  },
  {
   "cell_type": "code",
   "execution_count": null,
   "metadata": {},
   "outputs": [],
   "source": []
  },
  {
   "cell_type": "code",
   "execution_count": null,
   "metadata": {},
   "outputs": [],
   "source": []
  }
 ],
 "metadata": {
  "kernelspec": {
   "display_name": "rutgers",
   "language": "python",
   "name": "python3"
  },
  "language_info": {
   "codemirror_mode": {
    "name": "ipython",
    "version": 3
   },
   "file_extension": ".py",
   "mimetype": "text/x-python",
   "name": "python",
   "nbconvert_exporter": "python",
   "pygments_lexer": "ipython3",
   "version": "3.9.7"
  }
 },
 "nbformat": 4,
 "nbformat_minor": 2
}
