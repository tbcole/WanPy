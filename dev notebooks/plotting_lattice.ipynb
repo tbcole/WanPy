{
 "cells": [
  {
   "cell_type": "code",
   "execution_count": 1,
   "metadata": {},
   "outputs": [
    {
     "name": "stdout",
     "output_type": "stream",
     "text": [
      "/Users/treycole/Codes/WanPy/dev notebooks\n"
     ]
    }
   ],
   "source": [
    "import os\n",
    "import sys\n",
    "print(os.getcwd())\n",
    "sys.path.append(\"../WanPy\")\n",
    "\n",
    "from WanPy import *\n",
    "from pythtb import *\n",
    "from pythTB_wan import *\n",
    "import models\n",
    "import plotting as plot\n",
    "\n",
    "import numpy as np\n",
    "import matplotlib.pyplot as plt\n",
    "from matplotlib.colors import LogNorm\n",
    "import sympy as sp \n",
    "import scipy"
   ]
  },
  {
   "cell_type": "code",
   "execution_count": 2,
   "metadata": {},
   "outputs": [],
   "source": [
    "delta = 1\n",
    "t0 = 0.1\n",
    "tprime = 0.5\n",
    "\n",
    "n_super_cell = 1\n",
    "model = models.chessboard(t0, tprime, delta).make_supercell([[n_super_cell, 0], [0, n_super_cell]])"
   ]
  },
  {
   "cell_type": "code",
   "execution_count": 11,
   "metadata": {},
   "outputs": [
    {
     "data": {
      "text/plain": [
       "array([[0. , 0. ],\n",
       "       [0.5, 0.5]])"
      ]
     },
     "execution_count": 11,
     "metadata": {},
     "output_type": "execute_result"
    }
   ],
   "source": [
    "lat_vecs = model.get_lat()\n",
    "orb_vecs = model.get_orb()\n",
    "\n",
    "orb_vecs"
   ]
  },
  {
   "cell_type": "code",
   "execution_count": 12,
   "metadata": {},
   "outputs": [
    {
     "data": {
      "text/plain": [
       "array([[1., 0.],\n",
       "       [0., 1.]])"
      ]
     },
     "execution_count": 12,
     "metadata": {},
     "output_type": "execute_result"
    }
   ],
   "source": [
    "lat_vecs"
   ]
  },
  {
   "cell_type": "code",
   "execution_count": 8,
   "metadata": {},
   "outputs": [
    {
     "data": {
      "image/png": "[encoded data removed]",
      "text/plain": [
       "<Figure size 640x480 with 1 Axes>"
      ]
     },
     "metadata": {},
     "output_type": "display_data"
    }
   ],
   "source": [
    "from scipy.spatial import Voronoi, voronoi_plot_2d\n",
    "import matplotlib.pyplot as plt\n",
    "\n",
    "# Generate lattice points (for visualization in 2D example)\n",
    "def generate_lattice_points(a1, a2, range_val):\n",
    "    points = []\n",
    "    for i in range(-range_val, range_val+1):\n",
    "        for j in range(-range_val, range_val+1):\n",
    "            points.append(i * a1 + j * a2)\n",
    "    return np.array(points)\n",
    "\n",
    "lat_pts = generate_lattice_points(lat_vecs[0], lat_vecs[1], 3)\n",
    "\n",
    "# Calculate Voronoi diagram\n",
    "vor = Voronoi(lat_pts)\n",
    "\n",
    "# Plot Voronoi diagram (Wigner-Seitz cell in 2D)\n",
    "fig, ax = plt.subplots()\n",
    "voronoi_plot_2d(vor, ax=ax)\n",
    "# ax.plot(lat_pts[:, 0], lat_pts[:, 1], 'b.')\n",
    "# ax.plot(0, 0, 'ro')  # The original lattice point\n",
    "plt.show()\n"
   ]
  }
 ],
 "metadata": {
  "kernelspec": {
   "display_name": "rutgers",
   "language": "python",
   "name": "python3"
  },
  "language_info": {
   "codemirror_mode": {
    "name": "ipython",
    "version": 3
   },
   "file_extension": ".py",
   "mimetype": "text/x-python",
   "name": "python",
   "nbconvert_exporter": "python",
   "pygments_lexer": "ipython3",
   "version": "3.10.14"
  }
 },
 "nbformat": 4,
 "nbformat_minor": 2
}
