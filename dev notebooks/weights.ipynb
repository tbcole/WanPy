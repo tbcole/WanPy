{
 "cells": [
  {
   "cell_type": "code",
   "execution_count": 5,
   "metadata": {},
   "outputs": [],
   "source": [
    "from itertools import combinations_with_replacement as comb\n",
    "from pythtb import *\n",
    "import numpy as np"
   ]
  },
  {
   "cell_type": "code",
   "execution_count": 44,
   "metadata": {},
   "outputs": [],
   "source": [
    "def get_recip_lat_vecs(model):\n",
    "\n",
    "    lat_vecs = model.get_lat()\n",
    "\n",
    "    b = 2 * np.pi * np.linalg.inv(lat_vecs).T\n",
    "    return b\n",
    "\n",
    "def get_weights(*nks, model, N_sh=1):\n",
    "    b_vec = get_recip_lat_vecs(model)\n",
    "    dk = np.array([b_vec[i]/nk for i, nk in enumerate(nks)])\n",
    "    dim = b_vec.shape[0]\n",
    "    Cart_idx = list(comb(range(dim), 2))\n",
    "    print(dk)\n",
    "    print(Cart_idx)\n",
    "    n_comb = len(Cart_idx)\n",
    "\n",
    "    A = np.zeros((n_comb, N_sh))\n",
    "    q = np.zeros((n_comb))\n",
    "\n",
    "    for s in range(N_sh):\n",
    "        for j, (alpha, beta) in enumerate(Cart_idx): \n",
    "            if alpha == beta:\n",
    "                q[j] = 1\n",
    "            for k in dk:\n",
    "                A[j, s] += k[alpha] * k[beta]\n",
    "    print(q)\n",
    "    U, D, Vt = np.linalg.svd(A, full_matrices=False)\n",
    "    w = (Vt.T @ np.linalg.inv(np.diag(D)) @ U.T) @ q\n",
    "\n",
    "    return w/2"
   ]
  },
  {
   "cell_type": "code",
   "execution_count": 45,
   "metadata": {},
   "outputs": [
    {
     "name": "stdout",
     "output_type": "stream",
     "text": [
      " Orbital positions not specified. I will assume a single orbital at the origin.\n"
     ]
    }
   ],
   "source": [
    "nks = 10, 10, 10\n",
    "# define lattice vectors\n",
    "lat=[[1.0, 0.0, 0], [0.0, 1.0, 0], [0, 0, 1.0]]\n",
    "# define coordinates of orbitals\n",
    "\n",
    "# make two dimensional tight-binding checkerboard model\n",
    "model = tb_model(3, 3, lat=lat)\n",
    "\n",
    "# orbs = model.get_orb()\n",
    "n_orb = model.get_num_orbitals()\n",
    "n_occ = int(n_orb/2)\n",
    "lat_vecs = model.get_lat() # lattice vectors"
   ]
  },
  {
   "cell_type": "code",
   "execution_count": 46,
   "metadata": {},
   "outputs": [
    {
     "data": {
      "text/plain": [
       "array([1., 0., 0.])"
      ]
     },
     "execution_count": 46,
     "metadata": {},
     "output_type": "execute_result"
    }
   ],
   "source": [
    "lat_vecs[0]"
   ]
  },
  {
   "cell_type": "code",
   "execution_count": 47,
   "metadata": {},
   "outputs": [
    {
     "data": {
      "text/plain": [
       "array([6.28318531, 0.        , 0.        ])"
      ]
     },
     "execution_count": 47,
     "metadata": {},
     "output_type": "execute_result"
    }
   ],
   "source": [
    "b_vec[0]"
   ]
  },
  {
   "cell_type": "code",
   "execution_count": 48,
   "metadata": {},
   "outputs": [
    {
     "data": {
      "text/plain": [
       "0.0"
      ]
     },
     "execution_count": 48,
     "metadata": {},
     "output_type": "execute_result"
    }
   ],
   "source": [
    "b_vec[1] @ lat_vecs[1] - 2*np.pi"
   ]
  },
  {
   "cell_type": "code",
   "execution_count": 49,
   "metadata": {},
   "outputs": [
    {
     "data": {
      "text/plain": [
       "array([[0.62831853, 0.        , 0.        ],\n",
       "       [0.        , 0.62831853, 0.        ],\n",
       "       [0.        , 0.        , 0.62831853]])"
      ]
     },
     "execution_count": 49,
     "metadata": {},
     "output_type": "execute_result"
    }
   ],
   "source": [
    "b_vec = get_recip_lat_vecs(model)\n",
    "dk = np.array([b_vec[i]/nk for i, nk in enumerate(nks)])\n",
    "dk"
   ]
  },
  {
   "cell_type": "code",
   "execution_count": 50,
   "metadata": {},
   "outputs": [
    {
     "name": "stdout",
     "output_type": "stream",
     "text": [
      "[[0.62831853 0.         0.        ]\n",
      " [0.         0.62831853 0.        ]\n",
      " [0.         0.         0.62831853]]\n",
      "[(0, 0), (0, 1), (0, 2), (1, 1), (1, 2), (2, 2)]\n",
      "[1. 0. 0. 1. 0. 1.]\n"
     ]
    },
    {
     "data": {
      "text/plain": [
       "array([2.53302959])"
      ]
     },
     "execution_count": 50,
     "metadata": {},
     "output_type": "execute_result"
    }
   ],
   "source": [
    "w = get_weights(*nks, model=model)\n",
    "w"
   ]
  },
  {
   "cell_type": "code",
   "execution_count": 51,
   "metadata": {},
   "outputs": [
    {
     "data": {
      "text/plain": [
       "1.2665147955292224"
      ]
     },
     "execution_count": 51,
     "metadata": {},
     "output_type": "execute_result"
    }
   ],
   "source": [
    "# 3D k-mesh\n",
    "Z = 6 # number of nearest neighbors in reciprocal lattice\n",
    "G = 2*np.pi/lat_vecs[0][0] # reciprocal lattice vector\n",
    "b = G / nks[0]  # spacing between allowed kx\n",
    "w_b = 3/(Z*b**2) # finite difference weights for cubic lattice\n",
    "w_b"
   ]
  },
  {
   "cell_type": "code",
   "execution_count": null,
   "metadata": {},
   "outputs": [],
   "source": []
  }
 ],
 "metadata": {
  "kernelspec": {
   "display_name": "Python 3",
   "language": "python",
   "name": "python3"
  },
  "language_info": {
   "codemirror_mode": {
    "name": "ipython",
    "version": 3
   },
   "file_extension": ".py",
   "mimetype": "text/x-python",
   "name": "python",
   "nbconvert_exporter": "python",
   "pygments_lexer": "ipython3",
   "version": "3.10.14"
  }
 },
 "nbformat": 4,
 "nbformat_minor": 2
}
