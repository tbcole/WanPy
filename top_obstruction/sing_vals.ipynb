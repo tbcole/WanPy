{
 "cells": [
  {
   "cell_type": "code",
   "execution_count": 37,
   "metadata": {},
   "outputs": [
    {
     "name": "stdout",
     "output_type": "stream",
     "text": [
      "/Users/treycole/Codes/WanPy/top_obstruction\n"
     ]
    }
   ],
   "source": [
    "import os\n",
    "import sys\n",
    "print(os.getcwd())\n",
    "sys.path.append(\"../WanPy\")\n",
    "\n",
    "from WanPy import *\n",
    "from pythtb import *\n",
    "from pythTB_wan import *\n",
    "import models\n",
    "import plotting as plot\n",
    "\n",
    "import numpy as np\n",
    "import matplotlib.pyplot as plt\n",
    "from matplotlib.colors import LogNorm"
   ]
  },
  {
   "cell_type": "code",
   "execution_count": 50,
   "metadata": {},
   "outputs": [
    {
     "name": "stdout",
     "output_type": "stream",
     "text": [
      "---------------------------------------\n",
      "report of tight-binding model\n",
      "---------------------------------------\n",
      "k-space dimension           = 2\n",
      "r-space dimension           = 2\n",
      "number of spin components   = 1\n",
      "periodic directions         = [0, 1]\n",
      "number of orbitals          = 8\n",
      "number of electronic states = 8\n",
      "lattice vectors:\n",
      " #  0  ===>  [     2.0 ,     0.0 ]\n",
      " #  1  ===>  [     1.0 ,  1.7321 ]\n",
      "positions of orbitals:\n",
      " #  0  ===>  [  0.1667 ,  0.1667 ]\n",
      " #  1  ===>  [  0.3333 ,  0.3333 ]\n",
      " #  2  ===>  [  0.1667 ,  0.6667 ]\n",
      " #  3  ===>  [  0.3333 ,  0.8333 ]\n",
      " #  4  ===>  [  0.6667 ,  0.1667 ]\n",
      " #  5  ===>  [  0.8333 ,  0.3333 ]\n",
      " #  6  ===>  [  0.6667 ,  0.6667 ]\n",
      " #  7  ===>  [  0.8333 ,  0.8333 ]\n",
      "site energies:\n",
      " #  0  ===>      -1.0\n",
      " #  1  ===>       1.0\n",
      " #  2  ===>      -1.0\n",
      " #  3  ===>       1.0\n",
      " #  4  ===>      -1.0\n",
      " #  5  ===>       1.0\n",
      " #  6  ===>      -1.0\n",
      " #  7  ===>       1.0\n",
      "hoppings:\n",
      "<  0 | H |  1 + [  0 ,  0 ] >     ===>     -1.0 +     0.0 i\n",
      "<  0 | H |  5 + [ -1 ,  0 ] >     ===>     -1.0 +     0.0 i\n",
      "<  0 | H |  3 + [  0 , -1 ] >     ===>     -1.0 +     0.0 i\n",
      "<  0 | H |  4 + [  0 ,  0 ] >     ===>      0.0 +     0.4 i\n",
      "<  1 | H |  5 + [  0 ,  0 ] >     ===>      0.0 -     0.4 i\n",
      "<  0 | H |  6 + [ -1 ,  0 ] >     ===>      0.0 +     0.4 i\n",
      "<  1 | H |  7 + [ -1 ,  0 ] >     ===>      0.0 -     0.4 i\n",
      "<  0 | H |  2 + [  0 , -1 ] >     ===>      0.0 +     0.4 i\n",
      "<  1 | H |  3 + [  0 , -1 ] >     ===>      0.0 -     0.4 i\n",
      "<  2 | H |  3 + [  0 ,  0 ] >     ===>     -1.0 +     0.0 i\n",
      "<  2 | H |  7 + [ -1 ,  0 ] >     ===>     -1.0 +     0.0 i\n",
      "<  2 | H |  1 + [  0 ,  0 ] >     ===>     -1.0 +     0.0 i\n",
      "<  2 | H |  6 + [  0 ,  0 ] >     ===>      0.0 +     0.4 i\n",
      "<  3 | H |  7 + [  0 ,  0 ] >     ===>      0.0 -     0.4 i\n",
      "<  2 | H |  4 + [ -1 ,  1 ] >     ===>      0.0 +     0.4 i\n",
      "<  3 | H |  5 + [ -1 ,  1 ] >     ===>      0.0 -     0.4 i\n",
      "<  2 | H |  0 + [  0 ,  0 ] >     ===>      0.0 +     0.4 i\n",
      "<  3 | H |  1 + [  0 ,  0 ] >     ===>      0.0 -     0.4 i\n",
      "<  4 | H |  5 + [  0 ,  0 ] >     ===>     -1.0 +     0.0 i\n",
      "<  4 | H |  1 + [  0 ,  0 ] >     ===>     -1.0 +     0.0 i\n",
      "<  4 | H |  7 + [  0 , -1 ] >     ===>     -1.0 +     0.0 i\n",
      "<  4 | H |  0 + [  1 ,  0 ] >     ===>      0.0 +     0.4 i\n",
      "<  5 | H |  1 + [  1 ,  0 ] >     ===>      0.0 -     0.4 i\n",
      "<  4 | H |  2 + [  0 ,  0 ] >     ===>      0.0 +     0.4 i\n",
      "<  5 | H |  3 + [  0 ,  0 ] >     ===>      0.0 -     0.4 i\n",
      "<  4 | H |  6 + [  0 , -1 ] >     ===>      0.0 +     0.4 i\n",
      "<  5 | H |  7 + [  0 , -1 ] >     ===>      0.0 -     0.4 i\n",
      "<  6 | H |  7 + [  0 ,  0 ] >     ===>     -1.0 +     0.0 i\n",
      "<  6 | H |  3 + [  0 ,  0 ] >     ===>     -1.0 +     0.0 i\n",
      "<  6 | H |  5 + [  0 ,  0 ] >     ===>     -1.0 +     0.0 i\n",
      "<  6 | H |  2 + [  1 ,  0 ] >     ===>      0.0 +     0.4 i\n",
      "<  7 | H |  3 + [  1 ,  0 ] >     ===>      0.0 -     0.4 i\n",
      "<  6 | H |  0 + [  0 ,  1 ] >     ===>      0.0 +     0.4 i\n",
      "<  7 | H |  1 + [  0 ,  1 ] >     ===>      0.0 -     0.4 i\n",
      "<  6 | H |  4 + [  0 ,  0 ] >     ===>      0.0 +     0.4 i\n",
      "<  7 | H |  5 + [  0 ,  0 ] >     ===>      0.0 -     0.4 i\n",
      "hopping distances:\n",
      "|  pos(  0 )  - pos(  1 + [  0 ,  0 ] ) |  =    0.5774\n",
      "|  pos(  0 )  - pos(  5 + [ -1 ,  0 ] ) |  =    0.5774\n",
      "|  pos(  0 )  - pos(  3 + [  0 , -1 ] ) |  =    0.5774\n",
      "|  pos(  0 )  - pos(  4 + [  0 ,  0 ] ) |  =       1.0\n",
      "|  pos(  1 )  - pos(  5 + [  0 ,  0 ] ) |  =       1.0\n",
      "|  pos(  0 )  - pos(  6 + [ -1 ,  0 ] ) |  =       1.0\n",
      "|  pos(  1 )  - pos(  7 + [ -1 ,  0 ] ) |  =       1.0\n",
      "|  pos(  0 )  - pos(  2 + [  0 , -1 ] ) |  =       1.0\n",
      "|  pos(  1 )  - pos(  3 + [  0 , -1 ] ) |  =       1.0\n",
      "|  pos(  2 )  - pos(  3 + [  0 ,  0 ] ) |  =    0.5774\n",
      "|  pos(  2 )  - pos(  7 + [ -1 ,  0 ] ) |  =    0.5774\n",
      "|  pos(  2 )  - pos(  1 + [  0 ,  0 ] ) |  =    0.5774\n",
      "|  pos(  2 )  - pos(  6 + [  0 ,  0 ] ) |  =       1.0\n",
      "|  pos(  3 )  - pos(  7 + [  0 ,  0 ] ) |  =       1.0\n",
      "|  pos(  2 )  - pos(  4 + [ -1 ,  1 ] ) |  =       1.0\n",
      "|  pos(  3 )  - pos(  5 + [ -1 ,  1 ] ) |  =       1.0\n",
      "|  pos(  2 )  - pos(  0 + [  0 ,  0 ] ) |  =       1.0\n",
      "|  pos(  3 )  - pos(  1 + [  0 ,  0 ] ) |  =       1.0\n",
      "|  pos(  4 )  - pos(  5 + [  0 ,  0 ] ) |  =    0.5774\n",
      "|  pos(  4 )  - pos(  1 + [  0 ,  0 ] ) |  =    0.5774\n",
      "|  pos(  4 )  - pos(  7 + [  0 , -1 ] ) |  =    0.5774\n",
      "|  pos(  4 )  - pos(  0 + [  1 ,  0 ] ) |  =       1.0\n",
      "|  pos(  5 )  - pos(  1 + [  1 ,  0 ] ) |  =       1.0\n",
      "|  pos(  4 )  - pos(  2 + [  0 ,  0 ] ) |  =       1.0\n",
      "|  pos(  5 )  - pos(  3 + [  0 ,  0 ] ) |  =       1.0\n",
      "|  pos(  4 )  - pos(  6 + [  0 , -1 ] ) |  =       1.0\n",
      "|  pos(  5 )  - pos(  7 + [  0 , -1 ] ) |  =       1.0\n",
      "|  pos(  6 )  - pos(  7 + [  0 ,  0 ] ) |  =    0.5774\n",
      "|  pos(  6 )  - pos(  3 + [  0 ,  0 ] ) |  =    0.5774\n",
      "|  pos(  6 )  - pos(  5 + [  0 ,  0 ] ) |  =    0.5774\n",
      "|  pos(  6 )  - pos(  2 + [  1 ,  0 ] ) |  =       1.0\n",
      "|  pos(  7 )  - pos(  3 + [  1 ,  0 ] ) |  =       1.0\n",
      "|  pos(  6 )  - pos(  0 + [  0 ,  1 ] ) |  =       1.0\n",
      "|  pos(  7 )  - pos(  1 + [  0 ,  1 ] ) |  =       1.0\n",
      "|  pos(  6 )  - pos(  4 + [  0 ,  0 ] ) |  =       1.0\n",
      "|  pos(  7 )  - pos(  5 + [  0 ,  0 ] ) |  =       1.0\n",
      "\n"
     ]
    }
   ],
   "source": [
    "# tight-binding parameters\n",
    "delta = 1\n",
    "# # checkerboard\n",
    "# t0 = 0.4\n",
    "# tprime = 0.5\n",
    "# Haldane\n",
    "t = -1\n",
    "t2 = 0.4\n",
    "\n",
    "n_super_cell = 2\n",
    "model = models.Haldane(delta, t, t2).make_supercell([[n_super_cell, 0], [0, n_super_cell]])\n",
    "# model = models.chessboard(t0, tprime, delta).make_supercell([[n_super_cell, 0], [0, n_super_cell]])\n",
    "model.display()"
   ]
  },
  {
   "cell_type": "code",
   "execution_count": 51,
   "metadata": {},
   "outputs": [
    {
     "name": "stdout",
     "output_type": "stream",
     "text": [
      "Low energy sites: [0 2 4 6]\n",
      "High energy sites: [1 3 5 7]\n",
      "Chern # occupied: -1.0\n",
      "Chern # conduction:  1.0\n"
     ]
    }
   ],
   "source": [
    "low_E_sites = np.arange(0, model.get_num_orbitals(), 2)\n",
    "high_E_sites = np.arange(1, model.get_num_orbitals(), 2)\n",
    "lat_vecs = model.get_lat()\n",
    "orb_vecs = model.get_orb()\n",
    "\n",
    "n_orb = model.get_num_orbitals()\n",
    "n_occ = int(n_orb/2)\n",
    "\n",
    "u_wfs_full = wf_array(model, [20, 20])\n",
    "u_wfs_full.solve_on_grid([0, 0])\n",
    "chern_occ = u_wfs_full.berry_flux([i for i in range(n_occ)])/(2*np.pi)\n",
    "chern_cond = u_wfs_full.berry_flux([i for i in range(n_occ, n_orb)])/(2*np.pi)\n",
    "\n",
    "print(f\"Low energy sites: {low_E_sites}\")\n",
    "print(f\"High energy sites: {high_E_sites}\")\n",
    "print(f\"Chern # occupied: {chern_occ: .1f}\")\n",
    "print(f\"Chern # conduction: {chern_cond: .1f}\")"
   ]
  },
  {
   "cell_type": "code",
   "execution_count": 60,
   "metadata": {},
   "outputs": [
    {
     "name": "stdout",
     "output_type": "stream",
     "text": [
      "# of Wannier functions: 3\n",
      "# of occupied bands: 4\n",
      "Wannier fraction: 0.75\n"
     ]
    }
   ],
   "source": [
    "random = False\n",
    "low_E = False\n",
    "\n",
    "if random:\n",
    "    omit_num = 1\n",
    "    n_tfs = n_occ - omit_num\n",
    "    tf_list = [\"random\", n_tfs]\n",
    "else:\n",
    "    omit_sites = 6\n",
    "    tf_list = list(np.setdiff1d(low_E_sites, [omit_sites])) # delta on lower energy sites omitting the last site\n",
    "    # np.random.choice(low_E_sites, n_tfs, replace=False)\n",
    "    n_tfs = len(tf_list)\n",
    "if low_E:\n",
    "    tf_list = list(low_E_sites)\n",
    "    n_tfs = len(tf_list)\n",
    "\n",
    "Wan_frac = n_tfs/n_occ\n",
    "print(f\"# of Wannier functions: {n_tfs}\")\n",
    "print(f\"# of occupied bands: {n_occ}\")\n",
    "print(f\"Wannier fraction: {Wan_frac}\")"
   ]
  },
  {
   "cell_type": "markdown",
   "metadata": {},
   "source": [
    "k-path"
   ]
  },
  {
   "cell_type": "code",
   "execution_count": 62,
   "metadata": {},
   "outputs": [],
   "source": [
    "path = [[0, 0], [2/3, 1/3], [.5, .5], [1/3, 2/3], [0, 0]]\n",
    "label = (r'$\\Gamma $',r'$K$', r'$M$', r'$K^\\prime$', r'$\\Gamma $')\n",
    "\n",
    "nk = 101\n",
    "(k_vec, k_dist, k_node) = model.k_path(path, nk, report=False)"
   ]
  },
  {
   "cell_type": "code",
   "execution_count": 63,
   "metadata": {},
   "outputs": [],
   "source": [
    "eigvals, eigvecs = model.solve_all(k_vec, eig_vectors=True)\n",
    "eigvecs = np.transpose(eigvecs, axes=(1,0,2))"
   ]
  },
  {
   "cell_type": "code",
   "execution_count": 64,
   "metadata": {},
   "outputs": [],
   "source": [
    "WF = Wannier(model, [20, 20])\n",
    "twfs = WF.get_trial_wfs(tf_list)\n",
    "state_idx = list(range(n_occ))"
   ]
  },
  {
   "cell_type": "code",
   "execution_count": 65,
   "metadata": {},
   "outputs": [],
   "source": [
    "def tf_overlap_mat(psi_wfs, tfs, state_idx):\n",
    "    \"\"\"\n",
    "    Returns A_{k, n, j} = <psi_{n,k} | t_{j}> where psi are Bloch states and t are\n",
    "    the trial wavefunctions.\n",
    "\n",
    "    Args:\n",
    "        psi_wfs (np.array): Bloch eigenstates\n",
    "        tfs (np.array): trial wfs\n",
    "        state_idx (list): band indices to form overlap matrix with\n",
    "\n",
    "    Returns:\n",
    "        A (np.array): overlap matrix\n",
    "    \"\"\"\n",
    "    psi_wfs = np.take(psi_wfs, state_idx, axis=-2)\n",
    "    A = np.einsum(\"...ij, kj -> ...ik\", psi_wfs.conj(), tfs)\n",
    "    return A"
   ]
  },
  {
   "cell_type": "code",
   "execution_count": 66,
   "metadata": {},
   "outputs": [],
   "source": [
    "A = tf_overlap_mat(eigvecs, twfs, state_idx)\n",
    "V, S, Wh = np.linalg.svd(A, full_matrices=False)"
   ]
  },
  {
   "cell_type": "code",
   "execution_count": 67,
   "metadata": {},
   "outputs": [
    {
     "data": {
      "image/png": "[encoded data removed]",
      "text/plain": [
       "<Figure size 640x480 with 1 Axes>"
      ]
     },
     "metadata": {},
     "output_type": "display_data"
    }
   ],
   "source": [
    "# figure for bandstructure\n",
    "fig, ax = plt.subplots()\n",
    "\n",
    "# plot bands\n",
    "for n in range(S.shape[-1]):\n",
    "  ax.plot(k_dist, S[:, n], c='b')\n",
    "\n",
    "# add vertical lines at node positions\n",
    "for n in range(len(k_node)):\n",
    "  ax.axvline(x=k_node[n], linewidth=0.5, color='k')\n",
    "\n",
    "ax.set_xlim(k_node[0], k_node[-1])\n",
    "ax.set_ylim(0,1)\n",
    "ax.set_xticks(k_node)\n",
    "ax.set_xticklabels(label)\n",
    "\n",
    "ax.set_title(\n",
    "  \"Haldane model \\n\"\n",
    "  fr\"$C = {chern_occ: .1f}$, $\\Delta = {delta}$, $t= {t: .2f}, t_2 = {t2: .2f}$\"\n",
    "  )\n",
    "ax.set_xlabel(\"Path in k-space\")\n",
    "ax.set_ylabel(\"Singular values of A\")\n",
    "\n",
    "save_name = f'C={chern_occ:.1f}_Delta={delta}_t={t}_t2={t2}_n_occ={n_occ}_n_tfs={n_tfs}'\n",
    "plt.savefig(f'images/Haldane_2x2SC_{save_name}.png')"
   ]
  },
  {
   "cell_type": "code",
   "execution_count": null,
   "metadata": {},
   "outputs": [],
   "source": []
  }
 ],
 "metadata": {
  "kernelspec": {
   "display_name": "rutgers",
   "language": "python",
   "name": "python3"
  },
  "language_info": {
   "codemirror_mode": {
    "name": "ipython",
    "version": 3
   },
   "file_extension": ".py",
   "mimetype": "text/x-python",
   "name": "python",
   "nbconvert_exporter": "python",
   "pygments_lexer": "ipython3",
   "version": "3.10.14"
  }
 },
 "nbformat": 4,
 "nbformat_minor": 2
}
